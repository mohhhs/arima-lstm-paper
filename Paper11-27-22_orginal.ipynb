{
 "cells": [
  {
   "cell_type": "markdown",
   "id": "3058efd7-a897-40aa-aed1-30d9748ff45f",
   "metadata": {},
   "source": [
    "### Paper 11-27-22\n",
    "\n",
    "https://github.com/cnaimo/hybrid-ARIMA-LSTM-model\n"
   ]
  },
  {
   "cell_type": "code",
   "execution_count": 2,
   "id": "61435661-7aa0-438b-a86d-58cb2902d492",
   "metadata": {},
   "outputs": [],
   "source": [
    "# import \n",
    "\n",
    "import pandas as pd\n",
    "import numpy as np\n",
    "from scipy.stats import kurtosis\n",
    "from pmdarima import auto_arima\n",
    "import pmdarima as pm\n",
    "from sklearn.metrics import mean_squared_error\n",
    "from sklearn.preprocessing import MinMaxScaler\n",
    "from keras.models import Sequential\n",
    "from keras.layers import Dense, LSTM\n",
    "from keras.callbacks import EarlyStopping\n",
    "from talib import abstract\n",
    "import json"
   ]
  },
  {
   "cell_type": "code",
   "execution_count": 3,
   "id": "caac5a7f-f813-4560-aaab-0b8a41e23a0d",
   "metadata": {},
   "outputs": [],
   "source": [
    "def mean_absolute_percentage_error(actual, prediction):\n",
    "    actual = pd.Series(actual)\n",
    "    prediction = pd.Series(prediction)\n",
    "    return 100 * np.mean(np.abs((actual - prediction))/actual)"
   ]
  },
  {
   "cell_type": "code",
   "execution_count": 4,
   "id": "5a622bc0-8b14-478c-9942-6d7b8b7cd4ce",
   "metadata": {},
   "outputs": [],
   "source": [
    "def get_arima(data, train_len, test_len):\n",
    "    # prepare train and test data\n",
    "    data = data.tail(test_len + train_len).reset_index(drop=True)\n",
    "    train = data.head(train_len).values.tolist()\n",
    "    test = data.tail(test_len).values.tolist()\n",
    "\n",
    "    # Initialize model\n",
    "    model = auto_arima(train, max_p=3, max_q=3, seasonal=False, trace=True,\n",
    "                       error_action='ignore', suppress_warnings=True)\n",
    "\n",
    "    # Determine model parameters\n",
    "    model.fit(train)\n",
    "    order = model.get_params()['order']\n",
    "    print('ARIMA order:', order, '\\n')\n",
    "\n",
    "    # Genereate predictions\n",
    "    prediction = []\n",
    "    for i in range(len(test)):\n",
    "        model = pm.ARIMA(order=order)\n",
    "        model.fit(train)\n",
    "        print('working on', i+1, 'of', test_len, '-- ' + str(int(100 * (i + 1) / test_len)) + '% complete')\n",
    "        prediction.append(model.predict()[0])\n",
    "        train.append(test[i])\n",
    "\n",
    "    # Generate error data\n",
    "    mse = mean_squared_error(test, prediction)\n",
    "    rmse = mse ** 0.5\n",
    "    mape = mean_absolute_percentage_error(pd.Series(test), pd.Series(prediction))\n",
    "    return prediction, mse, rmse, mape\n",
    "\n"
   ]
  },
  {
   "cell_type": "code",
   "execution_count": 5,
   "id": "cab64452-375b-4292-9eb1-d45e0ce34bd9",
   "metadata": {},
   "outputs": [],
   "source": [
    "def get_lstm(data, train_len, test_len, lstm_len=4):\n",
    "    # prepare train and test data\n",
    "    data = data.tail(test_len + train_len).reset_index(drop=True)\n",
    "    dataset = np.reshape(data.values, (len(data), 1))\n",
    "    scaler = MinMaxScaler(feature_range=(0, 1))\n",
    "    dataset_scaled = scaler.fit_transform(dataset)\n",
    "    x_train = []\n",
    "    y_train = []\n",
    "    x_test = []\n",
    "\n",
    "    for i in range(lstm_len, train_len):\n",
    "        x_train.append(dataset_scaled[i - lstm_len:i, 0])\n",
    "        y_train.append(dataset_scaled[i, 0])\n",
    "    for i in range(train_len, len(dataset_scaled)):\n",
    "        x_test.append(dataset_scaled[i - lstm_len:i, 0])\n",
    "\n",
    "    x_train = np.array(x_train)\n",
    "    y_train = np.array(y_train)\n",
    "    x_train = np.reshape(x_train, (x_train.shape[0], x_train.shape[1], 1))\n",
    "    x_test = np.array(x_test)\n",
    "    x_test = np.reshape(x_test, (x_test.shape[0], x_test.shape[1], 1))\n",
    "\n",
    "    # Set up & fit LSTM RNN\n",
    "    model = Sequential()\n",
    "    model.add(LSTM(units=lstm_len, return_sequences=True, input_shape=(x_train.shape[1], 1)))\n",
    "    model.add(LSTM(units=int(lstm_len/2)))\n",
    "    model.add(Dense(1, activation='sigmoid'))\n",
    "\n",
    "    model.compile(loss='mean_squared_error', optimizer='adam')\n",
    "    early_stopping = EarlyStopping(monitor='loss', mode='min', verbose=1, patience=5)\n",
    "    model.fit(x_train, y_train, epochs=500, batch_size=1, verbose=2, callbacks=[early_stopping])\n",
    "\n",
    "    # Generate predictions\n",
    "    prediction = model.predict(x_test)\n",
    "    prediction = scaler.inverse_transform(prediction).tolist()\n",
    "\n",
    "    output = []\n",
    "    for i in range(len(prediction)):\n",
    "        output.extend(prediction[i])\n",
    "    prediction = output\n",
    "\n",
    "    # Generate error data\n",
    "    mse = mean_squared_error(data.tail(len(prediction)).values, prediction)\n",
    "    rmse = mse ** 0.5\n",
    "    mape = mean_absolute_percentage_error(data.tail(len(prediction)).reset_index(drop=True), pd.Series(prediction))\n",
    "    return prediction, mse, rmse, mape\n"
   ]
  },
  {
   "cell_type": "code",
   "execution_count": 6,
   "id": "a68a8aa8-3559-4e75-972b-470778bf2643",
   "metadata": {},
   "outputs": [
    {
     "ename": "NameError",
     "evalue": "name 'talib_moving_averages' is not defined",
     "output_type": "error",
     "traceback": [
      "\u001b[1;31m---------------------------------------------------------------------------\u001b[0m",
      "\u001b[1;31mNameError\u001b[0m                                 Traceback (most recent call last)",
      "Cell \u001b[1;32mIn [6], line 2\u001b[0m\n\u001b[0;32m      1\u001b[0m A\u001b[39m=\u001b[39m\u001b[39m1\u001b[39m\n\u001b[1;32m----> 2\u001b[0m talib_moving_averages[A]\n\u001b[0;32m      3\u001b[0m functions[\u001b[39m'\u001b[39m\u001b[39mKAMA\u001b[39m\u001b[39m'\u001b[39m](data, \u001b[39mint\u001b[39m(optimized_period[\u001b[39m'\u001b[39m\u001b[39mKAMA\u001b[39m\u001b[39m'\u001b[39m]))\n\u001b[0;32m      4\u001b[0m \u001b[39m# type(int(optimized_period['KAMA']))\u001b[39;00m\n\u001b[0;32m      5\u001b[0m \u001b[39m# functions[ma](data, optimized_period[ma])\u001b[39;00m\n",
      "\u001b[1;31mNameError\u001b[0m: name 'talib_moving_averages' is not defined"
     ]
    }
   ],
   "source": [
    "A=1\n",
    "talib_moving_averages[A]\n",
    "functions['KAMA'](data, int(optimized_period['KAMA']))\n",
    "# type(int(optimized_period['KAMA']))\n",
    "# functions[ma](data, optimized_period[ma])"
   ]
  },
  {
   "cell_type": "code",
   "execution_count": 10,
   "id": "07c3e119-5055-4844-9589-0eedea275d56",
   "metadata": {},
   "outputs": [
    {
     "name": "stdout",
     "output_type": "stream",
     "text": [
      "EMA is not viable, best K greater or less than 3 +/-5%\n",
      "WMA is not viable, best K greater or less than 3 +/-5%\n",
      "DEMA is not viable, best K greater or less than 3 +/-5%\n",
      "TEMA is not viable, best K greater or less than 3 +/-5%\n",
      "\n",
      "Optimized periods: {'SMA': 53, 'KAMA': 95, 'MIDPOINT': 81, 'MIDPRICE': 54, 'T3': 82, 'TRIMA': 72}\n",
      "\n",
      "Working on SMA predictions\n",
      "Performing stepwise search to minimize aic\n",
      " ARIMA(2,2,2)(0,0,0)[0] intercept   : AIC=-4836.223, Time=1.98 sec\n",
      " ARIMA(0,2,0)(0,0,0)[0] intercept   : AIC=-4828.276, Time=0.79 sec\n",
      " ARIMA(1,2,0)(0,0,0)[0] intercept   : AIC=-4832.699, Time=0.74 sec\n",
      " ARIMA(0,2,1)(0,0,0)[0] intercept   : AIC=-4833.726, Time=1.22 sec\n",
      " ARIMA(0,2,0)(0,0,0)[0]             : AIC=-4829.783, Time=0.08 sec\n",
      " ARIMA(1,2,2)(0,0,0)[0] intercept   : AIC=-4834.591, Time=1.00 sec\n",
      " ARIMA(2,2,1)(0,0,0)[0] intercept   : AIC=-4834.538, Time=1.16 sec\n",
      " ARIMA(3,2,2)(0,0,0)[0] intercept   : AIC=-4834.525, Time=3.18 sec\n",
      " ARIMA(2,2,3)(0,0,0)[0] intercept   : AIC=-4837.127, Time=3.33 sec\n",
      " ARIMA(1,2,3)(0,0,0)[0] intercept   : AIC=-4834.224, Time=0.40 sec\n",
      " ARIMA(3,2,3)(0,0,0)[0] intercept   : AIC=-4830.508, Time=2.38 sec\n",
      " ARIMA(2,2,3)(0,0,0)[0]             : AIC=-4836.449, Time=0.53 sec\n",
      "\n",
      "Best model:  ARIMA(2,2,3)(0,0,0)[0] intercept\n",
      "Total fit time: 16.800 seconds\n",
      "ARIMA order: (2, 2, 3) \n",
      "\n"
     ]
    },
    {
     "name": "stderr",
     "output_type": "stream",
     "text": [
      "C:\\Users\\Mya_L\\AppData\\Roaming\\Python\\Python39\\site-packages\\statsmodels\\base\\model.py:604: ConvergenceWarning: Maximum Likelihood optimization failed to converge. Check mle_retvals\n",
      "  warnings.warn(\"Maximum Likelihood optimization failed to \"\n"
     ]
    },
    {
     "name": "stdout",
     "output_type": "stream",
     "text": [
      "working on 1 of 252 -- 0% complete\n"
     ]
    },
    {
     "name": "stderr",
     "output_type": "stream",
     "text": [
      "C:\\Users\\Mya_L\\AppData\\Roaming\\Python\\Python39\\site-packages\\statsmodels\\base\\model.py:604: ConvergenceWarning: Maximum Likelihood optimization failed to converge. Check mle_retvals\n",
      "  warnings.warn(\"Maximum Likelihood optimization failed to \"\n"
     ]
    },
    {
     "name": "stdout",
     "output_type": "stream",
     "text": [
      "working on 2 of 252 -- 0% complete\n"
     ]
    },
    {
     "name": "stderr",
     "output_type": "stream",
     "text": [
      "C:\\Users\\Mya_L\\AppData\\Roaming\\Python\\Python39\\site-packages\\statsmodels\\base\\model.py:604: ConvergenceWarning: Maximum Likelihood optimization failed to converge. Check mle_retvals\n",
      "  warnings.warn(\"Maximum Likelihood optimization failed to \"\n"
     ]
    },
    {
     "name": "stdout",
     "output_type": "stream",
     "text": [
      "working on 3 of 252 -- 1% complete\n"
     ]
    },
    {
     "name": "stderr",
     "output_type": "stream",
     "text": [
      "C:\\Users\\Mya_L\\AppData\\Roaming\\Python\\Python39\\site-packages\\statsmodels\\base\\model.py:604: ConvergenceWarning: Maximum Likelihood optimization failed to converge. Check mle_retvals\n",
      "  warnings.warn(\"Maximum Likelihood optimization failed to \"\n"
     ]
    },
    {
     "name": "stdout",
     "output_type": "stream",
     "text": [
      "working on 4 of 252 -- 1% complete\n"
     ]
    },
    {
     "name": "stderr",
     "output_type": "stream",
     "text": [
      "C:\\Users\\Mya_L\\AppData\\Roaming\\Python\\Python39\\site-packages\\statsmodels\\base\\model.py:604: ConvergenceWarning: Maximum Likelihood optimization failed to converge. Check mle_retvals\n",
      "  warnings.warn(\"Maximum Likelihood optimization failed to \"\n"
     ]
    },
    {
     "name": "stdout",
     "output_type": "stream",
     "text": [
      "working on 5 of 252 -- 1% complete\n",
      "working on 6 of 252 -- 2% complete\n"
     ]
    },
    {
     "name": "stderr",
     "output_type": "stream",
     "text": [
      "C:\\Users\\Mya_L\\AppData\\Roaming\\Python\\Python39\\site-packages\\statsmodels\\base\\model.py:604: ConvergenceWarning: Maximum Likelihood optimization failed to converge. Check mle_retvals\n",
      "  warnings.warn(\"Maximum Likelihood optimization failed to \"\n"
     ]
    },
    {
     "name": "stdout",
     "output_type": "stream",
     "text": [
      "working on 7 of 252 -- 2% complete\n",
      "working on 8 of 252 -- 3% complete\n"
     ]
    },
    {
     "name": "stderr",
     "output_type": "stream",
     "text": [
      "C:\\Users\\Mya_L\\AppData\\Roaming\\Python\\Python39\\site-packages\\statsmodels\\base\\model.py:604: ConvergenceWarning: Maximum Likelihood optimization failed to converge. Check mle_retvals\n",
      "  warnings.warn(\"Maximum Likelihood optimization failed to \"\n"
     ]
    },
    {
     "name": "stdout",
     "output_type": "stream",
     "text": [
      "working on 9 of 252 -- 3% complete\n"
     ]
    },
    {
     "name": "stderr",
     "output_type": "stream",
     "text": [
      "C:\\Users\\Mya_L\\AppData\\Roaming\\Python\\Python39\\site-packages\\statsmodels\\base\\model.py:604: ConvergenceWarning: Maximum Likelihood optimization failed to converge. Check mle_retvals\n",
      "  warnings.warn(\"Maximum Likelihood optimization failed to \"\n"
     ]
    },
    {
     "name": "stdout",
     "output_type": "stream",
     "text": [
      "working on 10 of 252 -- 3% complete\n"
     ]
    },
    {
     "name": "stderr",
     "output_type": "stream",
     "text": [
      "C:\\Users\\Mya_L\\AppData\\Roaming\\Python\\Python39\\site-packages\\statsmodels\\base\\model.py:604: ConvergenceWarning: Maximum Likelihood optimization failed to converge. Check mle_retvals\n",
      "  warnings.warn(\"Maximum Likelihood optimization failed to \"\n"
     ]
    },
    {
     "name": "stdout",
     "output_type": "stream",
     "text": [
      "working on 11 of 252 -- 4% complete\n",
      "working on 12 of 252 -- 4% complete\n",
      "working on 13 of 252 -- 5% complete\n",
      "working on 14 of 252 -- 5% complete\n",
      "working on 15 of 252 -- 5% complete\n",
      "working on 16 of 252 -- 6% complete\n"
     ]
    },
    {
     "name": "stderr",
     "output_type": "stream",
     "text": [
      "C:\\Users\\Mya_L\\AppData\\Roaming\\Python\\Python39\\site-packages\\statsmodels\\base\\model.py:604: ConvergenceWarning: Maximum Likelihood optimization failed to converge. Check mle_retvals\n",
      "  warnings.warn(\"Maximum Likelihood optimization failed to \"\n"
     ]
    },
    {
     "name": "stdout",
     "output_type": "stream",
     "text": [
      "working on 17 of 252 -- 6% complete\n",
      "working on 18 of 252 -- 7% complete\n"
     ]
    },
    {
     "name": "stderr",
     "output_type": "stream",
     "text": [
      "C:\\Users\\Mya_L\\AppData\\Roaming\\Python\\Python39\\site-packages\\statsmodels\\base\\model.py:604: ConvergenceWarning: Maximum Likelihood optimization failed to converge. Check mle_retvals\n",
      "  warnings.warn(\"Maximum Likelihood optimization failed to \"\n"
     ]
    },
    {
     "name": "stdout",
     "output_type": "stream",
     "text": [
      "working on 19 of 252 -- 7% complete\n",
      "working on 20 of 252 -- 7% complete\n",
      "working on 21 of 252 -- 8% complete\n",
      "working on 22 of 252 -- 8% complete\n"
     ]
    },
    {
     "name": "stderr",
     "output_type": "stream",
     "text": [
      "C:\\Users\\Mya_L\\AppData\\Roaming\\Python\\Python39\\site-packages\\statsmodels\\base\\model.py:604: ConvergenceWarning: Maximum Likelihood optimization failed to converge. Check mle_retvals\n",
      "  warnings.warn(\"Maximum Likelihood optimization failed to \"\n"
     ]
    },
    {
     "name": "stdout",
     "output_type": "stream",
     "text": [
      "working on 23 of 252 -- 9% complete\n"
     ]
    },
    {
     "name": "stderr",
     "output_type": "stream",
     "text": [
      "C:\\Users\\Mya_L\\AppData\\Roaming\\Python\\Python39\\site-packages\\statsmodels\\base\\model.py:604: ConvergenceWarning: Maximum Likelihood optimization failed to converge. Check mle_retvals\n",
      "  warnings.warn(\"Maximum Likelihood optimization failed to \"\n"
     ]
    },
    {
     "name": "stdout",
     "output_type": "stream",
     "text": [
      "working on 24 of 252 -- 9% complete\n",
      "working on 25 of 252 -- 9% complete\n",
      "working on 26 of 252 -- 10% complete\n",
      "working on 27 of 252 -- 10% complete\n",
      "working on 28 of 252 -- 11% complete\n"
     ]
    },
    {
     "name": "stderr",
     "output_type": "stream",
     "text": [
      "C:\\Users\\Mya_L\\AppData\\Roaming\\Python\\Python39\\site-packages\\statsmodels\\base\\model.py:604: ConvergenceWarning: Maximum Likelihood optimization failed to converge. Check mle_retvals\n",
      "  warnings.warn(\"Maximum Likelihood optimization failed to \"\n"
     ]
    },
    {
     "name": "stdout",
     "output_type": "stream",
     "text": [
      "working on 29 of 252 -- 11% complete\n"
     ]
    },
    {
     "name": "stderr",
     "output_type": "stream",
     "text": [
      "C:\\Users\\Mya_L\\AppData\\Roaming\\Python\\Python39\\site-packages\\statsmodels\\base\\model.py:604: ConvergenceWarning: Maximum Likelihood optimization failed to converge. Check mle_retvals\n",
      "  warnings.warn(\"Maximum Likelihood optimization failed to \"\n"
     ]
    },
    {
     "name": "stdout",
     "output_type": "stream",
     "text": [
      "working on 30 of 252 -- 11% complete\n"
     ]
    },
    {
     "name": "stderr",
     "output_type": "stream",
     "text": [
      "C:\\Users\\Mya_L\\AppData\\Roaming\\Python\\Python39\\site-packages\\statsmodels\\base\\model.py:604: ConvergenceWarning: Maximum Likelihood optimization failed to converge. Check mle_retvals\n",
      "  warnings.warn(\"Maximum Likelihood optimization failed to \"\n"
     ]
    },
    {
     "name": "stdout",
     "output_type": "stream",
     "text": [
      "working on 31 of 252 -- 12% complete\n"
     ]
    },
    {
     "name": "stderr",
     "output_type": "stream",
     "text": [
      "C:\\Users\\Mya_L\\AppData\\Roaming\\Python\\Python39\\site-packages\\statsmodels\\base\\model.py:604: ConvergenceWarning: Maximum Likelihood optimization failed to converge. Check mle_retvals\n",
      "  warnings.warn(\"Maximum Likelihood optimization failed to \"\n"
     ]
    },
    {
     "name": "stdout",
     "output_type": "stream",
     "text": [
      "working on 32 of 252 -- 12% complete\n",
      "working on 33 of 252 -- 13% complete\n"
     ]
    },
    {
     "name": "stderr",
     "output_type": "stream",
     "text": [
      "C:\\Users\\Mya_L\\AppData\\Roaming\\Python\\Python39\\site-packages\\statsmodels\\base\\model.py:604: ConvergenceWarning: Maximum Likelihood optimization failed to converge. Check mle_retvals\n",
      "  warnings.warn(\"Maximum Likelihood optimization failed to \"\n"
     ]
    },
    {
     "name": "stdout",
     "output_type": "stream",
     "text": [
      "working on 34 of 252 -- 13% complete\n",
      "working on 35 of 252 -- 13% complete\n"
     ]
    },
    {
     "name": "stderr",
     "output_type": "stream",
     "text": [
      "C:\\Users\\Mya_L\\AppData\\Roaming\\Python\\Python39\\site-packages\\statsmodels\\base\\model.py:604: ConvergenceWarning: Maximum Likelihood optimization failed to converge. Check mle_retvals\n",
      "  warnings.warn(\"Maximum Likelihood optimization failed to \"\n"
     ]
    },
    {
     "name": "stdout",
     "output_type": "stream",
     "text": [
      "working on 36 of 252 -- 14% complete\n"
     ]
    },
    {
     "name": "stderr",
     "output_type": "stream",
     "text": [
      "C:\\Users\\Mya_L\\AppData\\Roaming\\Python\\Python39\\site-packages\\statsmodels\\base\\model.py:604: ConvergenceWarning: Maximum Likelihood optimization failed to converge. Check mle_retvals\n",
      "  warnings.warn(\"Maximum Likelihood optimization failed to \"\n"
     ]
    },
    {
     "name": "stdout",
     "output_type": "stream",
     "text": [
      "working on 37 of 252 -- 14% complete\n",
      "working on 38 of 252 -- 15% complete\n"
     ]
    },
    {
     "name": "stderr",
     "output_type": "stream",
     "text": [
      "C:\\Users\\Mya_L\\AppData\\Roaming\\Python\\Python39\\site-packages\\statsmodels\\base\\model.py:604: ConvergenceWarning: Maximum Likelihood optimization failed to converge. Check mle_retvals\n",
      "  warnings.warn(\"Maximum Likelihood optimization failed to \"\n"
     ]
    },
    {
     "name": "stdout",
     "output_type": "stream",
     "text": [
      "working on 39 of 252 -- 15% complete\n",
      "working on 40 of 252 -- 15% complete\n"
     ]
    },
    {
     "name": "stderr",
     "output_type": "stream",
     "text": [
      "C:\\Users\\Mya_L\\AppData\\Roaming\\Python\\Python39\\site-packages\\statsmodels\\base\\model.py:604: ConvergenceWarning: Maximum Likelihood optimization failed to converge. Check mle_retvals\n",
      "  warnings.warn(\"Maximum Likelihood optimization failed to \"\n"
     ]
    },
    {
     "name": "stdout",
     "output_type": "stream",
     "text": [
      "working on 41 of 252 -- 16% complete\n"
     ]
    },
    {
     "name": "stderr",
     "output_type": "stream",
     "text": [
      "C:\\Users\\Mya_L\\AppData\\Roaming\\Python\\Python39\\site-packages\\statsmodels\\base\\model.py:604: ConvergenceWarning: Maximum Likelihood optimization failed to converge. Check mle_retvals\n",
      "  warnings.warn(\"Maximum Likelihood optimization failed to \"\n"
     ]
    },
    {
     "name": "stdout",
     "output_type": "stream",
     "text": [
      "working on 42 of 252 -- 16% complete\n"
     ]
    },
    {
     "name": "stderr",
     "output_type": "stream",
     "text": [
      "C:\\Users\\Mya_L\\AppData\\Roaming\\Python\\Python39\\site-packages\\statsmodels\\base\\model.py:604: ConvergenceWarning: Maximum Likelihood optimization failed to converge. Check mle_retvals\n",
      "  warnings.warn(\"Maximum Likelihood optimization failed to \"\n"
     ]
    },
    {
     "name": "stdout",
     "output_type": "stream",
     "text": [
      "working on 43 of 252 -- 17% complete\n"
     ]
    },
    {
     "name": "stderr",
     "output_type": "stream",
     "text": [
      "C:\\Users\\Mya_L\\AppData\\Roaming\\Python\\Python39\\site-packages\\statsmodels\\base\\model.py:604: ConvergenceWarning: Maximum Likelihood optimization failed to converge. Check mle_retvals\n",
      "  warnings.warn(\"Maximum Likelihood optimization failed to \"\n"
     ]
    },
    {
     "name": "stdout",
     "output_type": "stream",
     "text": [
      "working on 44 of 252 -- 17% complete\n"
     ]
    },
    {
     "name": "stderr",
     "output_type": "stream",
     "text": [
      "C:\\Users\\Mya_L\\AppData\\Roaming\\Python\\Python39\\site-packages\\statsmodels\\base\\model.py:604: ConvergenceWarning: Maximum Likelihood optimization failed to converge. Check mle_retvals\n",
      "  warnings.warn(\"Maximum Likelihood optimization failed to \"\n"
     ]
    },
    {
     "name": "stdout",
     "output_type": "stream",
     "text": [
      "working on 45 of 252 -- 17% complete\n"
     ]
    },
    {
     "name": "stderr",
     "output_type": "stream",
     "text": [
      "C:\\Users\\Mya_L\\AppData\\Roaming\\Python\\Python39\\site-packages\\statsmodels\\base\\model.py:604: ConvergenceWarning: Maximum Likelihood optimization failed to converge. Check mle_retvals\n",
      "  warnings.warn(\"Maximum Likelihood optimization failed to \"\n"
     ]
    },
    {
     "name": "stdout",
     "output_type": "stream",
     "text": [
      "working on 46 of 252 -- 18% complete\n",
      "working on 47 of 252 -- 18% complete\n",
      "working on 48 of 252 -- 19% complete\n",
      "working on 49 of 252 -- 19% complete\n"
     ]
    },
    {
     "name": "stderr",
     "output_type": "stream",
     "text": [
      "C:\\Users\\Mya_L\\AppData\\Roaming\\Python\\Python39\\site-packages\\statsmodels\\base\\model.py:604: ConvergenceWarning: Maximum Likelihood optimization failed to converge. Check mle_retvals\n",
      "  warnings.warn(\"Maximum Likelihood optimization failed to \"\n"
     ]
    },
    {
     "name": "stdout",
     "output_type": "stream",
     "text": [
      "working on 50 of 252 -- 19% complete\n"
     ]
    },
    {
     "name": "stderr",
     "output_type": "stream",
     "text": [
      "C:\\Users\\Mya_L\\AppData\\Roaming\\Python\\Python39\\site-packages\\statsmodels\\base\\model.py:604: ConvergenceWarning: Maximum Likelihood optimization failed to converge. Check mle_retvals\n",
      "  warnings.warn(\"Maximum Likelihood optimization failed to \"\n"
     ]
    },
    {
     "name": "stdout",
     "output_type": "stream",
     "text": [
      "working on 51 of 252 -- 20% complete\n"
     ]
    },
    {
     "name": "stderr",
     "output_type": "stream",
     "text": [
      "C:\\Users\\Mya_L\\AppData\\Roaming\\Python\\Python39\\site-packages\\statsmodels\\base\\model.py:604: ConvergenceWarning: Maximum Likelihood optimization failed to converge. Check mle_retvals\n",
      "  warnings.warn(\"Maximum Likelihood optimization failed to \"\n"
     ]
    },
    {
     "name": "stdout",
     "output_type": "stream",
     "text": [
      "working on 52 of 252 -- 20% complete\n"
     ]
    },
    {
     "name": "stderr",
     "output_type": "stream",
     "text": [
      "C:\\Users\\Mya_L\\AppData\\Roaming\\Python\\Python39\\site-packages\\statsmodels\\base\\model.py:604: ConvergenceWarning: Maximum Likelihood optimization failed to converge. Check mle_retvals\n",
      "  warnings.warn(\"Maximum Likelihood optimization failed to \"\n"
     ]
    },
    {
     "name": "stdout",
     "output_type": "stream",
     "text": [
      "working on 53 of 252 -- 21% complete\n"
     ]
    },
    {
     "name": "stderr",
     "output_type": "stream",
     "text": [
      "C:\\Users\\Mya_L\\AppData\\Roaming\\Python\\Python39\\site-packages\\statsmodels\\base\\model.py:604: ConvergenceWarning: Maximum Likelihood optimization failed to converge. Check mle_retvals\n",
      "  warnings.warn(\"Maximum Likelihood optimization failed to \"\n"
     ]
    },
    {
     "name": "stdout",
     "output_type": "stream",
     "text": [
      "working on 54 of 252 -- 21% complete\n"
     ]
    },
    {
     "name": "stderr",
     "output_type": "stream",
     "text": [
      "C:\\Users\\Mya_L\\AppData\\Roaming\\Python\\Python39\\site-packages\\statsmodels\\base\\model.py:604: ConvergenceWarning: Maximum Likelihood optimization failed to converge. Check mle_retvals\n",
      "  warnings.warn(\"Maximum Likelihood optimization failed to \"\n"
     ]
    },
    {
     "name": "stdout",
     "output_type": "stream",
     "text": [
      "working on 55 of 252 -- 21% complete\n"
     ]
    },
    {
     "name": "stderr",
     "output_type": "stream",
     "text": [
      "C:\\Users\\Mya_L\\AppData\\Roaming\\Python\\Python39\\site-packages\\statsmodels\\base\\model.py:604: ConvergenceWarning: Maximum Likelihood optimization failed to converge. Check mle_retvals\n",
      "  warnings.warn(\"Maximum Likelihood optimization failed to \"\n"
     ]
    },
    {
     "name": "stdout",
     "output_type": "stream",
     "text": [
      "working on 56 of 252 -- 22% complete\n",
      "working on 57 of 252 -- 22% complete\n"
     ]
    },
    {
     "name": "stderr",
     "output_type": "stream",
     "text": [
      "C:\\Users\\Mya_L\\AppData\\Roaming\\Python\\Python39\\site-packages\\statsmodels\\base\\model.py:604: ConvergenceWarning: Maximum Likelihood optimization failed to converge. Check mle_retvals\n",
      "  warnings.warn(\"Maximum Likelihood optimization failed to \"\n"
     ]
    },
    {
     "name": "stdout",
     "output_type": "stream",
     "text": [
      "working on 58 of 252 -- 23% complete\n"
     ]
    },
    {
     "name": "stderr",
     "output_type": "stream",
     "text": [
      "C:\\Users\\Mya_L\\AppData\\Roaming\\Python\\Python39\\site-packages\\statsmodels\\base\\model.py:604: ConvergenceWarning: Maximum Likelihood optimization failed to converge. Check mle_retvals\n",
      "  warnings.warn(\"Maximum Likelihood optimization failed to \"\n"
     ]
    },
    {
     "name": "stdout",
     "output_type": "stream",
     "text": [
      "working on 59 of 252 -- 23% complete\n",
      "working on 60 of 252 -- 23% complete\n",
      "working on 61 of 252 -- 24% complete\n",
      "working on 62 of 252 -- 24% complete\n",
      "working on 63 of 252 -- 25% complete\n",
      "working on 64 of 252 -- 25% complete\n",
      "working on 65 of 252 -- 25% complete\n",
      "working on 66 of 252 -- 26% complete\n",
      "working on 67 of 252 -- 26% complete\n",
      "working on 68 of 252 -- 26% complete\n",
      "working on 69 of 252 -- 27% complete\n",
      "working on 70 of 252 -- 27% complete\n"
     ]
    },
    {
     "name": "stderr",
     "output_type": "stream",
     "text": [
      "C:\\Users\\Mya_L\\AppData\\Roaming\\Python\\Python39\\site-packages\\statsmodels\\base\\model.py:604: ConvergenceWarning: Maximum Likelihood optimization failed to converge. Check mle_retvals\n",
      "  warnings.warn(\"Maximum Likelihood optimization failed to \"\n"
     ]
    },
    {
     "name": "stdout",
     "output_type": "stream",
     "text": [
      "working on 71 of 252 -- 28% complete\n"
     ]
    },
    {
     "name": "stderr",
     "output_type": "stream",
     "text": [
      "C:\\Users\\Mya_L\\AppData\\Roaming\\Python\\Python39\\site-packages\\statsmodels\\base\\model.py:604: ConvergenceWarning: Maximum Likelihood optimization failed to converge. Check mle_retvals\n",
      "  warnings.warn(\"Maximum Likelihood optimization failed to \"\n"
     ]
    },
    {
     "name": "stdout",
     "output_type": "stream",
     "text": [
      "working on 72 of 252 -- 28% complete\n"
     ]
    },
    {
     "name": "stderr",
     "output_type": "stream",
     "text": [
      "C:\\Users\\Mya_L\\AppData\\Roaming\\Python\\Python39\\site-packages\\statsmodels\\base\\model.py:604: ConvergenceWarning: Maximum Likelihood optimization failed to converge. Check mle_retvals\n",
      "  warnings.warn(\"Maximum Likelihood optimization failed to \"\n"
     ]
    },
    {
     "name": "stdout",
     "output_type": "stream",
     "text": [
      "working on 73 of 252 -- 28% complete\n",
      "working on 74 of 252 -- 29% complete\n",
      "working on 75 of 252 -- 29% complete\n",
      "working on 76 of 252 -- 30% complete\n",
      "working on 77 of 252 -- 30% complete\n",
      "working on 78 of 252 -- 30% complete\n"
     ]
    },
    {
     "name": "stderr",
     "output_type": "stream",
     "text": [
      "C:\\Users\\Mya_L\\AppData\\Roaming\\Python\\Python39\\site-packages\\statsmodels\\base\\model.py:604: ConvergenceWarning: Maximum Likelihood optimization failed to converge. Check mle_retvals\n",
      "  warnings.warn(\"Maximum Likelihood optimization failed to \"\n"
     ]
    },
    {
     "name": "stdout",
     "output_type": "stream",
     "text": [
      "working on 79 of 252 -- 31% complete\n"
     ]
    },
    {
     "name": "stderr",
     "output_type": "stream",
     "text": [
      "C:\\Users\\Mya_L\\AppData\\Roaming\\Python\\Python39\\site-packages\\statsmodels\\base\\model.py:604: ConvergenceWarning: Maximum Likelihood optimization failed to converge. Check mle_retvals\n",
      "  warnings.warn(\"Maximum Likelihood optimization failed to \"\n"
     ]
    },
    {
     "name": "stdout",
     "output_type": "stream",
     "text": [
      "working on 80 of 252 -- 31% complete\n"
     ]
    },
    {
     "name": "stderr",
     "output_type": "stream",
     "text": [
      "C:\\Users\\Mya_L\\AppData\\Roaming\\Python\\Python39\\site-packages\\statsmodels\\base\\model.py:604: ConvergenceWarning: Maximum Likelihood optimization failed to converge. Check mle_retvals\n",
      "  warnings.warn(\"Maximum Likelihood optimization failed to \"\n"
     ]
    },
    {
     "name": "stdout",
     "output_type": "stream",
     "text": [
      "working on 81 of 252 -- 32% complete\n"
     ]
    },
    {
     "name": "stderr",
     "output_type": "stream",
     "text": [
      "C:\\Users\\Mya_L\\AppData\\Roaming\\Python\\Python39\\site-packages\\statsmodels\\base\\model.py:604: ConvergenceWarning: Maximum Likelihood optimization failed to converge. Check mle_retvals\n",
      "  warnings.warn(\"Maximum Likelihood optimization failed to \"\n"
     ]
    },
    {
     "name": "stdout",
     "output_type": "stream",
     "text": [
      "working on 82 of 252 -- 32% complete\n",
      "working on 83 of 252 -- 32% complete\n",
      "working on 84 of 252 -- 33% complete\n"
     ]
    },
    {
     "name": "stderr",
     "output_type": "stream",
     "text": [
      "C:\\Users\\Mya_L\\AppData\\Roaming\\Python\\Python39\\site-packages\\statsmodels\\base\\model.py:604: ConvergenceWarning: Maximum Likelihood optimization failed to converge. Check mle_retvals\n",
      "  warnings.warn(\"Maximum Likelihood optimization failed to \"\n"
     ]
    },
    {
     "name": "stdout",
     "output_type": "stream",
     "text": [
      "working on 85 of 252 -- 33% complete\n",
      "working on 86 of 252 -- 34% complete\n",
      "working on 87 of 252 -- 34% complete\n",
      "working on 88 of 252 -- 34% complete\n"
     ]
    },
    {
     "name": "stderr",
     "output_type": "stream",
     "text": [
      "C:\\Users\\Mya_L\\AppData\\Roaming\\Python\\Python39\\site-packages\\statsmodels\\base\\model.py:604: ConvergenceWarning: Maximum Likelihood optimization failed to converge. Check mle_retvals\n",
      "  warnings.warn(\"Maximum Likelihood optimization failed to \"\n"
     ]
    },
    {
     "name": "stdout",
     "output_type": "stream",
     "text": [
      "working on 89 of 252 -- 35% complete\n"
     ]
    },
    {
     "name": "stderr",
     "output_type": "stream",
     "text": [
      "C:\\Users\\Mya_L\\AppData\\Roaming\\Python\\Python39\\site-packages\\statsmodels\\base\\model.py:604: ConvergenceWarning: Maximum Likelihood optimization failed to converge. Check mle_retvals\n",
      "  warnings.warn(\"Maximum Likelihood optimization failed to \"\n"
     ]
    },
    {
     "name": "stdout",
     "output_type": "stream",
     "text": [
      "working on 90 of 252 -- 35% complete\n"
     ]
    },
    {
     "name": "stderr",
     "output_type": "stream",
     "text": [
      "C:\\Users\\Mya_L\\AppData\\Roaming\\Python\\Python39\\site-packages\\statsmodels\\base\\model.py:604: ConvergenceWarning: Maximum Likelihood optimization failed to converge. Check mle_retvals\n",
      "  warnings.warn(\"Maximum Likelihood optimization failed to \"\n"
     ]
    },
    {
     "name": "stdout",
     "output_type": "stream",
     "text": [
      "working on 91 of 252 -- 36% complete\n"
     ]
    },
    {
     "name": "stderr",
     "output_type": "stream",
     "text": [
      "C:\\Users\\Mya_L\\AppData\\Roaming\\Python\\Python39\\site-packages\\statsmodels\\base\\model.py:604: ConvergenceWarning: Maximum Likelihood optimization failed to converge. Check mle_retvals\n",
      "  warnings.warn(\"Maximum Likelihood optimization failed to \"\n"
     ]
    },
    {
     "name": "stdout",
     "output_type": "stream",
     "text": [
      "working on 92 of 252 -- 36% complete\n"
     ]
    },
    {
     "name": "stderr",
     "output_type": "stream",
     "text": [
      "C:\\Users\\Mya_L\\AppData\\Roaming\\Python\\Python39\\site-packages\\statsmodels\\base\\model.py:604: ConvergenceWarning: Maximum Likelihood optimization failed to converge. Check mle_retvals\n",
      "  warnings.warn(\"Maximum Likelihood optimization failed to \"\n"
     ]
    },
    {
     "name": "stdout",
     "output_type": "stream",
     "text": [
      "working on 93 of 252 -- 36% complete\n",
      "working on 94 of 252 -- 37% complete\n"
     ]
    },
    {
     "name": "stderr",
     "output_type": "stream",
     "text": [
      "C:\\Users\\Mya_L\\AppData\\Roaming\\Python\\Python39\\site-packages\\statsmodels\\base\\model.py:604: ConvergenceWarning: Maximum Likelihood optimization failed to converge. Check mle_retvals\n",
      "  warnings.warn(\"Maximum Likelihood optimization failed to \"\n"
     ]
    },
    {
     "name": "stdout",
     "output_type": "stream",
     "text": [
      "working on 95 of 252 -- 37% complete\n"
     ]
    },
    {
     "name": "stderr",
     "output_type": "stream",
     "text": [
      "C:\\Users\\Mya_L\\AppData\\Roaming\\Python\\Python39\\site-packages\\statsmodels\\base\\model.py:604: ConvergenceWarning: Maximum Likelihood optimization failed to converge. Check mle_retvals\n",
      "  warnings.warn(\"Maximum Likelihood optimization failed to \"\n"
     ]
    },
    {
     "name": "stdout",
     "output_type": "stream",
     "text": [
      "working on 96 of 252 -- 38% complete\n",
      "working on 97 of 252 -- 38% complete\n"
     ]
    },
    {
     "name": "stderr",
     "output_type": "stream",
     "text": [
      "C:\\Users\\Mya_L\\AppData\\Roaming\\Python\\Python39\\site-packages\\statsmodels\\base\\model.py:604: ConvergenceWarning: Maximum Likelihood optimization failed to converge. Check mle_retvals\n",
      "  warnings.warn(\"Maximum Likelihood optimization failed to \"\n"
     ]
    },
    {
     "name": "stdout",
     "output_type": "stream",
     "text": [
      "working on 98 of 252 -- 38% complete\n"
     ]
    },
    {
     "name": "stderr",
     "output_type": "stream",
     "text": [
      "C:\\Users\\Mya_L\\AppData\\Roaming\\Python\\Python39\\site-packages\\statsmodels\\base\\model.py:604: ConvergenceWarning: Maximum Likelihood optimization failed to converge. Check mle_retvals\n",
      "  warnings.warn(\"Maximum Likelihood optimization failed to \"\n"
     ]
    },
    {
     "name": "stdout",
     "output_type": "stream",
     "text": [
      "working on 99 of 252 -- 39% complete\n",
      "working on 100 of 252 -- 39% complete\n",
      "working on 101 of 252 -- 40% complete\n",
      "working on 102 of 252 -- 40% complete\n",
      "working on 103 of 252 -- 40% complete\n",
      "working on 104 of 252 -- 41% complete\n"
     ]
    },
    {
     "name": "stderr",
     "output_type": "stream",
     "text": [
      "C:\\Users\\Mya_L\\AppData\\Roaming\\Python\\Python39\\site-packages\\statsmodels\\base\\model.py:604: ConvergenceWarning: Maximum Likelihood optimization failed to converge. Check mle_retvals\n",
      "  warnings.warn(\"Maximum Likelihood optimization failed to \"\n"
     ]
    },
    {
     "name": "stdout",
     "output_type": "stream",
     "text": [
      "working on 105 of 252 -- 41% complete\n",
      "working on 106 of 252 -- 42% complete\n",
      "working on 107 of 252 -- 42% complete\n"
     ]
    },
    {
     "name": "stderr",
     "output_type": "stream",
     "text": [
      "C:\\Users\\Mya_L\\AppData\\Roaming\\Python\\Python39\\site-packages\\statsmodels\\base\\model.py:604: ConvergenceWarning: Maximum Likelihood optimization failed to converge. Check mle_retvals\n",
      "  warnings.warn(\"Maximum Likelihood optimization failed to \"\n"
     ]
    },
    {
     "name": "stdout",
     "output_type": "stream",
     "text": [
      "working on 108 of 252 -- 42% complete\n",
      "working on 109 of 252 -- 43% complete\n",
      "working on 110 of 252 -- 43% complete\n",
      "working on 111 of 252 -- 44% complete\n",
      "working on 112 of 252 -- 44% complete\n",
      "working on 113 of 252 -- 44% complete\n",
      "working on 114 of 252 -- 45% complete\n",
      "working on 115 of 252 -- 45% complete\n",
      "working on 116 of 252 -- 46% complete\n"
     ]
    },
    {
     "name": "stderr",
     "output_type": "stream",
     "text": [
      "C:\\Users\\Mya_L\\AppData\\Roaming\\Python\\Python39\\site-packages\\statsmodels\\base\\model.py:604: ConvergenceWarning: Maximum Likelihood optimization failed to converge. Check mle_retvals\n",
      "  warnings.warn(\"Maximum Likelihood optimization failed to \"\n"
     ]
    },
    {
     "name": "stdout",
     "output_type": "stream",
     "text": [
      "working on 117 of 252 -- 46% complete\n"
     ]
    },
    {
     "name": "stderr",
     "output_type": "stream",
     "text": [
      "C:\\Users\\Mya_L\\AppData\\Roaming\\Python\\Python39\\site-packages\\statsmodels\\base\\model.py:604: ConvergenceWarning: Maximum Likelihood optimization failed to converge. Check mle_retvals\n",
      "  warnings.warn(\"Maximum Likelihood optimization failed to \"\n"
     ]
    },
    {
     "name": "stdout",
     "output_type": "stream",
     "text": [
      "working on 118 of 252 -- 46% complete\n"
     ]
    },
    {
     "name": "stderr",
     "output_type": "stream",
     "text": [
      "C:\\Users\\Mya_L\\AppData\\Roaming\\Python\\Python39\\site-packages\\statsmodels\\base\\model.py:604: ConvergenceWarning: Maximum Likelihood optimization failed to converge. Check mle_retvals\n",
      "  warnings.warn(\"Maximum Likelihood optimization failed to \"\n"
     ]
    },
    {
     "name": "stdout",
     "output_type": "stream",
     "text": [
      "working on 119 of 252 -- 47% complete\n"
     ]
    },
    {
     "name": "stderr",
     "output_type": "stream",
     "text": [
      "C:\\Users\\Mya_L\\AppData\\Roaming\\Python\\Python39\\site-packages\\statsmodels\\base\\model.py:604: ConvergenceWarning: Maximum Likelihood optimization failed to converge. Check mle_retvals\n",
      "  warnings.warn(\"Maximum Likelihood optimization failed to \"\n"
     ]
    },
    {
     "name": "stdout",
     "output_type": "stream",
     "text": [
      "working on 120 of 252 -- 47% complete\n"
     ]
    },
    {
     "name": "stderr",
     "output_type": "stream",
     "text": [
      "C:\\Users\\Mya_L\\AppData\\Roaming\\Python\\Python39\\site-packages\\statsmodels\\base\\model.py:604: ConvergenceWarning: Maximum Likelihood optimization failed to converge. Check mle_retvals\n",
      "  warnings.warn(\"Maximum Likelihood optimization failed to \"\n"
     ]
    },
    {
     "name": "stdout",
     "output_type": "stream",
     "text": [
      "working on 121 of 252 -- 48% complete\n",
      "working on 122 of 252 -- 48% complete\n",
      "working on 123 of 252 -- 48% complete\n",
      "working on 124 of 252 -- 49% complete\n",
      "working on 125 of 252 -- 49% complete\n",
      "working on 126 of 252 -- 50% complete\n",
      "working on 127 of 252 -- 50% complete\n",
      "working on 128 of 252 -- 50% complete\n",
      "working on 129 of 252 -- 51% complete\n",
      "working on 130 of 252 -- 51% complete\n",
      "working on 131 of 252 -- 51% complete\n",
      "working on 132 of 252 -- 52% complete\n",
      "working on 133 of 252 -- 52% complete\n",
      "working on 134 of 252 -- 53% complete\n"
     ]
    },
    {
     "name": "stderr",
     "output_type": "stream",
     "text": [
      "C:\\Users\\Mya_L\\AppData\\Roaming\\Python\\Python39\\site-packages\\statsmodels\\base\\model.py:604: ConvergenceWarning: Maximum Likelihood optimization failed to converge. Check mle_retvals\n",
      "  warnings.warn(\"Maximum Likelihood optimization failed to \"\n"
     ]
    },
    {
     "name": "stdout",
     "output_type": "stream",
     "text": [
      "working on 135 of 252 -- 53% complete\n",
      "working on 136 of 252 -- 53% complete\n",
      "working on 137 of 252 -- 54% complete\n",
      "working on 138 of 252 -- 54% complete\n",
      "working on 139 of 252 -- 55% complete\n",
      "working on 140 of 252 -- 55% complete\n",
      "working on 141 of 252 -- 55% complete\n",
      "working on 142 of 252 -- 56% complete\n",
      "working on 143 of 252 -- 56% complete\n",
      "working on 144 of 252 -- 57% complete\n",
      "working on 145 of 252 -- 57% complete\n",
      "working on 146 of 252 -- 57% complete\n",
      "working on 147 of 252 -- 58% complete\n",
      "working on 148 of 252 -- 58% complete\n",
      "working on 149 of 252 -- 59% complete\n",
      "working on 150 of 252 -- 59% complete\n",
      "working on 151 of 252 -- 59% complete\n",
      "working on 152 of 252 -- 60% complete\n",
      "working on 153 of 252 -- 60% complete\n",
      "working on 154 of 252 -- 61% complete\n"
     ]
    },
    {
     "name": "stderr",
     "output_type": "stream",
     "text": [
      "C:\\Users\\Mya_L\\AppData\\Roaming\\Python\\Python39\\site-packages\\statsmodels\\base\\model.py:604: ConvergenceWarning: Maximum Likelihood optimization failed to converge. Check mle_retvals\n",
      "  warnings.warn(\"Maximum Likelihood optimization failed to \"\n"
     ]
    },
    {
     "name": "stdout",
     "output_type": "stream",
     "text": [
      "working on 155 of 252 -- 61% complete\n",
      "working on 156 of 252 -- 61% complete\n",
      "working on 157 of 252 -- 62% complete\n",
      "working on 158 of 252 -- 62% complete\n",
      "working on 159 of 252 -- 63% complete\n",
      "working on 160 of 252 -- 63% complete\n",
      "working on 161 of 252 -- 63% complete\n",
      "working on 162 of 252 -- 64% complete\n",
      "working on 163 of 252 -- 64% complete\n",
      "working on 164 of 252 -- 65% complete\n",
      "working on 165 of 252 -- 65% complete\n",
      "working on 166 of 252 -- 65% complete\n",
      "working on 167 of 252 -- 66% complete\n",
      "working on 168 of 252 -- 66% complete\n",
      "working on 169 of 252 -- 67% complete\n",
      "working on 170 of 252 -- 67% complete\n",
      "working on 171 of 252 -- 67% complete\n",
      "working on 172 of 252 -- 68% complete\n",
      "working on 173 of 252 -- 68% complete\n",
      "working on 174 of 252 -- 69% complete\n",
      "working on 175 of 252 -- 69% complete\n",
      "working on 176 of 252 -- 69% complete\n",
      "working on 177 of 252 -- 70% complete\n",
      "working on 178 of 252 -- 70% complete\n",
      "working on 179 of 252 -- 71% complete\n",
      "working on 180 of 252 -- 71% complete\n",
      "working on 181 of 252 -- 71% complete\n",
      "working on 182 of 252 -- 72% complete\n",
      "working on 183 of 252 -- 72% complete\n",
      "working on 184 of 252 -- 73% complete\n",
      "working on 185 of 252 -- 73% complete\n",
      "working on 186 of 252 -- 73% complete\n",
      "working on 187 of 252 -- 74% complete\n",
      "working on 188 of 252 -- 74% complete\n",
      "working on 189 of 252 -- 75% complete\n",
      "working on 190 of 252 -- 75% complete\n"
     ]
    },
    {
     "name": "stderr",
     "output_type": "stream",
     "text": [
      "C:\\Users\\Mya_L\\AppData\\Roaming\\Python\\Python39\\site-packages\\statsmodels\\base\\model.py:604: ConvergenceWarning: Maximum Likelihood optimization failed to converge. Check mle_retvals\n",
      "  warnings.warn(\"Maximum Likelihood optimization failed to \"\n"
     ]
    },
    {
     "name": "stdout",
     "output_type": "stream",
     "text": [
      "working on 191 of 252 -- 75% complete\n",
      "working on 192 of 252 -- 76% complete\n",
      "working on 193 of 252 -- 76% complete\n",
      "working on 194 of 252 -- 76% complete\n",
      "working on 195 of 252 -- 77% complete\n",
      "working on 196 of 252 -- 77% complete\n"
     ]
    },
    {
     "name": "stderr",
     "output_type": "stream",
     "text": [
      "C:\\Users\\Mya_L\\AppData\\Roaming\\Python\\Python39\\site-packages\\statsmodels\\base\\model.py:604: ConvergenceWarning: Maximum Likelihood optimization failed to converge. Check mle_retvals\n",
      "  warnings.warn(\"Maximum Likelihood optimization failed to \"\n"
     ]
    },
    {
     "name": "stdout",
     "output_type": "stream",
     "text": [
      "working on 197 of 252 -- 78% complete\n"
     ]
    },
    {
     "name": "stderr",
     "output_type": "stream",
     "text": [
      "C:\\Users\\Mya_L\\AppData\\Roaming\\Python\\Python39\\site-packages\\statsmodels\\base\\model.py:604: ConvergenceWarning: Maximum Likelihood optimization failed to converge. Check mle_retvals\n",
      "  warnings.warn(\"Maximum Likelihood optimization failed to \"\n"
     ]
    },
    {
     "name": "stdout",
     "output_type": "stream",
     "text": [
      "working on 198 of 252 -- 78% complete\n",
      "working on 199 of 252 -- 78% complete\n"
     ]
    },
    {
     "name": "stderr",
     "output_type": "stream",
     "text": [
      "C:\\Users\\Mya_L\\AppData\\Roaming\\Python\\Python39\\site-packages\\statsmodels\\base\\model.py:604: ConvergenceWarning: Maximum Likelihood optimization failed to converge. Check mle_retvals\n",
      "  warnings.warn(\"Maximum Likelihood optimization failed to \"\n"
     ]
    },
    {
     "name": "stdout",
     "output_type": "stream",
     "text": [
      "working on 200 of 252 -- 79% complete\n",
      "working on 201 of 252 -- 79% complete\n",
      "working on 202 of 252 -- 80% complete\n",
      "working on 203 of 252 -- 80% complete\n",
      "working on 204 of 252 -- 80% complete\n",
      "working on 205 of 252 -- 81% complete\n",
      "working on 206 of 252 -- 81% complete\n",
      "working on 207 of 252 -- 82% complete\n",
      "working on 208 of 252 -- 82% complete\n",
      "working on 209 of 252 -- 82% complete\n",
      "working on 210 of 252 -- 83% complete\n",
      "working on 211 of 252 -- 83% complete\n",
      "working on 212 of 252 -- 84% complete\n",
      "working on 213 of 252 -- 84% complete\n",
      "working on 214 of 252 -- 84% complete\n",
      "working on 215 of 252 -- 85% complete\n",
      "working on 216 of 252 -- 85% complete\n",
      "working on 217 of 252 -- 86% complete\n"
     ]
    },
    {
     "name": "stderr",
     "output_type": "stream",
     "text": [
      "C:\\Users\\Mya_L\\AppData\\Roaming\\Python\\Python39\\site-packages\\statsmodels\\base\\model.py:604: ConvergenceWarning: Maximum Likelihood optimization failed to converge. Check mle_retvals\n",
      "  warnings.warn(\"Maximum Likelihood optimization failed to \"\n"
     ]
    },
    {
     "name": "stdout",
     "output_type": "stream",
     "text": [
      "working on 218 of 252 -- 86% complete\n",
      "working on 219 of 252 -- 86% complete\n",
      "working on 220 of 252 -- 87% complete\n",
      "working on 221 of 252 -- 87% complete\n",
      "working on 222 of 252 -- 88% complete\n",
      "working on 223 of 252 -- 88% complete\n",
      "working on 224 of 252 -- 88% complete\n",
      "working on 225 of 252 -- 89% complete\n"
     ]
    },
    {
     "name": "stderr",
     "output_type": "stream",
     "text": [
      "C:\\Users\\Mya_L\\AppData\\Roaming\\Python\\Python39\\site-packages\\statsmodels\\base\\model.py:604: ConvergenceWarning: Maximum Likelihood optimization failed to converge. Check mle_retvals\n",
      "  warnings.warn(\"Maximum Likelihood optimization failed to \"\n"
     ]
    },
    {
     "name": "stdout",
     "output_type": "stream",
     "text": [
      "working on 226 of 252 -- 89% complete\n",
      "working on 227 of 252 -- 90% complete\n",
      "working on 228 of 252 -- 90% complete\n",
      "working on 229 of 252 -- 90% complete\n",
      "working on 230 of 252 -- 91% complete\n",
      "working on 231 of 252 -- 91% complete\n"
     ]
    },
    {
     "name": "stderr",
     "output_type": "stream",
     "text": [
      "C:\\Users\\Mya_L\\AppData\\Roaming\\Python\\Python39\\site-packages\\statsmodels\\base\\model.py:604: ConvergenceWarning: Maximum Likelihood optimization failed to converge. Check mle_retvals\n",
      "  warnings.warn(\"Maximum Likelihood optimization failed to \"\n"
     ]
    },
    {
     "name": "stdout",
     "output_type": "stream",
     "text": [
      "working on 232 of 252 -- 92% complete\n",
      "working on 233 of 252 -- 92% complete\n"
     ]
    },
    {
     "name": "stderr",
     "output_type": "stream",
     "text": [
      "C:\\Users\\Mya_L\\AppData\\Roaming\\Python\\Python39\\site-packages\\statsmodels\\base\\model.py:604: ConvergenceWarning: Maximum Likelihood optimization failed to converge. Check mle_retvals\n",
      "  warnings.warn(\"Maximum Likelihood optimization failed to \"\n"
     ]
    },
    {
     "name": "stdout",
     "output_type": "stream",
     "text": [
      "working on 234 of 252 -- 92% complete\n",
      "working on 235 of 252 -- 93% complete\n",
      "working on 236 of 252 -- 93% complete\n",
      "working on 237 of 252 -- 94% complete\n",
      "working on 238 of 252 -- 94% complete\n",
      "working on 239 of 252 -- 94% complete\n",
      "working on 240 of 252 -- 95% complete\n",
      "working on 241 of 252 -- 95% complete\n",
      "working on 242 of 252 -- 96% complete\n",
      "working on 243 of 252 -- 96% complete\n",
      "working on 244 of 252 -- 96% complete\n",
      "working on 245 of 252 -- 97% complete\n"
     ]
    },
    {
     "name": "stderr",
     "output_type": "stream",
     "text": [
      "C:\\Users\\Mya_L\\AppData\\Roaming\\Python\\Python39\\site-packages\\statsmodels\\base\\model.py:604: ConvergenceWarning: Maximum Likelihood optimization failed to converge. Check mle_retvals\n",
      "  warnings.warn(\"Maximum Likelihood optimization failed to \"\n"
     ]
    },
    {
     "name": "stdout",
     "output_type": "stream",
     "text": [
      "working on 246 of 252 -- 97% complete\n",
      "working on 247 of 252 -- 98% complete\n",
      "working on 248 of 252 -- 98% complete\n",
      "working on 249 of 252 -- 98% complete\n",
      "working on 250 of 252 -- 99% complete\n",
      "working on 251 of 252 -- 99% complete\n",
      "working on 252 of 252 -- 100% complete\n",
      "Epoch 1/500\n",
      "996/996 - 8s - loss: 0.0105 - 8s/epoch - 8ms/step\n",
      "Epoch 2/500\n",
      "996/996 - 4s - loss: 0.0039 - 4s/epoch - 4ms/step\n",
      "Epoch 3/500\n",
      "996/996 - 4s - loss: 0.0026 - 4s/epoch - 4ms/step\n",
      "Epoch 4/500\n",
      "996/996 - 4s - loss: 0.0023 - 4s/epoch - 4ms/step\n",
      "Epoch 5/500\n",
      "996/996 - 4s - loss: 0.0021 - 4s/epoch - 4ms/step\n",
      "Epoch 6/500\n",
      "996/996 - 4s - loss: 0.0019 - 4s/epoch - 4ms/step\n",
      "Epoch 7/500\n",
      "996/996 - 4s - loss: 0.0018 - 4s/epoch - 4ms/step\n",
      "Epoch 8/500\n",
      "996/996 - 4s - loss: 0.0016 - 4s/epoch - 4ms/step\n",
      "Epoch 9/500\n",
      "996/996 - 4s - loss: 0.0015 - 4s/epoch - 4ms/step\n",
      "Epoch 10/500\n",
      "996/996 - 5s - loss: 0.0015 - 5s/epoch - 5ms/step\n",
      "Epoch 11/500\n",
      "996/996 - 4s - loss: 0.0014 - 4s/epoch - 4ms/step\n",
      "Epoch 12/500\n",
      "996/996 - 4s - loss: 0.0014 - 4s/epoch - 4ms/step\n",
      "Epoch 13/500\n",
      "996/996 - 4s - loss: 0.0013 - 4s/epoch - 4ms/step\n",
      "Epoch 14/500\n",
      "996/996 - 4s - loss: 0.0013 - 4s/epoch - 4ms/step\n",
      "Epoch 15/500\n",
      "996/996 - 4s - loss: 0.0012 - 4s/epoch - 4ms/step\n",
      "Epoch 16/500\n",
      "996/996 - 5s - loss: 0.0012 - 5s/epoch - 5ms/step\n",
      "Epoch 17/500\n",
      "996/996 - 5s - loss: 0.0012 - 5s/epoch - 5ms/step\n",
      "Epoch 18/500\n",
      "996/996 - 4s - loss: 0.0012 - 4s/epoch - 4ms/step\n",
      "Epoch 19/500\n",
      "996/996 - 4s - loss: 0.0011 - 4s/epoch - 4ms/step\n",
      "Epoch 20/500\n",
      "996/996 - 4s - loss: 0.0011 - 4s/epoch - 4ms/step\n",
      "Epoch 21/500\n",
      "996/996 - 5s - loss: 0.0011 - 5s/epoch - 5ms/step\n",
      "Epoch 22/500\n",
      "996/996 - 4s - loss: 0.0011 - 4s/epoch - 4ms/step\n",
      "Epoch 23/500\n",
      "996/996 - 4s - loss: 0.0010 - 4s/epoch - 4ms/step\n",
      "Epoch 24/500\n",
      "996/996 - 4s - loss: 0.0011 - 4s/epoch - 4ms/step\n",
      "Epoch 25/500\n",
      "996/996 - 5s - loss: 0.0010 - 5s/epoch - 5ms/step\n",
      "Epoch 26/500\n",
      "996/996 - 4s - loss: 9.7697e-04 - 4s/epoch - 4ms/step\n",
      "Epoch 27/500\n",
      "996/996 - 4s - loss: 9.6749e-04 - 4s/epoch - 4ms/step\n",
      "Epoch 28/500\n",
      "996/996 - 4s - loss: 9.4735e-04 - 4s/epoch - 4ms/step\n",
      "Epoch 29/500\n",
      "996/996 - 4s - loss: 9.1976e-04 - 4s/epoch - 4ms/step\n",
      "Epoch 30/500\n",
      "996/996 - 4s - loss: 9.6729e-04 - 4s/epoch - 4ms/step\n",
      "Epoch 31/500\n",
      "996/996 - 4s - loss: 8.9252e-04 - 4s/epoch - 4ms/step\n",
      "Epoch 32/500\n",
      "996/996 - 4s - loss: 9.0756e-04 - 4s/epoch - 4ms/step\n",
      "Epoch 33/500\n",
      "996/996 - 4s - loss: 8.7973e-04 - 4s/epoch - 4ms/step\n",
      "Epoch 34/500\n",
      "996/996 - 4s - loss: 8.6820e-04 - 4s/epoch - 4ms/step\n",
      "Epoch 35/500\n",
      "996/996 - 4s - loss: 8.7762e-04 - 4s/epoch - 4ms/step\n",
      "Epoch 36/500\n",
      "996/996 - 5s - loss: 8.4918e-04 - 5s/epoch - 5ms/step\n",
      "Epoch 37/500\n",
      "996/996 - 4s - loss: 8.4372e-04 - 4s/epoch - 4ms/step\n",
      "Epoch 38/500\n",
      "996/996 - 4s - loss: 8.4911e-04 - 4s/epoch - 4ms/step\n",
      "Epoch 39/500\n",
      "996/996 - 4s - loss: 8.2999e-04 - 4s/epoch - 4ms/step\n",
      "Epoch 40/500\n",
      "996/996 - 5s - loss: 8.1724e-04 - 5s/epoch - 5ms/step\n",
      "Epoch 41/500\n",
      "996/996 - 4s - loss: 7.9726e-04 - 4s/epoch - 4ms/step\n",
      "Epoch 42/500\n",
      "996/996 - 4s - loss: 7.9808e-04 - 4s/epoch - 4ms/step\n",
      "Epoch 43/500\n",
      "996/996 - 4s - loss: 8.1380e-04 - 4s/epoch - 4ms/step\n",
      "Epoch 44/500\n",
      "996/996 - 5s - loss: 7.8717e-04 - 5s/epoch - 5ms/step\n",
      "Epoch 45/500\n",
      "996/996 - 4s - loss: 7.9911e-04 - 4s/epoch - 4ms/step\n",
      "Epoch 46/500\n",
      "996/996 - 4s - loss: 8.0164e-04 - 4s/epoch - 4ms/step\n",
      "Epoch 47/500\n",
      "996/996 - 4s - loss: 7.7040e-04 - 4s/epoch - 4ms/step\n",
      "Epoch 48/500\n",
      "996/996 - 5s - loss: 7.9639e-04 - 5s/epoch - 5ms/step\n",
      "Epoch 49/500\n",
      "996/996 - 4s - loss: 7.7517e-04 - 4s/epoch - 4ms/step\n",
      "Epoch 50/500\n",
      "996/996 - 4s - loss: 7.6947e-04 - 4s/epoch - 4ms/step\n",
      "Epoch 51/500\n",
      "996/996 - 7s - loss: 7.8297e-04 - 7s/epoch - 7ms/step\n",
      "Epoch 52/500\n",
      "996/996 - 7s - loss: 7.5990e-04 - 7s/epoch - 7ms/step\n",
      "Epoch 53/500\n",
      "996/996 - 5s - loss: 7.6512e-04 - 5s/epoch - 5ms/step\n",
      "Epoch 54/500\n",
      "996/996 - 5s - loss: 7.6664e-04 - 5s/epoch - 5ms/step\n",
      "Epoch 55/500\n",
      "996/996 - 4s - loss: 7.5521e-04 - 4s/epoch - 4ms/step\n",
      "Epoch 56/500\n",
      "996/996 - 4s - loss: 7.6837e-04 - 4s/epoch - 4ms/step\n",
      "Epoch 57/500\n",
      "996/996 - 5s - loss: 7.6001e-04 - 5s/epoch - 5ms/step\n",
      "Epoch 58/500\n",
      "996/996 - 4s - loss: 7.5613e-04 - 4s/epoch - 4ms/step\n",
      "Epoch 59/500\n",
      "996/996 - 4s - loss: 7.6227e-04 - 4s/epoch - 4ms/step\n",
      "Epoch 60/500\n",
      "996/996 - 4s - loss: 7.5592e-04 - 4s/epoch - 4ms/step\n",
      "Epoch 60: early stopping\n",
      "8/8 [==============================] - 2s 3ms/step\n",
      "\n",
      "Working on KAMA predictions\n",
      "Performing stepwise search to minimize aic\n",
      " ARIMA(2,2,2)(0,0,0)[0] intercept   : AIC=-4271.708, Time=0.63 sec\n",
      " ARIMA(0,2,0)(0,0,0)[0] intercept   : AIC=-4184.279, Time=0.16 sec\n",
      " ARIMA(1,2,0)(0,0,0)[0] intercept   : AIC=-4269.252, Time=0.16 sec\n",
      " ARIMA(0,2,1)(0,0,0)[0] intercept   : AIC=-4286.123, Time=0.16 sec\n",
      " ARIMA(0,2,0)(0,0,0)[0]             : AIC=-4185.905, Time=0.11 sec\n",
      " ARIMA(1,2,1)(0,0,0)[0] intercept   : AIC=-4284.706, Time=0.71 sec\n",
      " ARIMA(0,2,2)(0,0,0)[0] intercept   : AIC=-4284.768, Time=0.82 sec\n",
      " ARIMA(1,2,2)(0,0,0)[0] intercept   : AIC=-4282.186, Time=1.52 sec\n",
      " ARIMA(0,2,1)(0,0,0)[0]             : AIC=-4287.131, Time=0.10 sec\n",
      " ARIMA(1,2,1)(0,0,0)[0]             : AIC=-4285.669, Time=0.23 sec\n",
      " ARIMA(0,2,2)(0,0,0)[0]             : AIC=-4285.728, Time=0.26 sec\n",
      " ARIMA(1,2,0)(0,0,0)[0]             : AIC=-4270.556, Time=0.10 sec\n",
      " ARIMA(1,2,2)(0,0,0)[0]             : AIC=-4283.199, Time=0.55 sec\n",
      "\n",
      "Best model:  ARIMA(0,2,1)(0,0,0)[0]          \n",
      "Total fit time: 5.553 seconds\n",
      "ARIMA order: (0, 2, 1) \n",
      "\n",
      "working on 1 of 252 -- 0% complete\n",
      "working on 2 of 252 -- 0% complete\n",
      "working on 3 of 252 -- 1% complete\n",
      "working on 4 of 252 -- 1% complete\n",
      "working on 5 of 252 -- 1% complete\n",
      "working on 6 of 252 -- 2% complete\n",
      "working on 7 of 252 -- 2% complete\n",
      "working on 8 of 252 -- 3% complete\n",
      "working on 9 of 252 -- 3% complete\n",
      "working on 10 of 252 -- 3% complete\n",
      "working on 11 of 252 -- 4% complete\n",
      "working on 12 of 252 -- 4% complete\n",
      "working on 13 of 252 -- 5% complete\n",
      "working on 14 of 252 -- 5% complete\n",
      "working on 15 of 252 -- 5% complete\n",
      "working on 16 of 252 -- 6% complete\n",
      "working on 17 of 252 -- 6% complete\n",
      "working on 18 of 252 -- 7% complete\n",
      "working on 19 of 252 -- 7% complete\n",
      "working on 20 of 252 -- 7% complete\n",
      "working on 21 of 252 -- 8% complete\n",
      "working on 22 of 252 -- 8% complete\n",
      "working on 23 of 252 -- 9% complete\n",
      "working on 24 of 252 -- 9% complete\n",
      "working on 25 of 252 -- 9% complete\n",
      "working on 26 of 252 -- 10% complete\n",
      "working on 27 of 252 -- 10% complete\n",
      "working on 28 of 252 -- 11% complete\n",
      "working on 29 of 252 -- 11% complete\n",
      "working on 30 of 252 -- 11% complete\n",
      "working on 31 of 252 -- 12% complete\n",
      "working on 32 of 252 -- 12% complete\n",
      "working on 33 of 252 -- 13% complete\n",
      "working on 34 of 252 -- 13% complete\n",
      "working on 35 of 252 -- 13% complete\n",
      "working on 36 of 252 -- 14% complete\n",
      "working on 37 of 252 -- 14% complete\n",
      "working on 38 of 252 -- 15% complete\n",
      "working on 39 of 252 -- 15% complete\n",
      "working on 40 of 252 -- 15% complete\n",
      "working on 41 of 252 -- 16% complete\n",
      "working on 42 of 252 -- 16% complete\n",
      "working on 43 of 252 -- 17% complete\n",
      "working on 44 of 252 -- 17% complete\n",
      "working on 45 of 252 -- 17% complete\n",
      "working on 46 of 252 -- 18% complete\n",
      "working on 47 of 252 -- 18% complete\n",
      "working on 48 of 252 -- 19% complete\n",
      "working on 49 of 252 -- 19% complete\n",
      "working on 50 of 252 -- 19% complete\n",
      "working on 51 of 252 -- 20% complete\n",
      "working on 52 of 252 -- 20% complete\n",
      "working on 53 of 252 -- 21% complete\n",
      "working on 54 of 252 -- 21% complete\n",
      "working on 55 of 252 -- 21% complete\n",
      "working on 56 of 252 -- 22% complete\n",
      "working on 57 of 252 -- 22% complete\n",
      "working on 58 of 252 -- 23% complete\n",
      "working on 59 of 252 -- 23% complete\n",
      "working on 60 of 252 -- 23% complete\n",
      "working on 61 of 252 -- 24% complete\n",
      "working on 62 of 252 -- 24% complete\n",
      "working on 63 of 252 -- 25% complete\n",
      "working on 64 of 252 -- 25% complete\n",
      "working on 65 of 252 -- 25% complete\n",
      "working on 66 of 252 -- 26% complete\n",
      "working on 67 of 252 -- 26% complete\n",
      "working on 68 of 252 -- 26% complete\n",
      "working on 69 of 252 -- 27% complete\n",
      "working on 70 of 252 -- 27% complete\n",
      "working on 71 of 252 -- 28% complete\n",
      "working on 72 of 252 -- 28% complete\n",
      "working on 73 of 252 -- 28% complete\n",
      "working on 74 of 252 -- 29% complete\n",
      "working on 75 of 252 -- 29% complete\n",
      "working on 76 of 252 -- 30% complete\n",
      "working on 77 of 252 -- 30% complete\n",
      "working on 78 of 252 -- 30% complete\n",
      "working on 79 of 252 -- 31% complete\n",
      "working on 80 of 252 -- 31% complete\n",
      "working on 81 of 252 -- 32% complete\n",
      "working on 82 of 252 -- 32% complete\n",
      "working on 83 of 252 -- 32% complete\n",
      "working on 84 of 252 -- 33% complete\n",
      "working on 85 of 252 -- 33% complete\n",
      "working on 86 of 252 -- 34% complete\n",
      "working on 87 of 252 -- 34% complete\n",
      "working on 88 of 252 -- 34% complete\n",
      "working on 89 of 252 -- 35% complete\n",
      "working on 90 of 252 -- 35% complete\n",
      "working on 91 of 252 -- 36% complete\n",
      "working on 92 of 252 -- 36% complete\n",
      "working on 93 of 252 -- 36% complete\n",
      "working on 94 of 252 -- 37% complete\n",
      "working on 95 of 252 -- 37% complete\n",
      "working on 96 of 252 -- 38% complete\n",
      "working on 97 of 252 -- 38% complete\n",
      "working on 98 of 252 -- 38% complete\n",
      "working on 99 of 252 -- 39% complete\n",
      "working on 100 of 252 -- 39% complete\n",
      "working on 101 of 252 -- 40% complete\n",
      "working on 102 of 252 -- 40% complete\n",
      "working on 103 of 252 -- 40% complete\n",
      "working on 104 of 252 -- 41% complete\n",
      "working on 105 of 252 -- 41% complete\n",
      "working on 106 of 252 -- 42% complete\n",
      "working on 107 of 252 -- 42% complete\n",
      "working on 108 of 252 -- 42% complete\n",
      "working on 109 of 252 -- 43% complete\n",
      "working on 110 of 252 -- 43% complete\n",
      "working on 111 of 252 -- 44% complete\n",
      "working on 112 of 252 -- 44% complete\n",
      "working on 113 of 252 -- 44% complete\n",
      "working on 114 of 252 -- 45% complete\n",
      "working on 115 of 252 -- 45% complete\n",
      "working on 116 of 252 -- 46% complete\n",
      "working on 117 of 252 -- 46% complete\n",
      "working on 118 of 252 -- 46% complete\n",
      "working on 119 of 252 -- 47% complete\n",
      "working on 120 of 252 -- 47% complete\n",
      "working on 121 of 252 -- 48% complete\n",
      "working on 122 of 252 -- 48% complete\n",
      "working on 123 of 252 -- 48% complete\n",
      "working on 124 of 252 -- 49% complete\n",
      "working on 125 of 252 -- 49% complete\n",
      "working on 126 of 252 -- 50% complete\n",
      "working on 127 of 252 -- 50% complete\n",
      "working on 128 of 252 -- 50% complete\n",
      "working on 129 of 252 -- 51% complete\n",
      "working on 130 of 252 -- 51% complete\n",
      "working on 131 of 252 -- 51% complete\n",
      "working on 132 of 252 -- 52% complete\n",
      "working on 133 of 252 -- 52% complete\n",
      "working on 134 of 252 -- 53% complete\n",
      "working on 135 of 252 -- 53% complete\n",
      "working on 136 of 252 -- 53% complete\n",
      "working on 137 of 252 -- 54% complete\n",
      "working on 138 of 252 -- 54% complete\n",
      "working on 139 of 252 -- 55% complete\n",
      "working on 140 of 252 -- 55% complete\n",
      "working on 141 of 252 -- 55% complete\n",
      "working on 142 of 252 -- 56% complete\n",
      "working on 143 of 252 -- 56% complete\n",
      "working on 144 of 252 -- 57% complete\n",
      "working on 145 of 252 -- 57% complete\n",
      "working on 146 of 252 -- 57% complete\n",
      "working on 147 of 252 -- 58% complete\n",
      "working on 148 of 252 -- 58% complete\n",
      "working on 149 of 252 -- 59% complete\n",
      "working on 150 of 252 -- 59% complete\n",
      "working on 151 of 252 -- 59% complete\n",
      "working on 152 of 252 -- 60% complete\n",
      "working on 153 of 252 -- 60% complete\n",
      "working on 154 of 252 -- 61% complete\n",
      "working on 155 of 252 -- 61% complete\n",
      "working on 156 of 252 -- 61% complete\n",
      "working on 157 of 252 -- 62% complete\n",
      "working on 158 of 252 -- 62% complete\n",
      "working on 159 of 252 -- 63% complete\n",
      "working on 160 of 252 -- 63% complete\n",
      "working on 161 of 252 -- 63% complete\n",
      "working on 162 of 252 -- 64% complete\n",
      "working on 163 of 252 -- 64% complete\n",
      "working on 164 of 252 -- 65% complete\n",
      "working on 165 of 252 -- 65% complete\n",
      "working on 166 of 252 -- 65% complete\n",
      "working on 167 of 252 -- 66% complete\n",
      "working on 168 of 252 -- 66% complete\n",
      "working on 169 of 252 -- 67% complete\n",
      "working on 170 of 252 -- 67% complete\n",
      "working on 171 of 252 -- 67% complete\n",
      "working on 172 of 252 -- 68% complete\n",
      "working on 173 of 252 -- 68% complete\n",
      "working on 174 of 252 -- 69% complete\n",
      "working on 175 of 252 -- 69% complete\n",
      "working on 176 of 252 -- 69% complete\n",
      "working on 177 of 252 -- 70% complete\n",
      "working on 178 of 252 -- 70% complete\n",
      "working on 179 of 252 -- 71% complete\n",
      "working on 180 of 252 -- 71% complete\n",
      "working on 181 of 252 -- 71% complete\n",
      "working on 182 of 252 -- 72% complete\n",
      "working on 183 of 252 -- 72% complete\n",
      "working on 184 of 252 -- 73% complete\n",
      "working on 185 of 252 -- 73% complete\n",
      "working on 186 of 252 -- 73% complete\n",
      "working on 187 of 252 -- 74% complete\n",
      "working on 188 of 252 -- 74% complete\n",
      "working on 189 of 252 -- 75% complete\n",
      "working on 190 of 252 -- 75% complete\n",
      "working on 191 of 252 -- 75% complete\n",
      "working on 192 of 252 -- 76% complete\n",
      "working on 193 of 252 -- 76% complete\n",
      "working on 194 of 252 -- 76% complete\n",
      "working on 195 of 252 -- 77% complete\n",
      "working on 196 of 252 -- 77% complete\n",
      "working on 197 of 252 -- 78% complete\n",
      "working on 198 of 252 -- 78% complete\n",
      "working on 199 of 252 -- 78% complete\n",
      "working on 200 of 252 -- 79% complete\n",
      "working on 201 of 252 -- 79% complete\n",
      "working on 202 of 252 -- 80% complete\n",
      "working on 203 of 252 -- 80% complete\n",
      "working on 204 of 252 -- 80% complete\n",
      "working on 205 of 252 -- 81% complete\n",
      "working on 206 of 252 -- 81% complete\n",
      "working on 207 of 252 -- 82% complete\n",
      "working on 208 of 252 -- 82% complete\n",
      "working on 209 of 252 -- 82% complete\n",
      "working on 210 of 252 -- 83% complete\n",
      "working on 211 of 252 -- 83% complete\n",
      "working on 212 of 252 -- 84% complete\n",
      "working on 213 of 252 -- 84% complete\n",
      "working on 214 of 252 -- 84% complete\n",
      "working on 215 of 252 -- 85% complete\n",
      "working on 216 of 252 -- 85% complete\n",
      "working on 217 of 252 -- 86% complete\n",
      "working on 218 of 252 -- 86% complete\n",
      "working on 219 of 252 -- 86% complete\n",
      "working on 220 of 252 -- 87% complete\n",
      "working on 221 of 252 -- 87% complete\n",
      "working on 222 of 252 -- 88% complete\n",
      "working on 223 of 252 -- 88% complete\n",
      "working on 224 of 252 -- 88% complete\n",
      "working on 225 of 252 -- 89% complete\n",
      "working on 226 of 252 -- 89% complete\n",
      "working on 227 of 252 -- 90% complete\n",
      "working on 228 of 252 -- 90% complete\n",
      "working on 229 of 252 -- 90% complete\n",
      "working on 230 of 252 -- 91% complete\n",
      "working on 231 of 252 -- 91% complete\n",
      "working on 232 of 252 -- 92% complete\n",
      "working on 233 of 252 -- 92% complete\n",
      "working on 234 of 252 -- 92% complete\n",
      "working on 235 of 252 -- 93% complete\n",
      "working on 236 of 252 -- 93% complete\n",
      "working on 237 of 252 -- 94% complete\n",
      "working on 238 of 252 -- 94% complete\n",
      "working on 239 of 252 -- 94% complete\n",
      "working on 240 of 252 -- 95% complete\n",
      "working on 241 of 252 -- 95% complete\n",
      "working on 242 of 252 -- 96% complete\n",
      "working on 243 of 252 -- 96% complete\n",
      "working on 244 of 252 -- 96% complete\n",
      "working on 245 of 252 -- 97% complete\n",
      "working on 246 of 252 -- 97% complete\n",
      "working on 247 of 252 -- 98% complete\n",
      "working on 248 of 252 -- 98% complete\n",
      "working on 249 of 252 -- 98% complete\n",
      "working on 250 of 252 -- 99% complete\n",
      "working on 251 of 252 -- 99% complete\n",
      "working on 252 of 252 -- 100% complete\n",
      "Epoch 1/500\n",
      "996/996 - 10s - loss: 0.0144 - 10s/epoch - 10ms/step\n",
      "Epoch 2/500\n",
      "996/996 - 4s - loss: 0.0064 - 4s/epoch - 4ms/step\n",
      "Epoch 3/500\n",
      "996/996 - 10s - loss: 0.0024 - 10s/epoch - 10ms/step\n",
      "Epoch 4/500\n",
      "996/996 - 5s - loss: 0.0021 - 5s/epoch - 5ms/step\n",
      "Epoch 5/500\n",
      "996/996 - 4s - loss: 0.0019 - 4s/epoch - 4ms/step\n",
      "Epoch 6/500\n",
      "996/996 - 9s - loss: 0.0018 - 9s/epoch - 9ms/step\n",
      "Epoch 7/500\n",
      "996/996 - 4s - loss: 0.0018 - 4s/epoch - 4ms/step\n",
      "Epoch 8/500\n",
      "996/996 - 7s - loss: 0.0017 - 7s/epoch - 7ms/step\n",
      "Epoch 9/500\n",
      "996/996 - 5s - loss: 0.0017 - 5s/epoch - 5ms/step\n",
      "Epoch 10/500\n",
      "996/996 - 5s - loss: 0.0016 - 5s/epoch - 5ms/step\n",
      "Epoch 11/500\n",
      "996/996 - 8s - loss: 0.0016 - 8s/epoch - 8ms/step\n",
      "Epoch 12/500\n",
      "996/996 - 4s - loss: 0.0015 - 4s/epoch - 4ms/step\n",
      "Epoch 13/500\n",
      "996/996 - 5s - loss: 0.0014 - 5s/epoch - 5ms/step\n",
      "Epoch 14/500\n",
      "996/996 - 7s - loss: 0.0014 - 7s/epoch - 7ms/step\n",
      "Epoch 15/500\n",
      "996/996 - 4s - loss: 0.0014 - 4s/epoch - 4ms/step\n",
      "Epoch 16/500\n",
      "996/996 - 5s - loss: 0.0013 - 5s/epoch - 5ms/step\n",
      "Epoch 17/500\n",
      "996/996 - 6s - loss: 0.0013 - 6s/epoch - 6ms/step\n",
      "Epoch 18/500\n",
      "996/996 - 4s - loss: 0.0013 - 4s/epoch - 4ms/step\n",
      "Epoch 19/500\n",
      "996/996 - 4s - loss: 0.0012 - 4s/epoch - 4ms/step\n",
      "Epoch 20/500\n",
      "996/996 - 5s - loss: 0.0012 - 5s/epoch - 5ms/step\n",
      "Epoch 21/500\n",
      "996/996 - 5s - loss: 0.0012 - 5s/epoch - 5ms/step\n",
      "Epoch 22/500\n",
      "996/996 - 4s - loss: 0.0011 - 4s/epoch - 4ms/step\n",
      "Epoch 23/500\n",
      "996/996 - 4s - loss: 0.0011 - 4s/epoch - 4ms/step\n",
      "Epoch 24/500\n",
      "996/996 - 7s - loss: 0.0010 - 7s/epoch - 7ms/step\n",
      "Epoch 25/500\n",
      "996/996 - 4s - loss: 0.0010 - 4s/epoch - 4ms/step\n",
      "Epoch 26/500\n",
      "996/996 - 4s - loss: 9.7341e-04 - 4s/epoch - 4ms/step\n",
      "Epoch 27/500\n",
      "996/996 - 5s - loss: 9.6066e-04 - 5s/epoch - 5ms/step\n",
      "Epoch 28/500\n",
      "996/996 - 4s - loss: 9.2086e-04 - 4s/epoch - 4ms/step\n",
      "Epoch 29/500\n",
      "996/996 - 4s - loss: 9.2418e-04 - 4s/epoch - 4ms/step\n",
      "Epoch 30/500\n",
      "996/996 - 4s - loss: 8.9077e-04 - 4s/epoch - 4ms/step\n",
      "Epoch 31/500\n",
      "996/996 - 5s - loss: 8.8173e-04 - 5s/epoch - 5ms/step\n",
      "Epoch 32/500\n",
      "996/996 - 5s - loss: 8.8905e-04 - 5s/epoch - 5ms/step\n",
      "Epoch 33/500\n",
      "996/996 - 4s - loss: 8.7165e-04 - 4s/epoch - 4ms/step\n",
      "Epoch 34/500\n",
      "996/996 - 6s - loss: 8.7261e-04 - 6s/epoch - 7ms/step\n",
      "Epoch 35/500\n",
      "996/996 - 4s - loss: 8.6930e-04 - 4s/epoch - 4ms/step\n",
      "Epoch 36/500\n",
      "996/996 - 4s - loss: 8.6498e-04 - 4s/epoch - 4ms/step\n",
      "Epoch 37/500\n",
      "996/996 - 4s - loss: 8.6591e-04 - 4s/epoch - 4ms/step\n",
      "Epoch 38/500\n",
      "996/996 - 4s - loss: 8.5577e-04 - 4s/epoch - 4ms/step\n",
      "Epoch 39/500\n",
      "996/996 - 4s - loss: 8.6267e-04 - 4s/epoch - 4ms/step\n",
      "Epoch 40/500\n",
      "996/996 - 4s - loss: 8.4161e-04 - 4s/epoch - 4ms/step\n",
      "Epoch 41/500\n",
      "996/996 - 4s - loss: 8.7239e-04 - 4s/epoch - 4ms/step\n",
      "Epoch 42/500\n",
      "996/996 - 7s - loss: 8.4922e-04 - 7s/epoch - 7ms/step\n",
      "Epoch 43/500\n",
      "996/996 - 5s - loss: 8.5326e-04 - 5s/epoch - 5ms/step\n",
      "Epoch 44/500\n",
      "996/996 - 5s - loss: 8.4831e-04 - 5s/epoch - 5ms/step\n",
      "Epoch 45/500\n",
      "996/996 - 8s - loss: 8.5616e-04 - 8s/epoch - 8ms/step\n",
      "Epoch 45: early stopping\n",
      "8/8 [==============================] - 1s 3ms/step\n",
      "\n",
      "Working on MIDPOINT predictions\n",
      "Performing stepwise search to minimize aic\n",
      " ARIMA(2,2,2)(0,0,0)[0] intercept   : AIC=755.085, Time=1.14 sec\n",
      " ARIMA(0,2,0)(0,0,0)[0] intercept   : AIC=1403.746, Time=0.14 sec\n",
      " ARIMA(1,2,0)(0,0,0)[0] intercept   : AIC=1125.487, Time=0.25 sec\n",
      " ARIMA(0,2,1)(0,0,0)[0] intercept   : AIC=749.535, Time=0.46 sec\n",
      " ARIMA(0,2,0)(0,0,0)[0]             : AIC=1401.746, Time=0.05 sec\n",
      " ARIMA(1,2,1)(0,0,0)[0] intercept   : AIC=751.141, Time=0.97 sec\n",
      " ARIMA(0,2,2)(0,0,0)[0] intercept   : AIC=751.145, Time=1.22 sec\n",
      " ARIMA(1,2,2)(0,0,0)[0] intercept   : AIC=753.523, Time=1.01 sec\n",
      " ARIMA(0,2,1)(0,0,0)[0]             : AIC=748.017, Time=0.16 sec\n",
      " ARIMA(1,2,1)(0,0,0)[0]             : AIC=749.654, Time=0.26 sec\n",
      " ARIMA(0,2,2)(0,0,0)[0]             : AIC=749.661, Time=0.28 sec\n",
      " ARIMA(1,2,0)(0,0,0)[0]             : AIC=1123.487, Time=0.08 sec\n",
      " ARIMA(1,2,2)(0,0,0)[0]             : AIC=752.005, Time=0.26 sec\n",
      "\n",
      "Best model:  ARIMA(0,2,1)(0,0,0)[0]          \n",
      "Total fit time: 6.286 seconds\n",
      "ARIMA order: (0, 2, 1) \n",
      "\n",
      "working on 1 of 252 -- 0% complete\n",
      "working on 2 of 252 -- 0% complete\n",
      "working on 3 of 252 -- 1% complete\n",
      "working on 4 of 252 -- 1% complete\n",
      "working on 5 of 252 -- 1% complete\n",
      "working on 6 of 252 -- 2% complete\n",
      "working on 7 of 252 -- 2% complete\n",
      "working on 8 of 252 -- 3% complete\n",
      "working on 9 of 252 -- 3% complete\n",
      "working on 10 of 252 -- 3% complete\n",
      "working on 11 of 252 -- 4% complete\n",
      "working on 12 of 252 -- 4% complete\n",
      "working on 13 of 252 -- 5% complete\n"
     ]
    },
    {
     "name": "stderr",
     "output_type": "stream",
     "text": [
      "C:\\Users\\Mya_L\\AppData\\Roaming\\Python\\Python39\\site-packages\\statsmodels\\base\\model.py:604: ConvergenceWarning: Maximum Likelihood optimization failed to converge. Check mle_retvals\n",
      "  warnings.warn(\"Maximum Likelihood optimization failed to \"\n"
     ]
    },
    {
     "name": "stdout",
     "output_type": "stream",
     "text": [
      "working on 14 of 252 -- 5% complete\n",
      "working on 15 of 252 -- 5% complete\n",
      "working on 16 of 252 -- 6% complete\n",
      "working on 17 of 252 -- 6% complete\n",
      "working on 18 of 252 -- 7% complete\n",
      "working on 19 of 252 -- 7% complete\n",
      "working on 20 of 252 -- 7% complete\n",
      "working on 21 of 252 -- 8% complete\n",
      "working on 22 of 252 -- 8% complete\n",
      "working on 23 of 252 -- 9% complete\n",
      "working on 24 of 252 -- 9% complete\n",
      "working on 25 of 252 -- 9% complete\n",
      "working on 26 of 252 -- 10% complete\n",
      "working on 27 of 252 -- 10% complete\n",
      "working on 28 of 252 -- 11% complete\n",
      "working on 29 of 252 -- 11% complete\n",
      "working on 30 of 252 -- 11% complete\n",
      "working on 31 of 252 -- 12% complete\n",
      "working on 32 of 252 -- 12% complete\n",
      "working on 33 of 252 -- 13% complete\n",
      "working on 34 of 252 -- 13% complete\n",
      "working on 35 of 252 -- 13% complete\n",
      "working on 36 of 252 -- 14% complete\n",
      "working on 37 of 252 -- 14% complete\n",
      "working on 38 of 252 -- 15% complete\n"
     ]
    },
    {
     "name": "stderr",
     "output_type": "stream",
     "text": [
      "C:\\Users\\Mya_L\\AppData\\Roaming\\Python\\Python39\\site-packages\\statsmodels\\base\\model.py:604: ConvergenceWarning: Maximum Likelihood optimization failed to converge. Check mle_retvals\n",
      "  warnings.warn(\"Maximum Likelihood optimization failed to \"\n"
     ]
    },
    {
     "name": "stdout",
     "output_type": "stream",
     "text": [
      "working on 39 of 252 -- 15% complete\n",
      "working on 40 of 252 -- 15% complete\n",
      "working on 41 of 252 -- 16% complete\n",
      "working on 42 of 252 -- 16% complete\n",
      "working on 43 of 252 -- 17% complete\n",
      "working on 44 of 252 -- 17% complete\n",
      "working on 45 of 252 -- 17% complete\n",
      "working on 46 of 252 -- 18% complete\n",
      "working on 47 of 252 -- 18% complete\n",
      "working on 48 of 252 -- 19% complete\n",
      "working on 49 of 252 -- 19% complete\n",
      "working on 50 of 252 -- 19% complete\n",
      "working on 51 of 252 -- 20% complete\n",
      "working on 52 of 252 -- 20% complete\n",
      "working on 53 of 252 -- 21% complete\n",
      "working on 54 of 252 -- 21% complete\n",
      "working on 55 of 252 -- 21% complete\n",
      "working on 56 of 252 -- 22% complete\n",
      "working on 57 of 252 -- 22% complete\n",
      "working on 58 of 252 -- 23% complete\n",
      "working on 59 of 252 -- 23% complete\n",
      "working on 60 of 252 -- 23% complete\n",
      "working on 61 of 252 -- 24% complete\n",
      "working on 62 of 252 -- 24% complete\n",
      "working on 63 of 252 -- 25% complete\n",
      "working on 64 of 252 -- 25% complete\n",
      "working on 65 of 252 -- 25% complete\n",
      "working on 66 of 252 -- 26% complete\n",
      "working on 67 of 252 -- 26% complete\n",
      "working on 68 of 252 -- 26% complete\n",
      "working on 69 of 252 -- 27% complete\n",
      "working on 70 of 252 -- 27% complete\n",
      "working on 71 of 252 -- 28% complete\n",
      "working on 72 of 252 -- 28% complete\n",
      "working on 73 of 252 -- 28% complete\n",
      "working on 74 of 252 -- 29% complete\n",
      "working on 75 of 252 -- 29% complete\n",
      "working on 76 of 252 -- 30% complete\n",
      "working on 77 of 252 -- 30% complete\n",
      "working on 78 of 252 -- 30% complete\n",
      "working on 79 of 252 -- 31% complete\n",
      "working on 80 of 252 -- 31% complete\n",
      "working on 81 of 252 -- 32% complete\n",
      "working on 82 of 252 -- 32% complete\n",
      "working on 83 of 252 -- 32% complete\n",
      "working on 84 of 252 -- 33% complete\n",
      "working on 85 of 252 -- 33% complete\n",
      "working on 86 of 252 -- 34% complete\n",
      "working on 87 of 252 -- 34% complete\n",
      "working on 88 of 252 -- 34% complete\n",
      "working on 89 of 252 -- 35% complete\n",
      "working on 90 of 252 -- 35% complete\n",
      "working on 91 of 252 -- 36% complete\n",
      "working on 92 of 252 -- 36% complete\n",
      "working on 93 of 252 -- 36% complete\n",
      "working on 94 of 252 -- 37% complete\n",
      "working on 95 of 252 -- 37% complete\n",
      "working on 96 of 252 -- 38% complete\n",
      "working on 97 of 252 -- 38% complete\n",
      "working on 98 of 252 -- 38% complete\n",
      "working on 99 of 252 -- 39% complete\n",
      "working on 100 of 252 -- 39% complete\n",
      "working on 101 of 252 -- 40% complete\n",
      "working on 102 of 252 -- 40% complete\n",
      "working on 103 of 252 -- 40% complete\n",
      "working on 104 of 252 -- 41% complete\n",
      "working on 105 of 252 -- 41% complete\n",
      "working on 106 of 252 -- 42% complete\n",
      "working on 107 of 252 -- 42% complete\n",
      "working on 108 of 252 -- 42% complete\n",
      "working on 109 of 252 -- 43% complete\n",
      "working on 110 of 252 -- 43% complete\n",
      "working on 111 of 252 -- 44% complete\n",
      "working on 112 of 252 -- 44% complete\n",
      "working on 113 of 252 -- 44% complete\n",
      "working on 114 of 252 -- 45% complete\n",
      "working on 115 of 252 -- 45% complete\n",
      "working on 116 of 252 -- 46% complete\n",
      "working on 117 of 252 -- 46% complete\n",
      "working on 118 of 252 -- 46% complete\n",
      "working on 119 of 252 -- 47% complete\n",
      "working on 120 of 252 -- 47% complete\n",
      "working on 121 of 252 -- 48% complete\n",
      "working on 122 of 252 -- 48% complete\n",
      "working on 123 of 252 -- 48% complete\n",
      "working on 124 of 252 -- 49% complete\n",
      "working on 125 of 252 -- 49% complete\n",
      "working on 126 of 252 -- 50% complete\n",
      "working on 127 of 252 -- 50% complete\n",
      "working on 128 of 252 -- 50% complete\n",
      "working on 129 of 252 -- 51% complete\n",
      "working on 130 of 252 -- 51% complete\n",
      "working on 131 of 252 -- 51% complete\n",
      "working on 132 of 252 -- 52% complete\n",
      "working on 133 of 252 -- 52% complete\n",
      "working on 134 of 252 -- 53% complete\n",
      "working on 135 of 252 -- 53% complete\n",
      "working on 136 of 252 -- 53% complete\n",
      "working on 137 of 252 -- 54% complete\n",
      "working on 138 of 252 -- 54% complete\n",
      "working on 139 of 252 -- 55% complete\n",
      "working on 140 of 252 -- 55% complete\n",
      "working on 141 of 252 -- 55% complete\n",
      "working on 142 of 252 -- 56% complete\n",
      "working on 143 of 252 -- 56% complete\n",
      "working on 144 of 252 -- 57% complete\n",
      "working on 145 of 252 -- 57% complete\n",
      "working on 146 of 252 -- 57% complete\n",
      "working on 147 of 252 -- 58% complete\n",
      "working on 148 of 252 -- 58% complete\n",
      "working on 149 of 252 -- 59% complete\n",
      "working on 150 of 252 -- 59% complete\n",
      "working on 151 of 252 -- 59% complete\n",
      "working on 152 of 252 -- 60% complete\n",
      "working on 153 of 252 -- 60% complete\n",
      "working on 154 of 252 -- 61% complete\n",
      "working on 155 of 252 -- 61% complete\n",
      "working on 156 of 252 -- 61% complete\n",
      "working on 157 of 252 -- 62% complete\n",
      "working on 158 of 252 -- 62% complete\n",
      "working on 159 of 252 -- 63% complete\n",
      "working on 160 of 252 -- 63% complete\n",
      "working on 161 of 252 -- 63% complete\n",
      "working on 162 of 252 -- 64% complete\n",
      "working on 163 of 252 -- 64% complete\n",
      "working on 164 of 252 -- 65% complete\n",
      "working on 165 of 252 -- 65% complete\n",
      "working on 166 of 252 -- 65% complete\n",
      "working on 167 of 252 -- 66% complete\n",
      "working on 168 of 252 -- 66% complete\n"
     ]
    },
    {
     "name": "stderr",
     "output_type": "stream",
     "text": [
      "C:\\Users\\Mya_L\\AppData\\Roaming\\Python\\Python39\\site-packages\\statsmodels\\base\\model.py:604: ConvergenceWarning: Maximum Likelihood optimization failed to converge. Check mle_retvals\n",
      "  warnings.warn(\"Maximum Likelihood optimization failed to \"\n"
     ]
    },
    {
     "name": "stdout",
     "output_type": "stream",
     "text": [
      "working on 169 of 252 -- 67% complete\n",
      "working on 170 of 252 -- 67% complete\n",
      "working on 171 of 252 -- 67% complete\n",
      "working on 172 of 252 -- 68% complete\n",
      "working on 173 of 252 -- 68% complete\n",
      "working on 174 of 252 -- 69% complete\n"
     ]
    },
    {
     "name": "stderr",
     "output_type": "stream",
     "text": [
      "C:\\Users\\Mya_L\\AppData\\Roaming\\Python\\Python39\\site-packages\\statsmodels\\base\\model.py:604: ConvergenceWarning: Maximum Likelihood optimization failed to converge. Check mle_retvals\n",
      "  warnings.warn(\"Maximum Likelihood optimization failed to \"\n"
     ]
    },
    {
     "name": "stdout",
     "output_type": "stream",
     "text": [
      "working on 175 of 252 -- 69% complete\n",
      "working on 176 of 252 -- 69% complete\n",
      "working on 177 of 252 -- 70% complete\n",
      "working on 178 of 252 -- 70% complete\n",
      "working on 179 of 252 -- 71% complete\n",
      "working on 180 of 252 -- 71% complete\n",
      "working on 181 of 252 -- 71% complete\n",
      "working on 182 of 252 -- 72% complete\n",
      "working on 183 of 252 -- 72% complete\n",
      "working on 184 of 252 -- 73% complete\n",
      "working on 185 of 252 -- 73% complete\n",
      "working on 186 of 252 -- 73% complete\n",
      "working on 187 of 252 -- 74% complete\n",
      "working on 188 of 252 -- 74% complete\n"
     ]
    },
    {
     "name": "stderr",
     "output_type": "stream",
     "text": [
      "C:\\Users\\Mya_L\\AppData\\Roaming\\Python\\Python39\\site-packages\\statsmodels\\base\\model.py:604: ConvergenceWarning: Maximum Likelihood optimization failed to converge. Check mle_retvals\n",
      "  warnings.warn(\"Maximum Likelihood optimization failed to \"\n"
     ]
    },
    {
     "name": "stdout",
     "output_type": "stream",
     "text": [
      "working on 189 of 252 -- 75% complete\n",
      "working on 190 of 252 -- 75% complete\n",
      "working on 191 of 252 -- 75% complete\n",
      "working on 192 of 252 -- 76% complete\n",
      "working on 193 of 252 -- 76% complete\n",
      "working on 194 of 252 -- 76% complete\n",
      "working on 195 of 252 -- 77% complete\n",
      "working on 196 of 252 -- 77% complete\n",
      "working on 197 of 252 -- 78% complete\n",
      "working on 198 of 252 -- 78% complete\n",
      "working on 199 of 252 -- 78% complete\n",
      "working on 200 of 252 -- 79% complete\n",
      "working on 201 of 252 -- 79% complete\n",
      "working on 202 of 252 -- 80% complete\n",
      "working on 203 of 252 -- 80% complete\n",
      "working on 204 of 252 -- 80% complete\n",
      "working on 205 of 252 -- 81% complete\n",
      "working on 206 of 252 -- 81% complete\n",
      "working on 207 of 252 -- 82% complete\n",
      "working on 208 of 252 -- 82% complete\n",
      "working on 209 of 252 -- 82% complete\n",
      "working on 210 of 252 -- 83% complete\n",
      "working on 211 of 252 -- 83% complete\n",
      "working on 212 of 252 -- 84% complete\n",
      "working on 213 of 252 -- 84% complete\n",
      "working on 214 of 252 -- 84% complete\n"
     ]
    },
    {
     "name": "stderr",
     "output_type": "stream",
     "text": [
      "C:\\Users\\Mya_L\\AppData\\Roaming\\Python\\Python39\\site-packages\\statsmodels\\base\\model.py:604: ConvergenceWarning: Maximum Likelihood optimization failed to converge. Check mle_retvals\n",
      "  warnings.warn(\"Maximum Likelihood optimization failed to \"\n"
     ]
    },
    {
     "name": "stdout",
     "output_type": "stream",
     "text": [
      "working on 215 of 252 -- 85% complete\n",
      "working on 216 of 252 -- 85% complete\n",
      "working on 217 of 252 -- 86% complete\n",
      "working on 218 of 252 -- 86% complete\n",
      "working on 219 of 252 -- 86% complete\n",
      "working on 220 of 252 -- 87% complete\n",
      "working on 221 of 252 -- 87% complete\n",
      "working on 222 of 252 -- 88% complete\n",
      "working on 223 of 252 -- 88% complete\n",
      "working on 224 of 252 -- 88% complete\n",
      "working on 225 of 252 -- 89% complete\n",
      "working on 226 of 252 -- 89% complete\n",
      "working on 227 of 252 -- 90% complete\n"
     ]
    },
    {
     "name": "stderr",
     "output_type": "stream",
     "text": [
      "C:\\Users\\Mya_L\\AppData\\Roaming\\Python\\Python39\\site-packages\\statsmodels\\base\\model.py:604: ConvergenceWarning: Maximum Likelihood optimization failed to converge. Check mle_retvals\n",
      "  warnings.warn(\"Maximum Likelihood optimization failed to \"\n"
     ]
    },
    {
     "name": "stdout",
     "output_type": "stream",
     "text": [
      "working on 228 of 252 -- 90% complete\n",
      "working on 229 of 252 -- 90% complete\n",
      "working on 230 of 252 -- 91% complete\n",
      "working on 231 of 252 -- 91% complete\n",
      "working on 232 of 252 -- 92% complete\n",
      "working on 233 of 252 -- 92% complete\n",
      "working on 234 of 252 -- 92% complete\n",
      "working on 235 of 252 -- 93% complete\n",
      "working on 236 of 252 -- 93% complete\n",
      "working on 237 of 252 -- 94% complete\n",
      "working on 238 of 252 -- 94% complete\n",
      "working on 239 of 252 -- 94% complete\n"
     ]
    },
    {
     "name": "stderr",
     "output_type": "stream",
     "text": [
      "C:\\Users\\Mya_L\\AppData\\Roaming\\Python\\Python39\\site-packages\\statsmodels\\base\\model.py:604: ConvergenceWarning: Maximum Likelihood optimization failed to converge. Check mle_retvals\n",
      "  warnings.warn(\"Maximum Likelihood optimization failed to \"\n"
     ]
    },
    {
     "name": "stdout",
     "output_type": "stream",
     "text": [
      "working on 240 of 252 -- 95% complete\n",
      "working on 241 of 252 -- 95% complete\n",
      "working on 242 of 252 -- 96% complete\n",
      "working on 243 of 252 -- 96% complete\n",
      "working on 244 of 252 -- 96% complete\n",
      "working on 245 of 252 -- 97% complete\n",
      "working on 246 of 252 -- 97% complete\n",
      "working on 247 of 252 -- 98% complete\n",
      "working on 248 of 252 -- 98% complete\n",
      "working on 249 of 252 -- 98% complete\n",
      "working on 250 of 252 -- 99% complete\n",
      "working on 251 of 252 -- 99% complete\n",
      "working on 252 of 252 -- 100% complete\n",
      "Epoch 1/500\n",
      "996/996 - 8s - loss: 0.0244 - 8s/epoch - 8ms/step\n",
      "Epoch 2/500\n",
      "996/996 - 7s - loss: 0.0051 - 7s/epoch - 7ms/step\n",
      "Epoch 3/500\n",
      "996/996 - 6s - loss: 0.0033 - 6s/epoch - 6ms/step\n",
      "Epoch 4/500\n",
      "996/996 - 4s - loss: 0.0029 - 4s/epoch - 4ms/step\n",
      "Epoch 5/500\n",
      "996/996 - 9s - loss: 0.0027 - 9s/epoch - 9ms/step\n",
      "Epoch 6/500\n",
      "996/996 - 4s - loss: 0.0025 - 4s/epoch - 4ms/step\n",
      "Epoch 7/500\n",
      "996/996 - 4s - loss: 0.0024 - 4s/epoch - 4ms/step\n",
      "Epoch 8/500\n",
      "996/996 - 9s - loss: 0.0023 - 9s/epoch - 9ms/step\n",
      "Epoch 9/500\n",
      "996/996 - 4s - loss: 0.0022 - 4s/epoch - 4ms/step\n",
      "Epoch 10/500\n",
      "996/996 - 6s - loss: 0.0021 - 6s/epoch - 6ms/step\n",
      "Epoch 11/500\n",
      "996/996 - 4s - loss: 0.0019 - 4s/epoch - 4ms/step\n",
      "Epoch 12/500\n",
      "996/996 - 4s - loss: 0.0019 - 4s/epoch - 4ms/step\n",
      "Epoch 13/500\n",
      "996/996 - 4s - loss: 0.0017 - 4s/epoch - 4ms/step\n",
      "Epoch 14/500\n",
      "996/996 - 5s - loss: 0.0016 - 5s/epoch - 5ms/step\n",
      "Epoch 15/500\n",
      "996/996 - 4s - loss: 0.0016 - 4s/epoch - 4ms/step\n",
      "Epoch 16/500\n",
      "996/996 - 4s - loss: 0.0015 - 4s/epoch - 4ms/step\n",
      "Epoch 17/500\n",
      "996/996 - 4s - loss: 0.0014 - 4s/epoch - 4ms/step\n",
      "Epoch 18/500\n",
      "996/996 - 5s - loss: 0.0014 - 5s/epoch - 5ms/step\n",
      "Epoch 19/500\n",
      "996/996 - 4s - loss: 0.0013 - 4s/epoch - 4ms/step\n",
      "Epoch 20/500\n",
      "996/996 - 4s - loss: 0.0013 - 4s/epoch - 4ms/step\n",
      "Epoch 21/500\n",
      "996/996 - 4s - loss: 0.0013 - 4s/epoch - 4ms/step\n",
      "Epoch 22/500\n",
      "996/996 - 5s - loss: 0.0013 - 5s/epoch - 5ms/step\n",
      "Epoch 23/500\n",
      "996/996 - 4s - loss: 0.0012 - 4s/epoch - 4ms/step\n",
      "Epoch 24/500\n",
      "996/996 - 4s - loss: 0.0012 - 4s/epoch - 4ms/step\n",
      "Epoch 25/500\n",
      "996/996 - 4s - loss: 0.0012 - 4s/epoch - 4ms/step\n",
      "Epoch 26/500\n",
      "996/996 - 6s - loss: 0.0012 - 6s/epoch - 6ms/step\n",
      "Epoch 27/500\n",
      "996/996 - 4s - loss: 0.0012 - 4s/epoch - 4ms/step\n",
      "Epoch 28/500\n",
      "996/996 - 4s - loss: 0.0012 - 4s/epoch - 4ms/step\n",
      "Epoch 29/500\n",
      "996/996 - 5s - loss: 0.0012 - 5s/epoch - 5ms/step\n",
      "Epoch 30/500\n",
      "996/996 - 4s - loss: 0.0012 - 4s/epoch - 4ms/step\n",
      "Epoch 31/500\n",
      "996/996 - 4s - loss: 0.0012 - 4s/epoch - 4ms/step\n",
      "Epoch 32/500\n",
      "996/996 - 4s - loss: 0.0012 - 4s/epoch - 4ms/step\n",
      "Epoch 33/500\n",
      "996/996 - 5s - loss: 0.0012 - 5s/epoch - 5ms/step\n",
      "Epoch 34/500\n",
      "996/996 - 4s - loss: 0.0012 - 4s/epoch - 4ms/step\n",
      "Epoch 35/500\n",
      "996/996 - 4s - loss: 0.0012 - 4s/epoch - 4ms/step\n",
      "Epoch 36/500\n",
      "996/996 - 4s - loss: 0.0012 - 4s/epoch - 4ms/step\n",
      "Epoch 37/500\n",
      "996/996 - 7s - loss: 0.0012 - 7s/epoch - 7ms/step\n",
      "Epoch 38/500\n",
      "996/996 - 4s - loss: 0.0012 - 4s/epoch - 4ms/step\n",
      "Epoch 38: early stopping\n",
      "8/8 [==============================] - 1s 3ms/step\n",
      "\n",
      "Working on MIDPRICE predictions\n",
      "Performing stepwise search to minimize aic\n",
      " ARIMA(2,2,2)(0,0,0)[0] intercept   : AIC=822.541, Time=1.15 sec\n",
      " ARIMA(0,2,0)(0,0,0)[0] intercept   : AIC=1445.731, Time=0.12 sec\n",
      " ARIMA(1,2,0)(0,0,0)[0] intercept   : AIC=1177.703, Time=0.14 sec\n",
      " ARIMA(0,2,1)(0,0,0)[0] intercept   : AIC=819.038, Time=0.39 sec\n",
      " ARIMA(0,2,0)(0,0,0)[0]             : AIC=1443.731, Time=0.05 sec\n",
      " ARIMA(1,2,1)(0,0,0)[0] intercept   : AIC=818.893, Time=0.60 sec\n",
      " ARIMA(2,2,1)(0,0,0)[0] intercept   : AIC=820.453, Time=1.12 sec\n",
      " ARIMA(1,2,2)(0,0,0)[0] intercept   : AIC=821.710, Time=1.44 sec\n",
      " ARIMA(0,2,2)(0,0,0)[0] intercept   : AIC=818.976, Time=0.94 sec\n",
      " ARIMA(2,2,0)(0,0,0)[0] intercept   : AIC=1051.193, Time=0.26 sec\n",
      " ARIMA(1,2,1)(0,0,0)[0]             : AIC=817.664, Time=0.22 sec\n",
      " ARIMA(0,2,1)(0,0,0)[0]             : AIC=817.727, Time=0.15 sec\n",
      " ARIMA(1,2,0)(0,0,0)[0]             : AIC=1175.703, Time=0.07 sec\n",
      " ARIMA(2,2,1)(0,0,0)[0]             : AIC=819.255, Time=0.27 sec\n",
      " ARIMA(1,2,2)(0,0,0)[0]             : AIC=819.761, Time=0.58 sec\n",
      " ARIMA(0,2,2)(0,0,0)[0]             : AIC=817.740, Time=0.44 sec\n",
      " ARIMA(2,2,0)(0,0,0)[0]             : AIC=1049.194, Time=0.10 sec\n",
      " ARIMA(2,2,2)(0,0,0)[0]             : AIC=821.210, Time=0.72 sec\n",
      "\n",
      "Best model:  ARIMA(1,2,1)(0,0,0)[0]          \n",
      "Total fit time: 8.774 seconds\n",
      "ARIMA order: (1, 2, 1) \n",
      "\n",
      "working on 1 of 252 -- 0% complete\n",
      "working on 2 of 252 -- 0% complete\n",
      "working on 3 of 252 -- 1% complete\n",
      "working on 4 of 252 -- 1% complete\n",
      "working on 5 of 252 -- 1% complete\n"
     ]
    },
    {
     "name": "stderr",
     "output_type": "stream",
     "text": [
      "C:\\Users\\Mya_L\\AppData\\Roaming\\Python\\Python39\\site-packages\\statsmodels\\base\\model.py:604: ConvergenceWarning: Maximum Likelihood optimization failed to converge. Check mle_retvals\n",
      "  warnings.warn(\"Maximum Likelihood optimization failed to \"\n"
     ]
    },
    {
     "name": "stdout",
     "output_type": "stream",
     "text": [
      "working on 6 of 252 -- 2% complete\n",
      "working on 7 of 252 -- 2% complete\n",
      "working on 8 of 252 -- 3% complete\n"
     ]
    },
    {
     "name": "stderr",
     "output_type": "stream",
     "text": [
      "C:\\Users\\Mya_L\\AppData\\Roaming\\Python\\Python39\\site-packages\\statsmodels\\base\\model.py:604: ConvergenceWarning: Maximum Likelihood optimization failed to converge. Check mle_retvals\n",
      "  warnings.warn(\"Maximum Likelihood optimization failed to \"\n"
     ]
    },
    {
     "name": "stdout",
     "output_type": "stream",
     "text": [
      "working on 9 of 252 -- 3% complete\n",
      "working on 10 of 252 -- 3% complete\n",
      "working on 11 of 252 -- 4% complete\n",
      "working on 12 of 252 -- 4% complete\n",
      "working on 13 of 252 -- 5% complete\n",
      "working on 14 of 252 -- 5% complete\n",
      "working on 15 of 252 -- 5% complete\n",
      "working on 16 of 252 -- 6% complete\n",
      "working on 17 of 252 -- 6% complete\n",
      "working on 18 of 252 -- 7% complete\n"
     ]
    },
    {
     "name": "stderr",
     "output_type": "stream",
     "text": [
      "C:\\Users\\Mya_L\\AppData\\Roaming\\Python\\Python39\\site-packages\\statsmodels\\base\\model.py:604: ConvergenceWarning: Maximum Likelihood optimization failed to converge. Check mle_retvals\n",
      "  warnings.warn(\"Maximum Likelihood optimization failed to \"\n"
     ]
    },
    {
     "name": "stdout",
     "output_type": "stream",
     "text": [
      "working on 19 of 252 -- 7% complete\n",
      "working on 20 of 252 -- 7% complete\n",
      "working on 21 of 252 -- 8% complete\n",
      "working on 22 of 252 -- 8% complete\n",
      "working on 23 of 252 -- 9% complete\n",
      "working on 24 of 252 -- 9% complete\n",
      "working on 25 of 252 -- 9% complete\n",
      "working on 26 of 252 -- 10% complete\n",
      "working on 27 of 252 -- 10% complete\n",
      "working on 28 of 252 -- 11% complete\n",
      "working on 29 of 252 -- 11% complete\n",
      "working on 30 of 252 -- 11% complete\n",
      "working on 31 of 252 -- 12% complete\n",
      "working on 32 of 252 -- 12% complete\n",
      "working on 33 of 252 -- 13% complete\n"
     ]
    },
    {
     "name": "stderr",
     "output_type": "stream",
     "text": [
      "C:\\Users\\Mya_L\\AppData\\Roaming\\Python\\Python39\\site-packages\\statsmodels\\base\\model.py:604: ConvergenceWarning: Maximum Likelihood optimization failed to converge. Check mle_retvals\n",
      "  warnings.warn(\"Maximum Likelihood optimization failed to \"\n"
     ]
    },
    {
     "name": "stdout",
     "output_type": "stream",
     "text": [
      "working on 34 of 252 -- 13% complete\n",
      "working on 35 of 252 -- 13% complete\n",
      "working on 36 of 252 -- 14% complete\n",
      "working on 37 of 252 -- 14% complete\n"
     ]
    },
    {
     "name": "stderr",
     "output_type": "stream",
     "text": [
      "C:\\Users\\Mya_L\\AppData\\Roaming\\Python\\Python39\\site-packages\\statsmodels\\base\\model.py:604: ConvergenceWarning: Maximum Likelihood optimization failed to converge. Check mle_retvals\n",
      "  warnings.warn(\"Maximum Likelihood optimization failed to \"\n"
     ]
    },
    {
     "name": "stdout",
     "output_type": "stream",
     "text": [
      "working on 38 of 252 -- 15% complete\n",
      "working on 39 of 252 -- 15% complete\n",
      "working on 40 of 252 -- 15% complete\n",
      "working on 41 of 252 -- 16% complete\n",
      "working on 42 of 252 -- 16% complete\n",
      "working on 43 of 252 -- 17% complete\n",
      "working on 44 of 252 -- 17% complete\n",
      "working on 45 of 252 -- 17% complete\n",
      "working on 46 of 252 -- 18% complete\n",
      "working on 47 of 252 -- 18% complete\n",
      "working on 48 of 252 -- 19% complete\n",
      "working on 49 of 252 -- 19% complete\n",
      "working on 50 of 252 -- 19% complete\n",
      "working on 51 of 252 -- 20% complete\n",
      "working on 52 of 252 -- 20% complete\n",
      "working on 53 of 252 -- 21% complete\n",
      "working on 54 of 252 -- 21% complete\n",
      "working on 55 of 252 -- 21% complete\n",
      "working on 56 of 252 -- 22% complete\n"
     ]
    },
    {
     "name": "stderr",
     "output_type": "stream",
     "text": [
      "C:\\Users\\Mya_L\\AppData\\Roaming\\Python\\Python39\\site-packages\\statsmodels\\base\\model.py:604: ConvergenceWarning: Maximum Likelihood optimization failed to converge. Check mle_retvals\n",
      "  warnings.warn(\"Maximum Likelihood optimization failed to \"\n"
     ]
    },
    {
     "name": "stdout",
     "output_type": "stream",
     "text": [
      "working on 57 of 252 -- 22% complete\n",
      "working on 58 of 252 -- 23% complete\n",
      "working on 59 of 252 -- 23% complete\n",
      "working on 60 of 252 -- 23% complete\n",
      "working on 61 of 252 -- 24% complete\n",
      "working on 62 of 252 -- 24% complete\n",
      "working on 63 of 252 -- 25% complete\n",
      "working on 64 of 252 -- 25% complete\n",
      "working on 65 of 252 -- 25% complete\n",
      "working on 66 of 252 -- 26% complete\n",
      "working on 67 of 252 -- 26% complete\n",
      "working on 68 of 252 -- 26% complete\n",
      "working on 69 of 252 -- 27% complete\n",
      "working on 70 of 252 -- 27% complete\n",
      "working on 71 of 252 -- 28% complete\n"
     ]
    },
    {
     "name": "stderr",
     "output_type": "stream",
     "text": [
      "C:\\Users\\Mya_L\\AppData\\Roaming\\Python\\Python39\\site-packages\\statsmodels\\base\\model.py:604: ConvergenceWarning: Maximum Likelihood optimization failed to converge. Check mle_retvals\n",
      "  warnings.warn(\"Maximum Likelihood optimization failed to \"\n"
     ]
    },
    {
     "name": "stdout",
     "output_type": "stream",
     "text": [
      "working on 72 of 252 -- 28% complete\n",
      "working on 73 of 252 -- 28% complete\n",
      "working on 74 of 252 -- 29% complete\n",
      "working on 75 of 252 -- 29% complete\n",
      "working on 76 of 252 -- 30% complete\n",
      "working on 77 of 252 -- 30% complete\n",
      "working on 78 of 252 -- 30% complete\n",
      "working on 79 of 252 -- 31% complete\n",
      "working on 80 of 252 -- 31% complete\n",
      "working on 81 of 252 -- 32% complete\n",
      "working on 82 of 252 -- 32% complete\n",
      "working on 83 of 252 -- 32% complete\n",
      "working on 84 of 252 -- 33% complete\n",
      "working on 85 of 252 -- 33% complete\n",
      "working on 86 of 252 -- 34% complete\n",
      "working on 87 of 252 -- 34% complete\n",
      "working on 88 of 252 -- 34% complete\n",
      "working on 89 of 252 -- 35% complete\n",
      "working on 90 of 252 -- 35% complete\n",
      "working on 91 of 252 -- 36% complete\n",
      "working on 92 of 252 -- 36% complete\n",
      "working on 93 of 252 -- 36% complete\n",
      "working on 94 of 252 -- 37% complete\n"
     ]
    },
    {
     "name": "stderr",
     "output_type": "stream",
     "text": [
      "C:\\Users\\Mya_L\\AppData\\Roaming\\Python\\Python39\\site-packages\\statsmodels\\base\\model.py:604: ConvergenceWarning: Maximum Likelihood optimization failed to converge. Check mle_retvals\n",
      "  warnings.warn(\"Maximum Likelihood optimization failed to \"\n"
     ]
    },
    {
     "name": "stdout",
     "output_type": "stream",
     "text": [
      "working on 95 of 252 -- 37% complete\n",
      "working on 96 of 252 -- 38% complete\n"
     ]
    },
    {
     "name": "stderr",
     "output_type": "stream",
     "text": [
      "C:\\Users\\Mya_L\\AppData\\Roaming\\Python\\Python39\\site-packages\\statsmodels\\base\\model.py:604: ConvergenceWarning: Maximum Likelihood optimization failed to converge. Check mle_retvals\n",
      "  warnings.warn(\"Maximum Likelihood optimization failed to \"\n"
     ]
    },
    {
     "name": "stdout",
     "output_type": "stream",
     "text": [
      "working on 97 of 252 -- 38% complete\n",
      "working on 98 of 252 -- 38% complete\n",
      "working on 99 of 252 -- 39% complete\n",
      "working on 100 of 252 -- 39% complete\n",
      "working on 101 of 252 -- 40% complete\n",
      "working on 102 of 252 -- 40% complete\n",
      "working on 103 of 252 -- 40% complete\n",
      "working on 104 of 252 -- 41% complete\n",
      "working on 105 of 252 -- 41% complete\n",
      "working on 106 of 252 -- 42% complete\n",
      "working on 107 of 252 -- 42% complete\n",
      "working on 108 of 252 -- 42% complete\n",
      "working on 109 of 252 -- 43% complete\n",
      "working on 110 of 252 -- 43% complete\n",
      "working on 111 of 252 -- 44% complete\n",
      "working on 112 of 252 -- 44% complete\n",
      "working on 113 of 252 -- 44% complete\n",
      "working on 114 of 252 -- 45% complete\n",
      "working on 115 of 252 -- 45% complete\n",
      "working on 116 of 252 -- 46% complete\n",
      "working on 117 of 252 -- 46% complete\n",
      "working on 118 of 252 -- 46% complete\n",
      "working on 119 of 252 -- 47% complete\n",
      "working on 120 of 252 -- 47% complete\n",
      "working on 121 of 252 -- 48% complete\n",
      "working on 122 of 252 -- 48% complete\n",
      "working on 123 of 252 -- 48% complete\n",
      "working on 124 of 252 -- 49% complete\n",
      "working on 125 of 252 -- 49% complete\n",
      "working on 126 of 252 -- 50% complete\n",
      "working on 127 of 252 -- 50% complete\n",
      "working on 128 of 252 -- 50% complete\n",
      "working on 129 of 252 -- 51% complete\n",
      "working on 130 of 252 -- 51% complete\n",
      "working on 131 of 252 -- 51% complete\n",
      "working on 132 of 252 -- 52% complete\n",
      "working on 133 of 252 -- 52% complete\n",
      "working on 134 of 252 -- 53% complete\n",
      "working on 135 of 252 -- 53% complete\n",
      "working on 136 of 252 -- 53% complete\n",
      "working on 137 of 252 -- 54% complete\n",
      "working on 138 of 252 -- 54% complete\n",
      "working on 139 of 252 -- 55% complete\n",
      "working on 140 of 252 -- 55% complete\n",
      "working on 141 of 252 -- 55% complete\n",
      "working on 142 of 252 -- 56% complete\n",
      "working on 143 of 252 -- 56% complete\n",
      "working on 144 of 252 -- 57% complete\n",
      "working on 145 of 252 -- 57% complete\n",
      "working on 146 of 252 -- 57% complete\n",
      "working on 147 of 252 -- 58% complete\n",
      "working on 148 of 252 -- 58% complete\n",
      "working on 149 of 252 -- 59% complete\n",
      "working on 150 of 252 -- 59% complete\n",
      "working on 151 of 252 -- 59% complete\n",
      "working on 152 of 252 -- 60% complete\n",
      "working on 153 of 252 -- 60% complete\n",
      "working on 154 of 252 -- 61% complete\n",
      "working on 155 of 252 -- 61% complete\n",
      "working on 156 of 252 -- 61% complete\n",
      "working on 157 of 252 -- 62% complete\n",
      "working on 158 of 252 -- 62% complete\n",
      "working on 159 of 252 -- 63% complete\n",
      "working on 160 of 252 -- 63% complete\n",
      "working on 161 of 252 -- 63% complete\n",
      "working on 162 of 252 -- 64% complete\n",
      "working on 163 of 252 -- 64% complete\n",
      "working on 164 of 252 -- 65% complete\n",
      "working on 165 of 252 -- 65% complete\n",
      "working on 166 of 252 -- 65% complete\n",
      "working on 167 of 252 -- 66% complete\n",
      "working on 168 of 252 -- 66% complete\n",
      "working on 169 of 252 -- 67% complete\n",
      "working on 170 of 252 -- 67% complete\n",
      "working on 171 of 252 -- 67% complete\n",
      "working on 172 of 252 -- 68% complete\n",
      "working on 173 of 252 -- 68% complete\n",
      "working on 174 of 252 -- 69% complete\n",
      "working on 175 of 252 -- 69% complete\n",
      "working on 176 of 252 -- 69% complete\n",
      "working on 177 of 252 -- 70% complete\n"
     ]
    },
    {
     "name": "stderr",
     "output_type": "stream",
     "text": [
      "C:\\Users\\Mya_L\\AppData\\Roaming\\Python\\Python39\\site-packages\\statsmodels\\base\\model.py:604: ConvergenceWarning: Maximum Likelihood optimization failed to converge. Check mle_retvals\n",
      "  warnings.warn(\"Maximum Likelihood optimization failed to \"\n"
     ]
    },
    {
     "name": "stdout",
     "output_type": "stream",
     "text": [
      "working on 178 of 252 -- 70% complete\n",
      "working on 179 of 252 -- 71% complete\n",
      "working on 180 of 252 -- 71% complete\n",
      "working on 181 of 252 -- 71% complete\n",
      "working on 182 of 252 -- 72% complete\n",
      "working on 183 of 252 -- 72% complete\n",
      "working on 184 of 252 -- 73% complete\n",
      "working on 185 of 252 -- 73% complete\n",
      "working on 186 of 252 -- 73% complete\n",
      "working on 187 of 252 -- 74% complete\n",
      "working on 188 of 252 -- 74% complete\n",
      "working on 189 of 252 -- 75% complete\n",
      "working on 190 of 252 -- 75% complete\n"
     ]
    },
    {
     "name": "stderr",
     "output_type": "stream",
     "text": [
      "C:\\Users\\Mya_L\\AppData\\Roaming\\Python\\Python39\\site-packages\\statsmodels\\base\\model.py:604: ConvergenceWarning: Maximum Likelihood optimization failed to converge. Check mle_retvals\n",
      "  warnings.warn(\"Maximum Likelihood optimization failed to \"\n"
     ]
    },
    {
     "name": "stdout",
     "output_type": "stream",
     "text": [
      "working on 191 of 252 -- 75% complete\n",
      "working on 192 of 252 -- 76% complete\n",
      "working on 193 of 252 -- 76% complete\n"
     ]
    },
    {
     "name": "stderr",
     "output_type": "stream",
     "text": [
      "C:\\Users\\Mya_L\\AppData\\Roaming\\Python\\Python39\\site-packages\\statsmodels\\base\\model.py:604: ConvergenceWarning: Maximum Likelihood optimization failed to converge. Check mle_retvals\n",
      "  warnings.warn(\"Maximum Likelihood optimization failed to \"\n"
     ]
    },
    {
     "name": "stdout",
     "output_type": "stream",
     "text": [
      "working on 194 of 252 -- 76% complete\n",
      "working on 195 of 252 -- 77% complete\n",
      "working on 196 of 252 -- 77% complete\n",
      "working on 197 of 252 -- 78% complete\n",
      "working on 198 of 252 -- 78% complete\n",
      "working on 199 of 252 -- 78% complete\n",
      "working on 200 of 252 -- 79% complete\n",
      "working on 201 of 252 -- 79% complete\n",
      "working on 202 of 252 -- 80% complete\n",
      "working on 203 of 252 -- 80% complete\n"
     ]
    },
    {
     "name": "stderr",
     "output_type": "stream",
     "text": [
      "C:\\Users\\Mya_L\\AppData\\Roaming\\Python\\Python39\\site-packages\\statsmodels\\base\\model.py:604: ConvergenceWarning: Maximum Likelihood optimization failed to converge. Check mle_retvals\n",
      "  warnings.warn(\"Maximum Likelihood optimization failed to \"\n"
     ]
    },
    {
     "name": "stdout",
     "output_type": "stream",
     "text": [
      "working on 204 of 252 -- 80% complete\n",
      "working on 205 of 252 -- 81% complete\n",
      "working on 206 of 252 -- 81% complete\n",
      "working on 207 of 252 -- 82% complete\n",
      "working on 208 of 252 -- 82% complete\n",
      "working on 209 of 252 -- 82% complete\n",
      "working on 210 of 252 -- 83% complete\n",
      "working on 211 of 252 -- 83% complete\n",
      "working on 212 of 252 -- 84% complete\n",
      "working on 213 of 252 -- 84% complete\n",
      "working on 214 of 252 -- 84% complete\n",
      "working on 215 of 252 -- 85% complete\n",
      "working on 216 of 252 -- 85% complete\n",
      "working on 217 of 252 -- 86% complete\n",
      "working on 218 of 252 -- 86% complete\n"
     ]
    },
    {
     "name": "stderr",
     "output_type": "stream",
     "text": [
      "C:\\Users\\Mya_L\\AppData\\Roaming\\Python\\Python39\\site-packages\\statsmodels\\base\\model.py:604: ConvergenceWarning: Maximum Likelihood optimization failed to converge. Check mle_retvals\n",
      "  warnings.warn(\"Maximum Likelihood optimization failed to \"\n"
     ]
    },
    {
     "name": "stdout",
     "output_type": "stream",
     "text": [
      "working on 219 of 252 -- 86% complete\n",
      "working on 220 of 252 -- 87% complete\n",
      "working on 221 of 252 -- 87% complete\n",
      "working on 222 of 252 -- 88% complete\n",
      "working on 223 of 252 -- 88% complete\n",
      "working on 224 of 252 -- 88% complete\n",
      "working on 225 of 252 -- 89% complete\n",
      "working on 226 of 252 -- 89% complete\n",
      "working on 227 of 252 -- 90% complete\n",
      "working on 228 of 252 -- 90% complete\n",
      "working on 229 of 252 -- 90% complete\n",
      "working on 230 of 252 -- 91% complete\n",
      "working on 231 of 252 -- 91% complete\n",
      "working on 232 of 252 -- 92% complete\n",
      "working on 233 of 252 -- 92% complete\n",
      "working on 234 of 252 -- 92% complete\n",
      "working on 235 of 252 -- 93% complete\n",
      "working on 236 of 252 -- 93% complete\n",
      "working on 237 of 252 -- 94% complete\n",
      "working on 238 of 252 -- 94% complete\n",
      "working on 239 of 252 -- 94% complete\n",
      "working on 240 of 252 -- 95% complete\n",
      "working on 241 of 252 -- 95% complete\n",
      "working on 242 of 252 -- 96% complete\n",
      "working on 243 of 252 -- 96% complete\n",
      "working on 244 of 252 -- 96% complete\n",
      "working on 245 of 252 -- 97% complete\n",
      "working on 246 of 252 -- 97% complete\n",
      "working on 247 of 252 -- 98% complete\n",
      "working on 248 of 252 -- 98% complete\n",
      "working on 249 of 252 -- 98% complete\n",
      "working on 250 of 252 -- 99% complete\n",
      "working on 251 of 252 -- 99% complete\n",
      "working on 252 of 252 -- 100% complete\n",
      "Epoch 1/500\n",
      "996/996 - 10s - loss: 0.0203 - 10s/epoch - 10ms/step\n",
      "Epoch 2/500\n",
      "996/996 - 4s - loss: 0.0070 - 4s/epoch - 4ms/step\n",
      "Epoch 3/500\n",
      "996/996 - 4s - loss: 0.0051 - 4s/epoch - 4ms/step\n",
      "Epoch 4/500\n",
      "996/996 - 9s - loss: 0.0044 - 9s/epoch - 9ms/step\n",
      "Epoch 5/500\n",
      "996/996 - 4s - loss: 0.0041 - 4s/epoch - 4ms/step\n",
      "Epoch 6/500\n",
      "996/996 - 4s - loss: 0.0037 - 4s/epoch - 4ms/step\n",
      "Epoch 7/500\n",
      "996/996 - 9s - loss: 0.0035 - 9s/epoch - 9ms/step\n",
      "Epoch 8/500\n",
      "996/996 - 4s - loss: 0.0032 - 4s/epoch - 4ms/step\n",
      "Epoch 9/500\n",
      "996/996 - 6s - loss: 0.0031 - 6s/epoch - 6ms/step\n",
      "Epoch 10/500\n",
      "996/996 - 4s - loss: 0.0029 - 4s/epoch - 4ms/step\n",
      "Epoch 11/500\n",
      "996/996 - 4s - loss: 0.0028 - 4s/epoch - 4ms/step\n",
      "Epoch 12/500\n",
      "996/996 - 4s - loss: 0.0026 - 4s/epoch - 4ms/step\n",
      "Epoch 13/500\n",
      "996/996 - 7s - loss: 0.0026 - 7s/epoch - 7ms/step\n",
      "Epoch 14/500\n",
      "996/996 - 6s - loss: 0.0024 - 6s/epoch - 6ms/step\n",
      "Epoch 15/500\n",
      "996/996 - 4s - loss: 0.0024 - 4s/epoch - 4ms/step\n",
      "Epoch 16/500\n",
      "996/996 - 4s - loss: 0.0023 - 4s/epoch - 4ms/step\n",
      "Epoch 17/500\n",
      "996/996 - 4s - loss: 0.0022 - 4s/epoch - 4ms/step\n",
      "Epoch 18/500\n",
      "996/996 - 4s - loss: 0.0021 - 4s/epoch - 4ms/step\n",
      "Epoch 19/500\n",
      "996/996 - 4s - loss: 0.0021 - 4s/epoch - 4ms/step\n",
      "Epoch 20/500\n",
      "996/996 - 4s - loss: 0.0020 - 4s/epoch - 4ms/step\n",
      "Epoch 21/500\n",
      "996/996 - 4s - loss: 0.0020 - 4s/epoch - 4ms/step\n",
      "Epoch 22/500\n",
      "996/996 - 6s - loss: 0.0019 - 6s/epoch - 6ms/step\n",
      "Epoch 23/500\n",
      "996/996 - 9s - loss: 0.0019 - 9s/epoch - 9ms/step\n",
      "Epoch 24/500\n",
      "996/996 - 8s - loss: 0.0019 - 8s/epoch - 8ms/step\n",
      "Epoch 25/500\n",
      "996/996 - 8s - loss: 0.0018 - 8s/epoch - 8ms/step\n",
      "Epoch 26/500\n",
      "996/996 - 8s - loss: 0.0018 - 8s/epoch - 8ms/step\n",
      "Epoch 27/500\n",
      "996/996 - 8s - loss: 0.0018 - 8s/epoch - 8ms/step\n",
      "Epoch 28/500\n",
      "996/996 - 6s - loss: 0.0017 - 6s/epoch - 6ms/step\n",
      "Epoch 29/500\n",
      "996/996 - 7s - loss: 0.0017 - 7s/epoch - 7ms/step\n",
      "Epoch 30/500\n",
      "996/996 - 4s - loss: 0.0017 - 4s/epoch - 4ms/step\n",
      "Epoch 31/500\n",
      "996/996 - 4s - loss: 0.0017 - 4s/epoch - 4ms/step\n",
      "Epoch 32/500\n",
      "996/996 - 4s - loss: 0.0016 - 4s/epoch - 4ms/step\n",
      "Epoch 33/500\n",
      "996/996 - 5s - loss: 0.0016 - 5s/epoch - 5ms/step\n",
      "Epoch 34/500\n",
      "996/996 - 4s - loss: 0.0016 - 4s/epoch - 4ms/step\n",
      "Epoch 35/500\n",
      "996/996 - 6s - loss: 0.0015 - 6s/epoch - 6ms/step\n",
      "Epoch 36/500\n",
      "996/996 - 5s - loss: 0.0015 - 5s/epoch - 5ms/step\n",
      "Epoch 37/500\n",
      "996/996 - 4s - loss: 0.0015 - 4s/epoch - 4ms/step\n",
      "Epoch 38/500\n",
      "996/996 - 4s - loss: 0.0015 - 4s/epoch - 4ms/step\n",
      "Epoch 39/500\n",
      "996/996 - 4s - loss: 0.0015 - 4s/epoch - 4ms/step\n",
      "Epoch 40/500\n",
      "996/996 - 5s - loss: 0.0015 - 5s/epoch - 5ms/step\n",
      "Epoch 41/500\n",
      "996/996 - 4s - loss: 0.0015 - 4s/epoch - 4ms/step\n",
      "Epoch 42/500\n",
      "996/996 - 4s - loss: 0.0015 - 4s/epoch - 4ms/step\n",
      "Epoch 43/500\n",
      "996/996 - 4s - loss: 0.0015 - 4s/epoch - 4ms/step\n",
      "Epoch 44/500\n",
      "996/996 - 4s - loss: 0.0014 - 4s/epoch - 4ms/step\n",
      "Epoch 45/500\n",
      "996/996 - 4s - loss: 0.0015 - 4s/epoch - 4ms/step\n",
      "Epoch 46/500\n",
      "996/996 - 4s - loss: 0.0014 - 4s/epoch - 4ms/step\n",
      "Epoch 47/500\n",
      "996/996 - 5s - loss: 0.0015 - 5s/epoch - 5ms/step\n",
      "Epoch 48/500\n",
      "996/996 - 4s - loss: 0.0014 - 4s/epoch - 4ms/step\n",
      "Epoch 49/500\n",
      "996/996 - 4s - loss: 0.0015 - 4s/epoch - 4ms/step\n",
      "Epoch 49: early stopping\n",
      "8/8 [==============================] - 6s 11ms/step\n",
      "\n",
      "Working on T3 predictions\n",
      "ARIMA error, skipping to next MA type\n",
      "\n",
      "Working on TRIMA predictions\n",
      "Performing stepwise search to minimize aic\n",
      " ARIMA(2,2,2)(0,0,0)[0] intercept   : AIC=-10561.592, Time=1.93 sec\n",
      " ARIMA(0,2,0)(0,0,0)[0] intercept   : AIC=-7651.350, Time=1.17 sec\n",
      " ARIMA(1,2,0)(0,0,0)[0] intercept   : AIC=-10511.363, Time=0.47 sec\n",
      " ARIMA(0,2,1)(0,0,0)[0] intercept   : AIC=-8784.767, Time=1.84 sec\n",
      " ARIMA(0,2,0)(0,0,0)[0]             : AIC=-7652.805, Time=0.23 sec\n",
      " ARIMA(1,2,2)(0,0,0)[0] intercept   : AIC=-10563.550, Time=2.23 sec\n",
      " ARIMA(0,2,2)(0,0,0)[0] intercept   : AIC=-9461.310, Time=6.95 sec\n",
      " ARIMA(1,2,1)(0,0,0)[0] intercept   : AIC=-10561.874, Time=1.61 sec\n",
      " ARIMA(1,2,3)(0,0,0)[0] intercept   : AIC=-10563.033, Time=1.21 sec\n",
      " ARIMA(0,2,3)(0,0,0)[0] intercept   : AIC=-9787.622, Time=3.92 sec\n",
      " ARIMA(2,2,1)(0,0,0)[0] intercept   : AIC=-10563.240, Time=2.15 sec\n",
      " ARIMA(2,2,3)(0,0,0)[0] intercept   : AIC=-10562.570, Time=4.54 sec\n",
      " ARIMA(1,2,2)(0,0,0)[0]             : AIC=-10565.602, Time=1.34 sec\n",
      " ARIMA(0,2,2)(0,0,0)[0]             : AIC=-9475.868, Time=3.69 sec\n",
      " ARIMA(1,2,1)(0,0,0)[0]             : AIC=-10563.891, Time=0.38 sec\n",
      " ARIMA(2,2,2)(0,0,0)[0]             : AIC=-10563.635, Time=0.44 sec\n",
      " ARIMA(1,2,3)(0,0,0)[0]             : AIC=-10565.089, Time=0.87 sec\n",
      " ARIMA(0,2,1)(0,0,0)[0]             : AIC=-8786.336, Time=0.64 sec\n",
      " ARIMA(0,2,3)(0,0,0)[0]             : AIC=-9794.294, Time=5.11 sec\n",
      " ARIMA(2,2,1)(0,0,0)[0]             : AIC=-10565.254, Time=0.95 sec\n",
      " ARIMA(2,2,3)(0,0,0)[0]             : AIC=-10564.780, Time=1.23 sec\n",
      "\n",
      "Best model:  ARIMA(1,2,2)(0,0,0)[0]          \n",
      "Total fit time: 42.984 seconds\n",
      "ARIMA order: (1, 2, 2) \n",
      "\n",
      "working on 1 of 252 -- 0% complete\n",
      "working on 2 of 252 -- 0% complete\n",
      "working on 3 of 252 -- 1% complete\n",
      "working on 4 of 252 -- 1% complete\n",
      "working on 5 of 252 -- 1% complete\n",
      "working on 6 of 252 -- 2% complete\n",
      "working on 7 of 252 -- 2% complete\n",
      "working on 8 of 252 -- 3% complete\n",
      "working on 9 of 252 -- 3% complete\n"
     ]
    },
    {
     "name": "stderr",
     "output_type": "stream",
     "text": [
      "C:\\Users\\Mya_L\\AppData\\Roaming\\Python\\Python39\\site-packages\\statsmodels\\base\\model.py:604: ConvergenceWarning: Maximum Likelihood optimization failed to converge. Check mle_retvals\n",
      "  warnings.warn(\"Maximum Likelihood optimization failed to \"\n"
     ]
    },
    {
     "name": "stdout",
     "output_type": "stream",
     "text": [
      "working on 10 of 252 -- 3% complete\n",
      "working on 11 of 252 -- 4% complete\n",
      "working on 12 of 252 -- 4% complete\n",
      "working on 13 of 252 -- 5% complete\n",
      "working on 14 of 252 -- 5% complete\n",
      "working on 15 of 252 -- 5% complete\n",
      "working on 16 of 252 -- 6% complete\n"
     ]
    },
    {
     "name": "stderr",
     "output_type": "stream",
     "text": [
      "C:\\Users\\Mya_L\\AppData\\Roaming\\Python\\Python39\\site-packages\\statsmodels\\base\\model.py:604: ConvergenceWarning: Maximum Likelihood optimization failed to converge. Check mle_retvals\n",
      "  warnings.warn(\"Maximum Likelihood optimization failed to \"\n"
     ]
    },
    {
     "name": "stdout",
     "output_type": "stream",
     "text": [
      "working on 17 of 252 -- 6% complete\n"
     ]
    },
    {
     "name": "stderr",
     "output_type": "stream",
     "text": [
      "C:\\Users\\Mya_L\\AppData\\Roaming\\Python\\Python39\\site-packages\\statsmodels\\base\\model.py:604: ConvergenceWarning: Maximum Likelihood optimization failed to converge. Check mle_retvals\n",
      "  warnings.warn(\"Maximum Likelihood optimization failed to \"\n"
     ]
    },
    {
     "name": "stdout",
     "output_type": "stream",
     "text": [
      "working on 18 of 252 -- 7% complete\n",
      "working on 19 of 252 -- 7% complete\n",
      "working on 20 of 252 -- 7% complete\n"
     ]
    },
    {
     "name": "stderr",
     "output_type": "stream",
     "text": [
      "C:\\Users\\Mya_L\\AppData\\Roaming\\Python\\Python39\\site-packages\\statsmodels\\base\\model.py:604: ConvergenceWarning: Maximum Likelihood optimization failed to converge. Check mle_retvals\n",
      "  warnings.warn(\"Maximum Likelihood optimization failed to \"\n"
     ]
    },
    {
     "name": "stdout",
     "output_type": "stream",
     "text": [
      "working on 21 of 252 -- 8% complete\n"
     ]
    },
    {
     "name": "stderr",
     "output_type": "stream",
     "text": [
      "C:\\Users\\Mya_L\\AppData\\Roaming\\Python\\Python39\\site-packages\\statsmodels\\base\\model.py:604: ConvergenceWarning: Maximum Likelihood optimization failed to converge. Check mle_retvals\n",
      "  warnings.warn(\"Maximum Likelihood optimization failed to \"\n"
     ]
    },
    {
     "name": "stdout",
     "output_type": "stream",
     "text": [
      "working on 22 of 252 -- 8% complete\n",
      "working on 23 of 252 -- 9% complete\n",
      "working on 24 of 252 -- 9% complete\n"
     ]
    },
    {
     "name": "stderr",
     "output_type": "stream",
     "text": [
      "C:\\Users\\Mya_L\\AppData\\Roaming\\Python\\Python39\\site-packages\\statsmodels\\base\\model.py:604: ConvergenceWarning: Maximum Likelihood optimization failed to converge. Check mle_retvals\n",
      "  warnings.warn(\"Maximum Likelihood optimization failed to \"\n"
     ]
    },
    {
     "name": "stdout",
     "output_type": "stream",
     "text": [
      "working on 25 of 252 -- 9% complete\n",
      "working on 26 of 252 -- 10% complete\n",
      "working on 27 of 252 -- 10% complete\n"
     ]
    },
    {
     "name": "stderr",
     "output_type": "stream",
     "text": [
      "C:\\Users\\Mya_L\\AppData\\Roaming\\Python\\Python39\\site-packages\\statsmodels\\base\\model.py:604: ConvergenceWarning: Maximum Likelihood optimization failed to converge. Check mle_retvals\n",
      "  warnings.warn(\"Maximum Likelihood optimization failed to \"\n"
     ]
    },
    {
     "name": "stdout",
     "output_type": "stream",
     "text": [
      "working on 28 of 252 -- 11% complete\n",
      "working on 29 of 252 -- 11% complete\n",
      "working on 30 of 252 -- 11% complete\n",
      "working on 31 of 252 -- 12% complete\n",
      "working on 32 of 252 -- 12% complete\n",
      "working on 33 of 252 -- 13% complete\n",
      "working on 34 of 252 -- 13% complete\n"
     ]
    },
    {
     "name": "stderr",
     "output_type": "stream",
     "text": [
      "C:\\Users\\Mya_L\\AppData\\Roaming\\Python\\Python39\\site-packages\\statsmodels\\base\\model.py:604: ConvergenceWarning: Maximum Likelihood optimization failed to converge. Check mle_retvals\n",
      "  warnings.warn(\"Maximum Likelihood optimization failed to \"\n"
     ]
    },
    {
     "name": "stdout",
     "output_type": "stream",
     "text": [
      "working on 35 of 252 -- 13% complete\n",
      "working on 36 of 252 -- 14% complete\n",
      "working on 37 of 252 -- 14% complete\n",
      "working on 38 of 252 -- 15% complete\n",
      "working on 39 of 252 -- 15% complete\n",
      "working on 40 of 252 -- 15% complete\n",
      "working on 41 of 252 -- 16% complete\n",
      "working on 42 of 252 -- 16% complete\n"
     ]
    },
    {
     "name": "stderr",
     "output_type": "stream",
     "text": [
      "C:\\Users\\Mya_L\\AppData\\Roaming\\Python\\Python39\\site-packages\\statsmodels\\base\\model.py:604: ConvergenceWarning: Maximum Likelihood optimization failed to converge. Check mle_retvals\n",
      "  warnings.warn(\"Maximum Likelihood optimization failed to \"\n"
     ]
    },
    {
     "name": "stdout",
     "output_type": "stream",
     "text": [
      "working on 43 of 252 -- 17% complete\n",
      "working on 44 of 252 -- 17% complete\n",
      "working on 45 of 252 -- 17% complete\n",
      "working on 46 of 252 -- 18% complete\n"
     ]
    },
    {
     "name": "stderr",
     "output_type": "stream",
     "text": [
      "C:\\Users\\Mya_L\\AppData\\Roaming\\Python\\Python39\\site-packages\\statsmodels\\base\\model.py:604: ConvergenceWarning: Maximum Likelihood optimization failed to converge. Check mle_retvals\n",
      "  warnings.warn(\"Maximum Likelihood optimization failed to \"\n"
     ]
    },
    {
     "name": "stdout",
     "output_type": "stream",
     "text": [
      "working on 47 of 252 -- 18% complete\n",
      "working on 48 of 252 -- 19% complete\n",
      "working on 49 of 252 -- 19% complete\n"
     ]
    },
    {
     "name": "stderr",
     "output_type": "stream",
     "text": [
      "C:\\Users\\Mya_L\\AppData\\Roaming\\Python\\Python39\\site-packages\\statsmodels\\base\\model.py:604: ConvergenceWarning: Maximum Likelihood optimization failed to converge. Check mle_retvals\n",
      "  warnings.warn(\"Maximum Likelihood optimization failed to \"\n"
     ]
    },
    {
     "name": "stdout",
     "output_type": "stream",
     "text": [
      "working on 50 of 252 -- 19% complete\n",
      "working on 51 of 252 -- 20% complete\n",
      "working on 52 of 252 -- 20% complete\n",
      "working on 53 of 252 -- 21% complete\n"
     ]
    },
    {
     "name": "stderr",
     "output_type": "stream",
     "text": [
      "C:\\Users\\Mya_L\\AppData\\Roaming\\Python\\Python39\\site-packages\\statsmodels\\base\\model.py:604: ConvergenceWarning: Maximum Likelihood optimization failed to converge. Check mle_retvals\n",
      "  warnings.warn(\"Maximum Likelihood optimization failed to \"\n"
     ]
    },
    {
     "name": "stdout",
     "output_type": "stream",
     "text": [
      "working on 54 of 252 -- 21% complete\n",
      "working on 55 of 252 -- 21% complete\n"
     ]
    },
    {
     "name": "stderr",
     "output_type": "stream",
     "text": [
      "C:\\Users\\Mya_L\\AppData\\Roaming\\Python\\Python39\\site-packages\\statsmodels\\base\\model.py:604: ConvergenceWarning: Maximum Likelihood optimization failed to converge. Check mle_retvals\n",
      "  warnings.warn(\"Maximum Likelihood optimization failed to \"\n"
     ]
    },
    {
     "name": "stdout",
     "output_type": "stream",
     "text": [
      "working on 56 of 252 -- 22% complete\n",
      "working on 57 of 252 -- 22% complete\n",
      "working on 58 of 252 -- 23% complete\n",
      "working on 59 of 252 -- 23% complete\n"
     ]
    },
    {
     "name": "stderr",
     "output_type": "stream",
     "text": [
      "C:\\Users\\Mya_L\\AppData\\Roaming\\Python\\Python39\\site-packages\\statsmodels\\base\\model.py:604: ConvergenceWarning: Maximum Likelihood optimization failed to converge. Check mle_retvals\n",
      "  warnings.warn(\"Maximum Likelihood optimization failed to \"\n"
     ]
    },
    {
     "name": "stdout",
     "output_type": "stream",
     "text": [
      "working on 60 of 252 -- 23% complete\n",
      "working on 61 of 252 -- 24% complete\n",
      "working on 62 of 252 -- 24% complete\n",
      "working on 63 of 252 -- 25% complete\n",
      "working on 64 of 252 -- 25% complete\n"
     ]
    },
    {
     "name": "stderr",
     "output_type": "stream",
     "text": [
      "C:\\Users\\Mya_L\\AppData\\Roaming\\Python\\Python39\\site-packages\\statsmodels\\base\\model.py:604: ConvergenceWarning: Maximum Likelihood optimization failed to converge. Check mle_retvals\n",
      "  warnings.warn(\"Maximum Likelihood optimization failed to \"\n"
     ]
    },
    {
     "name": "stdout",
     "output_type": "stream",
     "text": [
      "working on 65 of 252 -- 25% complete\n"
     ]
    },
    {
     "name": "stderr",
     "output_type": "stream",
     "text": [
      "C:\\Users\\Mya_L\\AppData\\Roaming\\Python\\Python39\\site-packages\\statsmodels\\base\\model.py:604: ConvergenceWarning: Maximum Likelihood optimization failed to converge. Check mle_retvals\n",
      "  warnings.warn(\"Maximum Likelihood optimization failed to \"\n"
     ]
    },
    {
     "name": "stdout",
     "output_type": "stream",
     "text": [
      "working on 66 of 252 -- 26% complete\n",
      "working on 67 of 252 -- 26% complete\n",
      "working on 68 of 252 -- 26% complete\n"
     ]
    },
    {
     "name": "stderr",
     "output_type": "stream",
     "text": [
      "C:\\Users\\Mya_L\\AppData\\Roaming\\Python\\Python39\\site-packages\\statsmodels\\base\\model.py:604: ConvergenceWarning: Maximum Likelihood optimization failed to converge. Check mle_retvals\n",
      "  warnings.warn(\"Maximum Likelihood optimization failed to \"\n"
     ]
    },
    {
     "name": "stdout",
     "output_type": "stream",
     "text": [
      "working on 69 of 252 -- 27% complete\n",
      "working on 70 of 252 -- 27% complete\n"
     ]
    },
    {
     "name": "stderr",
     "output_type": "stream",
     "text": [
      "C:\\Users\\Mya_L\\AppData\\Roaming\\Python\\Python39\\site-packages\\statsmodels\\base\\model.py:604: ConvergenceWarning: Maximum Likelihood optimization failed to converge. Check mle_retvals\n",
      "  warnings.warn(\"Maximum Likelihood optimization failed to \"\n"
     ]
    },
    {
     "name": "stdout",
     "output_type": "stream",
     "text": [
      "working on 71 of 252 -- 28% complete\n"
     ]
    },
    {
     "name": "stderr",
     "output_type": "stream",
     "text": [
      "C:\\Users\\Mya_L\\AppData\\Roaming\\Python\\Python39\\site-packages\\statsmodels\\base\\model.py:604: ConvergenceWarning: Maximum Likelihood optimization failed to converge. Check mle_retvals\n",
      "  warnings.warn(\"Maximum Likelihood optimization failed to \"\n"
     ]
    },
    {
     "name": "stdout",
     "output_type": "stream",
     "text": [
      "working on 72 of 252 -- 28% complete\n",
      "working on 73 of 252 -- 28% complete\n",
      "working on 74 of 252 -- 29% complete\n",
      "working on 75 of 252 -- 29% complete\n",
      "working on 76 of 252 -- 30% complete\n",
      "working on 77 of 252 -- 30% complete\n",
      "working on 78 of 252 -- 30% complete\n",
      "working on 79 of 252 -- 31% complete\n",
      "working on 80 of 252 -- 31% complete\n"
     ]
    },
    {
     "name": "stderr",
     "output_type": "stream",
     "text": [
      "C:\\Users\\Mya_L\\AppData\\Roaming\\Python\\Python39\\site-packages\\statsmodels\\base\\model.py:604: ConvergenceWarning: Maximum Likelihood optimization failed to converge. Check mle_retvals\n",
      "  warnings.warn(\"Maximum Likelihood optimization failed to \"\n"
     ]
    },
    {
     "name": "stdout",
     "output_type": "stream",
     "text": [
      "working on 81 of 252 -- 32% complete\n",
      "working on 82 of 252 -- 32% complete\n",
      "working on 83 of 252 -- 32% complete\n",
      "working on 84 of 252 -- 33% complete\n",
      "working on 85 of 252 -- 33% complete\n",
      "working on 86 of 252 -- 34% complete\n",
      "working on 87 of 252 -- 34% complete\n",
      "working on 88 of 252 -- 34% complete\n",
      "working on 89 of 252 -- 35% complete\n",
      "working on 90 of 252 -- 35% complete\n",
      "working on 91 of 252 -- 36% complete\n",
      "working on 92 of 252 -- 36% complete\n",
      "working on 93 of 252 -- 36% complete\n",
      "working on 94 of 252 -- 37% complete\n",
      "working on 95 of 252 -- 37% complete\n"
     ]
    },
    {
     "name": "stderr",
     "output_type": "stream",
     "text": [
      "C:\\Users\\Mya_L\\AppData\\Roaming\\Python\\Python39\\site-packages\\statsmodels\\base\\model.py:604: ConvergenceWarning: Maximum Likelihood optimization failed to converge. Check mle_retvals\n",
      "  warnings.warn(\"Maximum Likelihood optimization failed to \"\n"
     ]
    },
    {
     "name": "stdout",
     "output_type": "stream",
     "text": [
      "working on 96 of 252 -- 38% complete\n"
     ]
    },
    {
     "name": "stderr",
     "output_type": "stream",
     "text": [
      "C:\\Users\\Mya_L\\AppData\\Roaming\\Python\\Python39\\site-packages\\statsmodels\\base\\model.py:604: ConvergenceWarning: Maximum Likelihood optimization failed to converge. Check mle_retvals\n",
      "  warnings.warn(\"Maximum Likelihood optimization failed to \"\n"
     ]
    },
    {
     "name": "stdout",
     "output_type": "stream",
     "text": [
      "working on 97 of 252 -- 38% complete\n",
      "working on 98 of 252 -- 38% complete\n",
      "working on 99 of 252 -- 39% complete\n"
     ]
    },
    {
     "name": "stderr",
     "output_type": "stream",
     "text": [
      "C:\\Users\\Mya_L\\AppData\\Roaming\\Python\\Python39\\site-packages\\statsmodels\\base\\model.py:604: ConvergenceWarning: Maximum Likelihood optimization failed to converge. Check mle_retvals\n",
      "  warnings.warn(\"Maximum Likelihood optimization failed to \"\n"
     ]
    },
    {
     "name": "stdout",
     "output_type": "stream",
     "text": [
      "working on 100 of 252 -- 39% complete\n"
     ]
    },
    {
     "name": "stderr",
     "output_type": "stream",
     "text": [
      "C:\\Users\\Mya_L\\AppData\\Roaming\\Python\\Python39\\site-packages\\statsmodels\\base\\model.py:604: ConvergenceWarning: Maximum Likelihood optimization failed to converge. Check mle_retvals\n",
      "  warnings.warn(\"Maximum Likelihood optimization failed to \"\n"
     ]
    },
    {
     "name": "stdout",
     "output_type": "stream",
     "text": [
      "working on 101 of 252 -- 40% complete\n",
      "working on 102 of 252 -- 40% complete\n",
      "working on 103 of 252 -- 40% complete\n",
      "working on 104 of 252 -- 41% complete\n",
      "working on 105 of 252 -- 41% complete\n",
      "working on 106 of 252 -- 42% complete\n"
     ]
    },
    {
     "name": "stderr",
     "output_type": "stream",
     "text": [
      "C:\\Users\\Mya_L\\AppData\\Roaming\\Python\\Python39\\site-packages\\statsmodels\\base\\model.py:604: ConvergenceWarning: Maximum Likelihood optimization failed to converge. Check mle_retvals\n",
      "  warnings.warn(\"Maximum Likelihood optimization failed to \"\n"
     ]
    },
    {
     "name": "stdout",
     "output_type": "stream",
     "text": [
      "working on 107 of 252 -- 42% complete\n",
      "working on 108 of 252 -- 42% complete\n",
      "working on 109 of 252 -- 43% complete\n",
      "working on 110 of 252 -- 43% complete\n",
      "working on 111 of 252 -- 44% complete\n"
     ]
    },
    {
     "name": "stderr",
     "output_type": "stream",
     "text": [
      "C:\\Users\\Mya_L\\AppData\\Roaming\\Python\\Python39\\site-packages\\statsmodels\\base\\model.py:604: ConvergenceWarning: Maximum Likelihood optimization failed to converge. Check mle_retvals\n",
      "  warnings.warn(\"Maximum Likelihood optimization failed to \"\n"
     ]
    },
    {
     "name": "stdout",
     "output_type": "stream",
     "text": [
      "working on 112 of 252 -- 44% complete\n",
      "working on 113 of 252 -- 44% complete\n"
     ]
    },
    {
     "name": "stderr",
     "output_type": "stream",
     "text": [
      "C:\\Users\\Mya_L\\AppData\\Roaming\\Python\\Python39\\site-packages\\statsmodels\\base\\model.py:604: ConvergenceWarning: Maximum Likelihood optimization failed to converge. Check mle_retvals\n",
      "  warnings.warn(\"Maximum Likelihood optimization failed to \"\n"
     ]
    },
    {
     "name": "stdout",
     "output_type": "stream",
     "text": [
      "working on 114 of 252 -- 45% complete\n"
     ]
    },
    {
     "name": "stderr",
     "output_type": "stream",
     "text": [
      "C:\\Users\\Mya_L\\AppData\\Roaming\\Python\\Python39\\site-packages\\statsmodels\\base\\model.py:604: ConvergenceWarning: Maximum Likelihood optimization failed to converge. Check mle_retvals\n",
      "  warnings.warn(\"Maximum Likelihood optimization failed to \"\n"
     ]
    },
    {
     "name": "stdout",
     "output_type": "stream",
     "text": [
      "working on 115 of 252 -- 45% complete\n",
      "working on 116 of 252 -- 46% complete\n",
      "working on 117 of 252 -- 46% complete\n",
      "working on 118 of 252 -- 46% complete\n",
      "working on 119 of 252 -- 47% complete\n",
      "working on 120 of 252 -- 47% complete\n",
      "working on 121 of 252 -- 48% complete\n",
      "working on 122 of 252 -- 48% complete\n",
      "working on 123 of 252 -- 48% complete\n",
      "working on 124 of 252 -- 49% complete\n",
      "working on 125 of 252 -- 49% complete\n",
      "working on 126 of 252 -- 50% complete\n",
      "working on 127 of 252 -- 50% complete\n",
      "working on 128 of 252 -- 50% complete\n",
      "working on 129 of 252 -- 51% complete\n"
     ]
    },
    {
     "name": "stderr",
     "output_type": "stream",
     "text": [
      "C:\\Users\\Mya_L\\AppData\\Roaming\\Python\\Python39\\site-packages\\statsmodels\\base\\model.py:604: ConvergenceWarning: Maximum Likelihood optimization failed to converge. Check mle_retvals\n",
      "  warnings.warn(\"Maximum Likelihood optimization failed to \"\n"
     ]
    },
    {
     "name": "stdout",
     "output_type": "stream",
     "text": [
      "working on 130 of 252 -- 51% complete\n",
      "working on 131 of 252 -- 51% complete\n",
      "working on 132 of 252 -- 52% complete\n",
      "working on 133 of 252 -- 52% complete\n",
      "working on 134 of 252 -- 53% complete\n",
      "working on 135 of 252 -- 53% complete\n",
      "working on 136 of 252 -- 53% complete\n"
     ]
    },
    {
     "name": "stderr",
     "output_type": "stream",
     "text": [
      "C:\\Users\\Mya_L\\AppData\\Roaming\\Python\\Python39\\site-packages\\statsmodels\\base\\model.py:604: ConvergenceWarning: Maximum Likelihood optimization failed to converge. Check mle_retvals\n",
      "  warnings.warn(\"Maximum Likelihood optimization failed to \"\n"
     ]
    },
    {
     "name": "stdout",
     "output_type": "stream",
     "text": [
      "working on 137 of 252 -- 54% complete\n",
      "working on 138 of 252 -- 54% complete\n",
      "working on 139 of 252 -- 55% complete\n",
      "working on 140 of 252 -- 55% complete\n",
      "working on 141 of 252 -- 55% complete\n",
      "working on 142 of 252 -- 56% complete\n",
      "working on 143 of 252 -- 56% complete\n"
     ]
    },
    {
     "name": "stderr",
     "output_type": "stream",
     "text": [
      "C:\\Users\\Mya_L\\AppData\\Roaming\\Python\\Python39\\site-packages\\statsmodels\\base\\model.py:604: ConvergenceWarning: Maximum Likelihood optimization failed to converge. Check mle_retvals\n",
      "  warnings.warn(\"Maximum Likelihood optimization failed to \"\n"
     ]
    },
    {
     "name": "stdout",
     "output_type": "stream",
     "text": [
      "working on 144 of 252 -- 57% complete\n",
      "working on 145 of 252 -- 57% complete\n"
     ]
    },
    {
     "name": "stderr",
     "output_type": "stream",
     "text": [
      "C:\\Users\\Mya_L\\AppData\\Roaming\\Python\\Python39\\site-packages\\statsmodels\\base\\model.py:604: ConvergenceWarning: Maximum Likelihood optimization failed to converge. Check mle_retvals\n",
      "  warnings.warn(\"Maximum Likelihood optimization failed to \"\n"
     ]
    },
    {
     "name": "stdout",
     "output_type": "stream",
     "text": [
      "working on 146 of 252 -- 57% complete\n",
      "working on 147 of 252 -- 58% complete\n"
     ]
    },
    {
     "name": "stderr",
     "output_type": "stream",
     "text": [
      "C:\\Users\\Mya_L\\AppData\\Roaming\\Python\\Python39\\site-packages\\statsmodels\\base\\model.py:604: ConvergenceWarning: Maximum Likelihood optimization failed to converge. Check mle_retvals\n",
      "  warnings.warn(\"Maximum Likelihood optimization failed to \"\n"
     ]
    },
    {
     "name": "stdout",
     "output_type": "stream",
     "text": [
      "working on 148 of 252 -- 58% complete\n",
      "working on 149 of 252 -- 59% complete\n"
     ]
    },
    {
     "name": "stderr",
     "output_type": "stream",
     "text": [
      "C:\\Users\\Mya_L\\AppData\\Roaming\\Python\\Python39\\site-packages\\statsmodels\\base\\model.py:604: ConvergenceWarning: Maximum Likelihood optimization failed to converge. Check mle_retvals\n",
      "  warnings.warn(\"Maximum Likelihood optimization failed to \"\n"
     ]
    },
    {
     "name": "stdout",
     "output_type": "stream",
     "text": [
      "working on 150 of 252 -- 59% complete\n",
      "working on 151 of 252 -- 59% complete\n"
     ]
    },
    {
     "name": "stderr",
     "output_type": "stream",
     "text": [
      "C:\\Users\\Mya_L\\AppData\\Roaming\\Python\\Python39\\site-packages\\statsmodels\\base\\model.py:604: ConvergenceWarning: Maximum Likelihood optimization failed to converge. Check mle_retvals\n",
      "  warnings.warn(\"Maximum Likelihood optimization failed to \"\n"
     ]
    },
    {
     "name": "stdout",
     "output_type": "stream",
     "text": [
      "working on 152 of 252 -- 60% complete\n",
      "working on 153 of 252 -- 60% complete\n",
      "working on 154 of 252 -- 61% complete\n",
      "working on 155 of 252 -- 61% complete\n",
      "working on 156 of 252 -- 61% complete\n",
      "working on 157 of 252 -- 62% complete\n",
      "working on 158 of 252 -- 62% complete\n",
      "working on 159 of 252 -- 63% complete\n",
      "working on 160 of 252 -- 63% complete\n",
      "working on 161 of 252 -- 63% complete\n"
     ]
    },
    {
     "name": "stderr",
     "output_type": "stream",
     "text": [
      "C:\\Users\\Mya_L\\AppData\\Roaming\\Python\\Python39\\site-packages\\statsmodels\\base\\model.py:604: ConvergenceWarning: Maximum Likelihood optimization failed to converge. Check mle_retvals\n",
      "  warnings.warn(\"Maximum Likelihood optimization failed to \"\n"
     ]
    },
    {
     "name": "stdout",
     "output_type": "stream",
     "text": [
      "working on 162 of 252 -- 64% complete\n",
      "working on 163 of 252 -- 64% complete\n",
      "working on 164 of 252 -- 65% complete\n",
      "working on 165 of 252 -- 65% complete\n",
      "working on 166 of 252 -- 65% complete\n",
      "working on 167 of 252 -- 66% complete\n",
      "working on 168 of 252 -- 66% complete\n",
      "working on 169 of 252 -- 67% complete\n",
      "working on 170 of 252 -- 67% complete\n",
      "working on 171 of 252 -- 67% complete\n"
     ]
    },
    {
     "name": "stderr",
     "output_type": "stream",
     "text": [
      "C:\\Users\\Mya_L\\AppData\\Roaming\\Python\\Python39\\site-packages\\statsmodels\\base\\model.py:604: ConvergenceWarning: Maximum Likelihood optimization failed to converge. Check mle_retvals\n",
      "  warnings.warn(\"Maximum Likelihood optimization failed to \"\n"
     ]
    },
    {
     "name": "stdout",
     "output_type": "stream",
     "text": [
      "working on 172 of 252 -- 68% complete\n",
      "working on 173 of 252 -- 68% complete\n",
      "working on 174 of 252 -- 69% complete\n"
     ]
    },
    {
     "name": "stderr",
     "output_type": "stream",
     "text": [
      "C:\\Users\\Mya_L\\AppData\\Roaming\\Python\\Python39\\site-packages\\statsmodels\\base\\model.py:604: ConvergenceWarning: Maximum Likelihood optimization failed to converge. Check mle_retvals\n",
      "  warnings.warn(\"Maximum Likelihood optimization failed to \"\n"
     ]
    },
    {
     "name": "stdout",
     "output_type": "stream",
     "text": [
      "working on 175 of 252 -- 69% complete\n",
      "working on 176 of 252 -- 69% complete\n",
      "working on 177 of 252 -- 70% complete\n"
     ]
    },
    {
     "name": "stderr",
     "output_type": "stream",
     "text": [
      "C:\\Users\\Mya_L\\AppData\\Roaming\\Python\\Python39\\site-packages\\statsmodels\\base\\model.py:604: ConvergenceWarning: Maximum Likelihood optimization failed to converge. Check mle_retvals\n",
      "  warnings.warn(\"Maximum Likelihood optimization failed to \"\n"
     ]
    },
    {
     "name": "stdout",
     "output_type": "stream",
     "text": [
      "working on 178 of 252 -- 70% complete\n",
      "working on 179 of 252 -- 71% complete\n",
      "working on 180 of 252 -- 71% complete\n",
      "working on 181 of 252 -- 71% complete\n",
      "working on 182 of 252 -- 72% complete\n",
      "working on 183 of 252 -- 72% complete\n",
      "working on 184 of 252 -- 73% complete\n",
      "working on 185 of 252 -- 73% complete\n"
     ]
    },
    {
     "name": "stderr",
     "output_type": "stream",
     "text": [
      "C:\\Users\\Mya_L\\AppData\\Roaming\\Python\\Python39\\site-packages\\statsmodels\\base\\model.py:604: ConvergenceWarning: Maximum Likelihood optimization failed to converge. Check mle_retvals\n",
      "  warnings.warn(\"Maximum Likelihood optimization failed to \"\n"
     ]
    },
    {
     "name": "stdout",
     "output_type": "stream",
     "text": [
      "working on 186 of 252 -- 73% complete\n"
     ]
    },
    {
     "name": "stderr",
     "output_type": "stream",
     "text": [
      "C:\\Users\\Mya_L\\AppData\\Roaming\\Python\\Python39\\site-packages\\statsmodels\\base\\model.py:604: ConvergenceWarning: Maximum Likelihood optimization failed to converge. Check mle_retvals\n",
      "  warnings.warn(\"Maximum Likelihood optimization failed to \"\n"
     ]
    },
    {
     "name": "stdout",
     "output_type": "stream",
     "text": [
      "working on 187 of 252 -- 74% complete\n",
      "working on 188 of 252 -- 74% complete\n",
      "working on 189 of 252 -- 75% complete\n"
     ]
    },
    {
     "name": "stderr",
     "output_type": "stream",
     "text": [
      "C:\\Users\\Mya_L\\AppData\\Roaming\\Python\\Python39\\site-packages\\statsmodels\\base\\model.py:604: ConvergenceWarning: Maximum Likelihood optimization failed to converge. Check mle_retvals\n",
      "  warnings.warn(\"Maximum Likelihood optimization failed to \"\n"
     ]
    },
    {
     "name": "stdout",
     "output_type": "stream",
     "text": [
      "working on 190 of 252 -- 75% complete\n"
     ]
    },
    {
     "name": "stderr",
     "output_type": "stream",
     "text": [
      "C:\\Users\\Mya_L\\AppData\\Roaming\\Python\\Python39\\site-packages\\statsmodels\\base\\model.py:604: ConvergenceWarning: Maximum Likelihood optimization failed to converge. Check mle_retvals\n",
      "  warnings.warn(\"Maximum Likelihood optimization failed to \"\n"
     ]
    },
    {
     "name": "stdout",
     "output_type": "stream",
     "text": [
      "working on 191 of 252 -- 75% complete\n"
     ]
    },
    {
     "name": "stderr",
     "output_type": "stream",
     "text": [
      "C:\\Users\\Mya_L\\AppData\\Roaming\\Python\\Python39\\site-packages\\statsmodels\\base\\model.py:604: ConvergenceWarning: Maximum Likelihood optimization failed to converge. Check mle_retvals\n",
      "  warnings.warn(\"Maximum Likelihood optimization failed to \"\n"
     ]
    },
    {
     "name": "stdout",
     "output_type": "stream",
     "text": [
      "working on 192 of 252 -- 76% complete\n",
      "working on 193 of 252 -- 76% complete\n",
      "working on 194 of 252 -- 76% complete\n",
      "working on 195 of 252 -- 77% complete\n",
      "working on 196 of 252 -- 77% complete\n",
      "working on 197 of 252 -- 78% complete\n"
     ]
    },
    {
     "name": "stderr",
     "output_type": "stream",
     "text": [
      "C:\\Users\\Mya_L\\AppData\\Roaming\\Python\\Python39\\site-packages\\statsmodels\\base\\model.py:604: ConvergenceWarning: Maximum Likelihood optimization failed to converge. Check mle_retvals\n",
      "  warnings.warn(\"Maximum Likelihood optimization failed to \"\n"
     ]
    },
    {
     "name": "stdout",
     "output_type": "stream",
     "text": [
      "working on 198 of 252 -- 78% complete\n",
      "working on 199 of 252 -- 78% complete\n"
     ]
    },
    {
     "name": "stderr",
     "output_type": "stream",
     "text": [
      "C:\\Users\\Mya_L\\AppData\\Roaming\\Python\\Python39\\site-packages\\statsmodels\\base\\model.py:604: ConvergenceWarning: Maximum Likelihood optimization failed to converge. Check mle_retvals\n",
      "  warnings.warn(\"Maximum Likelihood optimization failed to \"\n"
     ]
    },
    {
     "name": "stdout",
     "output_type": "stream",
     "text": [
      "working on 200 of 252 -- 79% complete\n",
      "working on 201 of 252 -- 79% complete\n",
      "working on 202 of 252 -- 80% complete\n",
      "working on 203 of 252 -- 80% complete\n"
     ]
    },
    {
     "name": "stderr",
     "output_type": "stream",
     "text": [
      "C:\\Users\\Mya_L\\AppData\\Roaming\\Python\\Python39\\site-packages\\statsmodels\\base\\model.py:604: ConvergenceWarning: Maximum Likelihood optimization failed to converge. Check mle_retvals\n",
      "  warnings.warn(\"Maximum Likelihood optimization failed to \"\n"
     ]
    },
    {
     "name": "stdout",
     "output_type": "stream",
     "text": [
      "working on 204 of 252 -- 80% complete\n",
      "working on 205 of 252 -- 81% complete\n"
     ]
    },
    {
     "name": "stderr",
     "output_type": "stream",
     "text": [
      "C:\\Users\\Mya_L\\AppData\\Roaming\\Python\\Python39\\site-packages\\statsmodels\\base\\model.py:604: ConvergenceWarning: Maximum Likelihood optimization failed to converge. Check mle_retvals\n",
      "  warnings.warn(\"Maximum Likelihood optimization failed to \"\n"
     ]
    },
    {
     "name": "stdout",
     "output_type": "stream",
     "text": [
      "working on 206 of 252 -- 81% complete\n",
      "working on 207 of 252 -- 82% complete\n",
      "working on 208 of 252 -- 82% complete\n",
      "working on 209 of 252 -- 82% complete\n",
      "working on 210 of 252 -- 83% complete\n",
      "working on 211 of 252 -- 83% complete\n",
      "working on 212 of 252 -- 84% complete\n"
     ]
    },
    {
     "name": "stderr",
     "output_type": "stream",
     "text": [
      "C:\\Users\\Mya_L\\AppData\\Roaming\\Python\\Python39\\site-packages\\statsmodels\\base\\model.py:604: ConvergenceWarning: Maximum Likelihood optimization failed to converge. Check mle_retvals\n",
      "  warnings.warn(\"Maximum Likelihood optimization failed to \"\n"
     ]
    },
    {
     "name": "stdout",
     "output_type": "stream",
     "text": [
      "working on 213 of 252 -- 84% complete\n",
      "working on 214 of 252 -- 84% complete\n"
     ]
    },
    {
     "name": "stderr",
     "output_type": "stream",
     "text": [
      "C:\\Users\\Mya_L\\AppData\\Roaming\\Python\\Python39\\site-packages\\statsmodels\\base\\model.py:604: ConvergenceWarning: Maximum Likelihood optimization failed to converge. Check mle_retvals\n",
      "  warnings.warn(\"Maximum Likelihood optimization failed to \"\n"
     ]
    },
    {
     "name": "stdout",
     "output_type": "stream",
     "text": [
      "working on 215 of 252 -- 85% complete\n",
      "working on 216 of 252 -- 85% complete\n",
      "working on 217 of 252 -- 86% complete\n",
      "working on 218 of 252 -- 86% complete\n",
      "working on 219 of 252 -- 86% complete\n",
      "working on 220 of 252 -- 87% complete\n",
      "working on 221 of 252 -- 87% complete\n",
      "working on 222 of 252 -- 88% complete\n",
      "working on 223 of 252 -- 88% complete\n",
      "working on 224 of 252 -- 88% complete\n"
     ]
    },
    {
     "name": "stderr",
     "output_type": "stream",
     "text": [
      "C:\\Users\\Mya_L\\AppData\\Roaming\\Python\\Python39\\site-packages\\statsmodels\\base\\model.py:604: ConvergenceWarning: Maximum Likelihood optimization failed to converge. Check mle_retvals\n",
      "  warnings.warn(\"Maximum Likelihood optimization failed to \"\n"
     ]
    },
    {
     "name": "stdout",
     "output_type": "stream",
     "text": [
      "working on 225 of 252 -- 89% complete\n",
      "working on 226 of 252 -- 89% complete\n",
      "working on 227 of 252 -- 90% complete\n",
      "working on 228 of 252 -- 90% complete\n",
      "working on 229 of 252 -- 90% complete\n",
      "working on 230 of 252 -- 91% complete\n",
      "working on 231 of 252 -- 91% complete\n"
     ]
    },
    {
     "name": "stderr",
     "output_type": "stream",
     "text": [
      "C:\\Users\\Mya_L\\AppData\\Roaming\\Python\\Python39\\site-packages\\statsmodels\\base\\model.py:604: ConvergenceWarning: Maximum Likelihood optimization failed to converge. Check mle_retvals\n",
      "  warnings.warn(\"Maximum Likelihood optimization failed to \"\n"
     ]
    },
    {
     "name": "stdout",
     "output_type": "stream",
     "text": [
      "working on 232 of 252 -- 92% complete\n",
      "working on 233 of 252 -- 92% complete\n"
     ]
    },
    {
     "name": "stderr",
     "output_type": "stream",
     "text": [
      "C:\\Users\\Mya_L\\AppData\\Roaming\\Python\\Python39\\site-packages\\statsmodels\\base\\model.py:604: ConvergenceWarning: Maximum Likelihood optimization failed to converge. Check mle_retvals\n",
      "  warnings.warn(\"Maximum Likelihood optimization failed to \"\n"
     ]
    },
    {
     "name": "stdout",
     "output_type": "stream",
     "text": [
      "working on 234 of 252 -- 92% complete\n",
      "working on 235 of 252 -- 93% complete\n",
      "working on 236 of 252 -- 93% complete\n",
      "working on 237 of 252 -- 94% complete\n"
     ]
    },
    {
     "name": "stderr",
     "output_type": "stream",
     "text": [
      "C:\\Users\\Mya_L\\AppData\\Roaming\\Python\\Python39\\site-packages\\statsmodels\\base\\model.py:604: ConvergenceWarning: Maximum Likelihood optimization failed to converge. Check mle_retvals\n",
      "  warnings.warn(\"Maximum Likelihood optimization failed to \"\n"
     ]
    },
    {
     "name": "stdout",
     "output_type": "stream",
     "text": [
      "working on 238 of 252 -- 94% complete\n",
      "working on 239 of 252 -- 94% complete\n"
     ]
    },
    {
     "name": "stderr",
     "output_type": "stream",
     "text": [
      "C:\\Users\\Mya_L\\AppData\\Roaming\\Python\\Python39\\site-packages\\statsmodels\\base\\model.py:604: ConvergenceWarning: Maximum Likelihood optimization failed to converge. Check mle_retvals\n",
      "  warnings.warn(\"Maximum Likelihood optimization failed to \"\n"
     ]
    },
    {
     "name": "stdout",
     "output_type": "stream",
     "text": [
      "working on 240 of 252 -- 95% complete\n",
      "working on 241 of 252 -- 95% complete\n",
      "working on 242 of 252 -- 96% complete\n",
      "working on 243 of 252 -- 96% complete\n",
      "working on 244 of 252 -- 96% complete\n"
     ]
    },
    {
     "name": "stderr",
     "output_type": "stream",
     "text": [
      "C:\\Users\\Mya_L\\AppData\\Roaming\\Python\\Python39\\site-packages\\statsmodels\\base\\model.py:604: ConvergenceWarning: Maximum Likelihood optimization failed to converge. Check mle_retvals\n",
      "  warnings.warn(\"Maximum Likelihood optimization failed to \"\n"
     ]
    },
    {
     "name": "stdout",
     "output_type": "stream",
     "text": [
      "working on 245 of 252 -- 97% complete\n",
      "working on 246 of 252 -- 97% complete\n",
      "working on 247 of 252 -- 98% complete\n",
      "working on 248 of 252 -- 98% complete\n",
      "working on 249 of 252 -- 98% complete\n",
      "working on 250 of 252 -- 99% complete\n",
      "working on 251 of 252 -- 99% complete\n",
      "working on 252 of 252 -- 100% complete\n",
      "Epoch 1/500\n",
      "996/996 - 9s - loss: 0.0158 - 9s/epoch - 9ms/step\n",
      "Epoch 2/500\n",
      "996/996 - 4s - loss: 0.0051 - 4s/epoch - 4ms/step\n",
      "Epoch 3/500\n",
      "996/996 - 4s - loss: 0.0029 - 4s/epoch - 4ms/step\n",
      "Epoch 4/500\n",
      "996/996 - 5s - loss: 0.0024 - 5s/epoch - 5ms/step\n",
      "Epoch 5/500\n",
      "996/996 - 4s - loss: 0.0021 - 4s/epoch - 4ms/step\n",
      "Epoch 6/500\n",
      "996/996 - 4s - loss: 0.0019 - 4s/epoch - 4ms/step\n",
      "Epoch 7/500\n",
      "996/996 - 5s - loss: 0.0018 - 5s/epoch - 5ms/step\n",
      "Epoch 8/500\n",
      "996/996 - 5s - loss: 0.0017 - 5s/epoch - 5ms/step\n",
      "Epoch 9/500\n",
      "996/996 - 4s - loss: 0.0016 - 4s/epoch - 4ms/step\n",
      "Epoch 10/500\n",
      "996/996 - 4s - loss: 0.0015 - 4s/epoch - 4ms/step\n",
      "Epoch 11/500\n",
      "996/996 - 5s - loss: 0.0014 - 5s/epoch - 5ms/step\n",
      "Epoch 12/500\n",
      "996/996 - 4s - loss: 0.0014 - 4s/epoch - 4ms/step\n",
      "Epoch 13/500\n",
      "996/996 - 4s - loss: 0.0013 - 4s/epoch - 4ms/step\n",
      "Epoch 14/500\n",
      "996/996 - 4s - loss: 0.0013 - 4s/epoch - 4ms/step\n",
      "Epoch 15/500\n",
      "996/996 - 4s - loss: 0.0012 - 4s/epoch - 4ms/step\n",
      "Epoch 16/500\n",
      "996/996 - 4s - loss: 0.0012 - 4s/epoch - 4ms/step\n",
      "Epoch 17/500\n",
      "996/996 - 4s - loss: 0.0011 - 4s/epoch - 4ms/step\n",
      "Epoch 18/500\n",
      "996/996 - 4s - loss: 0.0010 - 4s/epoch - 4ms/step\n",
      "Epoch 19/500\n",
      "996/996 - 4s - loss: 0.0010 - 4s/epoch - 4ms/step\n",
      "Epoch 20/500\n",
      "996/996 - 4s - loss: 9.7665e-04 - 4s/epoch - 4ms/step\n",
      "Epoch 21/500\n",
      "996/996 - 4s - loss: 9.3515e-04 - 4s/epoch - 4ms/step\n",
      "Epoch 22/500\n",
      "996/996 - 4s - loss: 9.0763e-04 - 4s/epoch - 5ms/step\n",
      "Epoch 23/500\n",
      "996/996 - 5s - loss: 8.7378e-04 - 5s/epoch - 5ms/step\n",
      "Epoch 24/500\n",
      "996/996 - 4s - loss: 8.5501e-04 - 4s/epoch - 4ms/step\n",
      "Epoch 25/500\n",
      "996/996 - 4s - loss: 8.2479e-04 - 4s/epoch - 4ms/step\n",
      "Epoch 26/500\n",
      "996/996 - 5s - loss: 7.9954e-04 - 5s/epoch - 5ms/step\n",
      "Epoch 27/500\n",
      "996/996 - 4s - loss: 7.5824e-04 - 4s/epoch - 4ms/step\n",
      "Epoch 28/500\n",
      "996/996 - 4s - loss: 7.5455e-04 - 4s/epoch - 4ms/step\n",
      "Epoch 29/500\n",
      "996/996 - 4s - loss: 7.6843e-04 - 4s/epoch - 4ms/step\n",
      "Epoch 30/500\n",
      "996/996 - 5s - loss: 7.2320e-04 - 5s/epoch - 5ms/step\n",
      "Epoch 31/500\n",
      "996/996 - 4s - loss: 7.1842e-04 - 4s/epoch - 4ms/step\n",
      "Epoch 32/500\n",
      "996/996 - 4s - loss: 6.7111e-04 - 4s/epoch - 4ms/step\n",
      "Epoch 33/500\n",
      "996/996 - 4s - loss: 6.8715e-04 - 4s/epoch - 4ms/step\n",
      "Epoch 34/500\n",
      "996/996 - 5s - loss: 6.7483e-04 - 5s/epoch - 5ms/step\n",
      "Epoch 35/500\n",
      "996/996 - 4s - loss: 6.6107e-04 - 4s/epoch - 4ms/step\n",
      "Epoch 36/500\n",
      "996/996 - 4s - loss: 6.4098e-04 - 4s/epoch - 4ms/step\n",
      "Epoch 37/500\n",
      "996/996 - 4s - loss: 6.5104e-04 - 4s/epoch - 4ms/step\n",
      "Epoch 38/500\n",
      "996/996 - 5s - loss: 6.3668e-04 - 5s/epoch - 5ms/step\n",
      "Epoch 39/500\n",
      "996/996 - 4s - loss: 6.4730e-04 - 4s/epoch - 4ms/step\n",
      "Epoch 40/500\n",
      "996/996 - 4s - loss: 6.4683e-04 - 4s/epoch - 4ms/step\n",
      "Epoch 41/500\n",
      "996/996 - 4s - loss: 6.1958e-04 - 4s/epoch - 4ms/step\n",
      "Epoch 42/500\n",
      "996/996 - 4s - loss: 6.2612e-04 - 4s/epoch - 4ms/step\n",
      "Epoch 43/500\n",
      "996/996 - 4s - loss: 6.3602e-04 - 4s/epoch - 4ms/step\n",
      "Epoch 44/500\n",
      "996/996 - 4s - loss: 6.1503e-04 - 4s/epoch - 4ms/step\n",
      "Epoch 45/500\n",
      "996/996 - 4s - loss: 6.0564e-04 - 4s/epoch - 4ms/step\n",
      "Epoch 46/500\n",
      "996/996 - 4s - loss: 6.2543e-04 - 4s/epoch - 4ms/step\n",
      "Epoch 47/500\n",
      "996/996 - 4s - loss: 6.0468e-04 - 4s/epoch - 4ms/step\n",
      "Epoch 48/500\n",
      "996/996 - 4s - loss: 6.0667e-04 - 4s/epoch - 4ms/step\n",
      "Epoch 49/500\n",
      "996/996 - 4s - loss: 6.2429e-04 - 4s/epoch - 4ms/step\n",
      "Epoch 50/500\n",
      "996/996 - 4s - loss: 6.2361e-04 - 4s/epoch - 4ms/step\n",
      "Epoch 51/500\n",
      "996/996 - 4s - loss: 6.0437e-04 - 4s/epoch - 4ms/step\n",
      "Epoch 52/500\n",
      "996/996 - 4s - loss: 6.4212e-04 - 4s/epoch - 4ms/step\n",
      "Epoch 53/500\n",
      "996/996 - 4s - loss: 5.9176e-04 - 4s/epoch - 4ms/step\n",
      "Epoch 54/500\n",
      "996/996 - 4s - loss: 5.9788e-04 - 4s/epoch - 4ms/step\n",
      "Epoch 55/500\n",
      "996/996 - 4s - loss: 6.1876e-04 - 4s/epoch - 4ms/step\n",
      "Epoch 56/500\n",
      "996/996 - 4s - loss: 6.0415e-04 - 4s/epoch - 4ms/step\n",
      "Epoch 57/500\n",
      "996/996 - 5s - loss: 6.0843e-04 - 5s/epoch - 5ms/step\n",
      "Epoch 58/500\n",
      "996/996 - 5s - loss: 5.9533e-04 - 5s/epoch - 5ms/step\n",
      "Epoch 58: early stopping\n",
      "8/8 [==============================] - 1s 3ms/step\n",
      "\n",
      "SMA\n",
      "Prediction vs Close:\t\t43.43% Accuracy\n",
      "Prediction vs Prediction:\t49.8% Accuracy\n",
      "MSE:\t 0.5882291600317763 \n",
      "RMSE:\t 0.766960989902209 \n",
      "MAPE:\t 0.8670733257276795\n",
      "\n",
      "KAMA\n",
      "Prediction vs Close:\t\t47.01% Accuracy\n",
      "Prediction vs Prediction:\t52.19% Accuracy\n",
      "MSE:\t 0.5570571757960734 \n",
      "RMSE:\t 0.7463626302247945 \n",
      "MAPE:\t 0.8342621224689477\n",
      "\n",
      "MIDPOINT\n",
      "Prediction vs Close:\t\t50.2% Accuracy\n",
      "Prediction vs Prediction:\t48.61% Accuracy\n",
      "MSE:\t 0.5675949938582782 \n",
      "RMSE:\t 0.7533890056659164 \n",
      "MAPE:\t 0.8017630352194047\n",
      "\n",
      "MIDPRICE\n",
      "Prediction vs Close:\t\t49.0% Accuracy\n",
      "Prediction vs Prediction:\t49.8% Accuracy\n",
      "MSE:\t 0.5427674583059358 \n",
      "RMSE:\t 0.7367275332888922 \n",
      "MAPE:\t 0.8194562311404882\n",
      "\n",
      "TRIMA\n",
      "Prediction vs Close:\t\t47.41% Accuracy\n",
      "Prediction vs Prediction:\t51.0% Accuracy\n",
      "MSE:\t 0.5972046975323888 \n",
      "RMSE:\t 0.7727902027927042 \n",
      "MAPE:\t 0.8955219137989977\n"
     ]
    }
   ],
   "source": [
    "if __name__ == '__main__':\n",
    "    # Load historical data\n",
    "    # CSV should have columns: ['date', 'open', 'high', 'low', 'close', 'volume']\n",
    "    data_file = 'C:/Users/Mya_L/Documents/JupyterLab_projects/Suplemnter/Data_for_paper-11-27-22/all_stocks_5yr.csv'\n",
    "    data = pd.read_csv(data_file, index_col=0, header=0).tail(1500).reset_index(drop=True)\n",
    "\n",
    "    # Initialize moving averages from Ta-Lib, store functions in dictionary\n",
    "    talib_moving_averages = ['SMA', 'EMA', 'WMA', 'DEMA', 'KAMA', 'MIDPOINT', 'MIDPRICE', 'T3', 'TEMA', 'TRIMA']\n",
    "    functions = {}\n",
    "    for ma in talib_moving_averages:\n",
    "        functions[ma] = abstract.Function(ma)\n",
    "\n",
    "    # Determine kurtosis \"K\" values for MA period 4-99\n",
    "    kurtosis_results = {'period': []}\n",
    "    for i in range(4, 100):\n",
    "        kurtosis_results['period'].append(i)\n",
    "        for ma in talib_moving_averages:\n",
    "            # Run moving average, remove last 252 days (used later for test data set), trim MA result to last 60 days\n",
    "            ma_output = functions[ma](data[:-252], i).tail(60)\n",
    "\n",
    "            # Determine kurtosis \"K\" value\n",
    "            k = kurtosis(ma_output, fisher=False)\n",
    "\n",
    "            # add to dictionary\n",
    "            if ma not in kurtosis_results.keys():\n",
    "                kurtosis_results[ma] = []\n",
    "            kurtosis_results[ma].append(k)\n",
    "\n",
    "    kurtosis_results = pd.DataFrame(kurtosis_results)\n",
    "    kurtosis_results.to_csv('kurtosis_results.csv')\n",
    "\n",
    "    # Determine period with K closest to 3 +/-5%\n",
    "    optimized_period = {}\n",
    "    for ma in talib_moving_averages:\n",
    "        difference = np.abs(kurtosis_results[ma] - 3)\n",
    "        df = pd.DataFrame({'difference': difference, 'period': kurtosis_results['period']})\n",
    "        df = df.sort_values(by=['difference'], ascending=True).reset_index(drop=True)\n",
    "        if df.at[0, 'difference'] < 3 * 0.05:\n",
    "            optimized_period[ma] = df.at[0, 'period']\n",
    "        else:\n",
    "            print(ma + ' is not viable, best K greater or less than 3 +/-5%')\n",
    "\n",
    "    print('\\nOptimized periods:', optimized_period)\n",
    "\n",
    "    simulation = {}\n",
    "    for ma in optimized_period:\n",
    "        # Split data into low volatility and high volatility time series\n",
    "        low_vol = functions[ma](data, int(optimized_period[ma]))\n",
    "        high_vol = data['close'] - low_vol\n",
    "\n",
    "        # Generate ARIMA and LSTM predictions\n",
    "        print('\\nWorking on ' + ma + ' predictions')\n",
    "        try:\n",
    "            low_vol_prediction, low_vol_mse, low_vol_rmse, low_vol_mape = get_arima(low_vol, 1000, 252)\n",
    "        except:\n",
    "            print('ARIMA error, skipping to next MA type')\n",
    "            continue\n",
    "\n",
    "        high_vol_prediction, high_vol_mse, high_vol_rmse, high_vol_mape = get_lstm(high_vol, 1000, 252)\n",
    "\n",
    "        final_prediction = pd.Series(low_vol_prediction) + pd.Series(high_vol_prediction)\n",
    "        mse = mean_squared_error(final_prediction.values, data['close'].tail(252).values)\n",
    "        rmse = mse ** 0.5\n",
    "        mape = mean_absolute_percentage_error(data['close'].tail(252).reset_index(drop=True), final_prediction)\n",
    "\n",
    "        # Generate prediction accuracy\n",
    "        actual = data['close'].tail(252).values\n",
    "        result_1 = []\n",
    "        result_2 = []\n",
    "        for i in range(1, len(final_prediction)):\n",
    "            # Compare prediction to previous close price\n",
    "            if final_prediction[i] > actual[i-1] and actual[i] > actual[i-1]:\n",
    "                result_1.append(1)\n",
    "            elif final_prediction[i] < actual[i-1] and actual[i] < actual[i-1]:\n",
    "                result_1.append(1)\n",
    "            else:\n",
    "                result_1.append(0)\n",
    "\n",
    "            # Compare prediction to previous prediction\n",
    "            if final_prediction[i] > final_prediction[i-1] and actual[i] > actual[i-1]:\n",
    "                result_2.append(1)\n",
    "            elif final_prediction[i] < final_prediction[i-1] and actual[i] < actual[i-1]:\n",
    "                result_2.append(1)\n",
    "            else:\n",
    "                result_2.append(0)\n",
    "\n",
    "        accuracy_1 = np.mean(result_1)\n",
    "        accuracy_2 = np.mean(result_2)\n",
    "\n",
    "        simulation[ma] = {'low_vol': {'prediction': low_vol_prediction, 'mse': low_vol_mse,\n",
    "                                      'rmse': low_vol_rmse, 'mape': low_vol_mape},\n",
    "                          'high_vol': {'prediction': high_vol_prediction, 'mse': high_vol_mse,\n",
    "                                       'rmse': high_vol_rmse},\n",
    "                          'final': {'prediction': final_prediction.values.tolist(), 'mse': mse,\n",
    "                                    'rmse': rmse, 'mape': mape},\n",
    "                          'accuracy': {'prediction vs close': accuracy_1, 'prediction vs prediction': accuracy_2}}\n",
    "\n",
    "        # save simulation data here as checkpoint\n",
    "        with open('simulation_data.json', 'w') as fp:\n",
    "            json.dump(simulation, fp)\n",
    "\n",
    "    for ma in simulation.keys():\n",
    "        print('\\n' + ma)\n",
    "        print('Prediction vs Close:\\t\\t' + str(round(100*simulation[ma]['accuracy']['prediction vs close'], 2))\n",
    "              + '% Accuracy')\n",
    "        print('Prediction vs Prediction:\\t' + str(round(100*simulation[ma]['accuracy']['prediction vs prediction'], 2))\n",
    "              + '% Accuracy')\n",
    "        print('MSE:\\t', simulation[ma]['final']['mse'],\n",
    "              '\\nRMSE:\\t', simulation[ma]['final']['rmse'],\n",
    "              '\\nMAPE:\\t', simulation[ma]['final']['mape'])"
   ]
  },
  {
   "cell_type": "code",
   "execution_count": 9,
   "id": "f172cdab",
   "metadata": {},
   "outputs": [],
   "source": [
    "accuracy_2 = np.mean(result_2)"
   ]
  },
  {
   "cell_type": "code",
   "execution_count": 29,
   "id": "a66c9571-14a0-401e-bed6-c916e960ef19",
   "metadata": {},
   "outputs": [
    {
     "data": {
      "text/html": [
       "<div>\n",
       "<style scoped>\n",
       "    .dataframe tbody tr th:only-of-type {\n",
       "        vertical-align: middle;\n",
       "    }\n",
       "\n",
       "    .dataframe tbody tr th {\n",
       "        vertical-align: top;\n",
       "    }\n",
       "\n",
       "    .dataframe thead th {\n",
       "        text-align: right;\n",
       "    }\n",
       "</style>\n",
       "<table border=\"1\" class=\"dataframe\">\n",
       "  <thead>\n",
       "    <tr style=\"text-align: right;\">\n",
       "      <th></th>\n",
       "      <th>open</th>\n",
       "      <th>high</th>\n",
       "      <th>low</th>\n",
       "      <th>close</th>\n",
       "      <th>volume</th>\n",
       "      <th>Name</th>\n",
       "    </tr>\n",
       "  </thead>\n",
       "  <tbody>\n",
       "    <tr>\n",
       "      <th>0</th>\n",
       "      <td>44.18</td>\n",
       "      <td>44.5500</td>\n",
       "      <td>44.000</td>\n",
       "      <td>44.55</td>\n",
       "      <td>3605293</td>\n",
       "      <td>ZION</td>\n",
       "    </tr>\n",
       "    <tr>\n",
       "      <th>1</th>\n",
       "      <td>44.65</td>\n",
       "      <td>45.2400</td>\n",
       "      <td>44.510</td>\n",
       "      <td>45.11</td>\n",
       "      <td>2298903</td>\n",
       "      <td>ZION</td>\n",
       "    </tr>\n",
       "    <tr>\n",
       "      <th>2</th>\n",
       "      <td>44.93</td>\n",
       "      <td>45.1600</td>\n",
       "      <td>44.700</td>\n",
       "      <td>44.90</td>\n",
       "      <td>2485994</td>\n",
       "      <td>ZION</td>\n",
       "    </tr>\n",
       "    <tr>\n",
       "      <th>3</th>\n",
       "      <td>48.33</td>\n",
       "      <td>48.3300</td>\n",
       "      <td>45.950</td>\n",
       "      <td>46.53</td>\n",
       "      <td>3320662</td>\n",
       "      <td>ZION</td>\n",
       "    </tr>\n",
       "    <tr>\n",
       "      <th>4</th>\n",
       "      <td>46.67</td>\n",
       "      <td>46.6899</td>\n",
       "      <td>44.960</td>\n",
       "      <td>44.96</td>\n",
       "      <td>2925913</td>\n",
       "      <td>ZION</td>\n",
       "    </tr>\n",
       "    <tr>\n",
       "      <th>5</th>\n",
       "      <td>44.95</td>\n",
       "      <td>45.5700</td>\n",
       "      <td>44.750</td>\n",
       "      <td>45.36</td>\n",
       "      <td>2686381</td>\n",
       "      <td>ZION</td>\n",
       "    </tr>\n",
       "    <tr>\n",
       "      <th>6</th>\n",
       "      <td>45.03</td>\n",
       "      <td>45.4300</td>\n",
       "      <td>44.689</td>\n",
       "      <td>45.33</td>\n",
       "      <td>1706120</td>\n",
       "      <td>ZION</td>\n",
       "    </tr>\n",
       "    <tr>\n",
       "      <th>7</th>\n",
       "      <td>45.40</td>\n",
       "      <td>45.6750</td>\n",
       "      <td>44.970</td>\n",
       "      <td>45.28</td>\n",
       "      <td>1738722</td>\n",
       "      <td>ZION</td>\n",
       "    </tr>\n",
       "    <tr>\n",
       "      <th>8</th>\n",
       "      <td>45.84</td>\n",
       "      <td>46.3000</td>\n",
       "      <td>45.155</td>\n",
       "      <td>45.26</td>\n",
       "      <td>3154365</td>\n",
       "      <td>ZION</td>\n",
       "    </tr>\n",
       "    <tr>\n",
       "      <th>9</th>\n",
       "      <td>45.35</td>\n",
       "      <td>45.7600</td>\n",
       "      <td>45.030</td>\n",
       "      <td>45.28</td>\n",
       "      <td>1963227</td>\n",
       "      <td>ZION</td>\n",
       "    </tr>\n",
       "  </tbody>\n",
       "</table>\n",
       "</div>"
      ],
      "text/plain": [
       "    open     high     low  close   volume  Name\n",
       "0  44.18  44.5500  44.000  44.55  3605293  ZION\n",
       "1  44.65  45.2400  44.510  45.11  2298903  ZION\n",
       "2  44.93  45.1600  44.700  44.90  2485994  ZION\n",
       "3  48.33  48.3300  45.950  46.53  3320662  ZION\n",
       "4  46.67  46.6899  44.960  44.96  2925913  ZION\n",
       "5  44.95  45.5700  44.750  45.36  2686381  ZION\n",
       "6  45.03  45.4300  44.689  45.33  1706120  ZION\n",
       "7  45.40  45.6750  44.970  45.28  1738722  ZION\n",
       "8  45.84  46.3000  45.155  45.26  3154365  ZION\n",
       "9  45.35  45.7600  45.030  45.28  1963227  ZION"
      ]
     },
     "execution_count": 29,
     "metadata": {},
     "output_type": "execute_result"
    }
   ],
   "source": [
    "data.head(10)"
   ]
  }
 ],
 "metadata": {
  "kernelspec": {
   "display_name": "Python 3.9.15 ('Hybrid_ARIMA-LSTM_Model')",
   "language": "python",
   "name": "python3"
  },
  "language_info": {
   "codemirror_mode": {
    "name": "ipython",
    "version": 3
   },
   "file_extension": ".py",
   "mimetype": "text/x-python",
   "name": "python",
   "nbconvert_exporter": "python",
   "pygments_lexer": "ipython3",
   "version": "3.9.15"
  },
  "vscode": {
   "interpreter": {
    "hash": "87e8fd02c69dc1678056600badaeb5b4effedc4cf15b30e66c54f5c3e497717d"
   }
  }
 },
 "nbformat": 4,
 "nbformat_minor": 5
}
